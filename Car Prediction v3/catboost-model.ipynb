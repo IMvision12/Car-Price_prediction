{
 "cells": [
  {
   "cell_type": "code",
   "execution_count": 1,
   "id": "d4e4d7f0",
   "metadata": {
    "_cell_guid": "b1076dfc-b9ad-4769-8c92-a6c4dae69d19",
    "_uuid": "8f2839f25d086af736a60e9eeb907d3b93b6e0e5",
    "execution": {
     "iopub.execute_input": "2022-04-19T11:05:46.480147Z",
     "iopub.status.busy": "2022-04-19T11:05:46.479292Z",
     "iopub.status.idle": "2022-04-19T11:05:47.542129Z",
     "shell.execute_reply": "2022-04-19T11:05:47.541447Z",
     "shell.execute_reply.started": "2022-04-19T10:43:23.426024Z"
    },
    "papermill": {
     "duration": 1.111831,
     "end_time": "2022-04-19T11:05:47.542277",
     "exception": false,
     "start_time": "2022-04-19T11:05:46.430446",
     "status": "completed"
    },
    "tags": []
   },
   "outputs": [],
   "source": [
    "import pandas as pd\n",
    "import numpy as np\n",
    "import matplotlib.pyplot as plt\n",
    "import seaborn as sns\n",
    "from scipy.stats.mstats import normaltest\n",
    "\n",
    "from sklearn.model_selection import train_test_split\n",
    "from sklearn.preprocessing import OrdinalEncoder,OneHotEncoder\n",
    "from sklearn.compose import ColumnTransformer"
   ]
  },
  {
   "cell_type": "code",
   "execution_count": 2,
   "id": "2397054a",
   "metadata": {
    "execution": {
     "iopub.execute_input": "2022-04-19T11:05:47.598886Z",
     "iopub.status.busy": "2022-04-19T11:05:47.598146Z",
     "iopub.status.idle": "2022-04-19T11:05:47.665041Z",
     "shell.execute_reply": "2022-04-19T11:05:47.665442Z",
     "shell.execute_reply.started": "2022-04-19T10:43:24.736737Z"
    },
    "papermill": {
     "duration": 0.097825,
     "end_time": "2022-04-19T11:05:47.665601",
     "exception": false,
     "start_time": "2022-04-19T11:05:47.567776",
     "status": "completed"
    },
    "tags": []
   },
   "outputs": [
    {
     "data": {
      "text/html": [
       "<div>\n",
       "<style scoped>\n",
       "    .dataframe tbody tr th:only-of-type {\n",
       "        vertical-align: middle;\n",
       "    }\n",
       "\n",
       "    .dataframe tbody tr th {\n",
       "        vertical-align: top;\n",
       "    }\n",
       "\n",
       "    .dataframe thead th {\n",
       "        text-align: right;\n",
       "    }\n",
       "</style>\n",
       "<table border=\"1\" class=\"dataframe\">\n",
       "  <thead>\n",
       "    <tr style=\"text-align: right;\">\n",
       "      <th></th>\n",
       "      <th>name</th>\n",
       "      <th>year</th>\n",
       "      <th>selling_price</th>\n",
       "      <th>km_driven</th>\n",
       "      <th>fuel</th>\n",
       "      <th>seller_type</th>\n",
       "      <th>transmission</th>\n",
       "      <th>owner</th>\n",
       "      <th>mileage</th>\n",
       "      <th>engine</th>\n",
       "      <th>max_power</th>\n",
       "      <th>torque</th>\n",
       "      <th>seats</th>\n",
       "    </tr>\n",
       "  </thead>\n",
       "  <tbody>\n",
       "    <tr>\n",
       "      <th>0</th>\n",
       "      <td>Maruti Swift Dzire VDI</td>\n",
       "      <td>2014</td>\n",
       "      <td>450000</td>\n",
       "      <td>145500</td>\n",
       "      <td>Diesel</td>\n",
       "      <td>Individual</td>\n",
       "      <td>Manual</td>\n",
       "      <td>First Owner</td>\n",
       "      <td>23.4 kmpl</td>\n",
       "      <td>1248 CC</td>\n",
       "      <td>74 bhp</td>\n",
       "      <td>190Nm@ 2000rpm</td>\n",
       "      <td>5.0</td>\n",
       "    </tr>\n",
       "    <tr>\n",
       "      <th>1</th>\n",
       "      <td>Skoda Rapid 1.5 TDI Ambition</td>\n",
       "      <td>2014</td>\n",
       "      <td>370000</td>\n",
       "      <td>120000</td>\n",
       "      <td>Diesel</td>\n",
       "      <td>Individual</td>\n",
       "      <td>Manual</td>\n",
       "      <td>Second Owner</td>\n",
       "      <td>21.14 kmpl</td>\n",
       "      <td>1498 CC</td>\n",
       "      <td>103.52 bhp</td>\n",
       "      <td>250Nm@ 1500-2500rpm</td>\n",
       "      <td>5.0</td>\n",
       "    </tr>\n",
       "    <tr>\n",
       "      <th>2</th>\n",
       "      <td>Honda City 2017-2020 EXi</td>\n",
       "      <td>2006</td>\n",
       "      <td>158000</td>\n",
       "      <td>140000</td>\n",
       "      <td>Petrol</td>\n",
       "      <td>Individual</td>\n",
       "      <td>Manual</td>\n",
       "      <td>Third Owner</td>\n",
       "      <td>17.7 kmpl</td>\n",
       "      <td>1497 CC</td>\n",
       "      <td>78 bhp</td>\n",
       "      <td>12.7@ 2,700(kgm@ rpm)</td>\n",
       "      <td>5.0</td>\n",
       "    </tr>\n",
       "    <tr>\n",
       "      <th>3</th>\n",
       "      <td>Hyundai i20 Sportz Diesel</td>\n",
       "      <td>2010</td>\n",
       "      <td>225000</td>\n",
       "      <td>127000</td>\n",
       "      <td>Diesel</td>\n",
       "      <td>Individual</td>\n",
       "      <td>Manual</td>\n",
       "      <td>First Owner</td>\n",
       "      <td>23.0 kmpl</td>\n",
       "      <td>1396 CC</td>\n",
       "      <td>90 bhp</td>\n",
       "      <td>22.4 kgm at 1750-2750rpm</td>\n",
       "      <td>5.0</td>\n",
       "    </tr>\n",
       "    <tr>\n",
       "      <th>4</th>\n",
       "      <td>Maruti Swift VXI BSIII</td>\n",
       "      <td>2007</td>\n",
       "      <td>130000</td>\n",
       "      <td>120000</td>\n",
       "      <td>Petrol</td>\n",
       "      <td>Individual</td>\n",
       "      <td>Manual</td>\n",
       "      <td>First Owner</td>\n",
       "      <td>16.1 kmpl</td>\n",
       "      <td>1298 CC</td>\n",
       "      <td>88.2 bhp</td>\n",
       "      <td>11.5@ 4,500(kgm@ rpm)</td>\n",
       "      <td>5.0</td>\n",
       "    </tr>\n",
       "  </tbody>\n",
       "</table>\n",
       "</div>"
      ],
      "text/plain": [
       "                           name  year  selling_price  km_driven    fuel  \\\n",
       "0        Maruti Swift Dzire VDI  2014         450000     145500  Diesel   \n",
       "1  Skoda Rapid 1.5 TDI Ambition  2014         370000     120000  Diesel   \n",
       "2      Honda City 2017-2020 EXi  2006         158000     140000  Petrol   \n",
       "3     Hyundai i20 Sportz Diesel  2010         225000     127000  Diesel   \n",
       "4        Maruti Swift VXI BSIII  2007         130000     120000  Petrol   \n",
       "\n",
       "  seller_type transmission         owner     mileage   engine   max_power  \\\n",
       "0  Individual       Manual   First Owner   23.4 kmpl  1248 CC      74 bhp   \n",
       "1  Individual       Manual  Second Owner  21.14 kmpl  1498 CC  103.52 bhp   \n",
       "2  Individual       Manual   Third Owner   17.7 kmpl  1497 CC      78 bhp   \n",
       "3  Individual       Manual   First Owner   23.0 kmpl  1396 CC      90 bhp   \n",
       "4  Individual       Manual   First Owner   16.1 kmpl  1298 CC    88.2 bhp   \n",
       "\n",
       "                     torque  seats  \n",
       "0            190Nm@ 2000rpm    5.0  \n",
       "1       250Nm@ 1500-2500rpm    5.0  \n",
       "2     12.7@ 2,700(kgm@ rpm)    5.0  \n",
       "3  22.4 kgm at 1750-2750rpm    5.0  \n",
       "4     11.5@ 4,500(kgm@ rpm)    5.0  "
      ]
     },
     "execution_count": 2,
     "metadata": {},
     "output_type": "execute_result"
    }
   ],
   "source": [
    "df = pd.read_csv(\"../input/vehicle-dataset-from-cardekho/Car details v3.csv\")\n",
    "df.head()"
   ]
  },
  {
   "cell_type": "code",
   "execution_count": 3,
   "id": "3b3c62c9",
   "metadata": {
    "execution": {
     "iopub.execute_input": "2022-04-19T11:05:47.738511Z",
     "iopub.status.busy": "2022-04-19T11:05:47.737662Z",
     "iopub.status.idle": "2022-04-19T11:05:47.740671Z",
     "shell.execute_reply": "2022-04-19T11:05:47.741075Z",
     "shell.execute_reply.started": "2022-04-19T10:43:25.308029Z"
    },
    "papermill": {
     "duration": 0.049494,
     "end_time": "2022-04-19T11:05:47.741214",
     "exception": false,
     "start_time": "2022-04-19T11:05:47.691720",
     "status": "completed"
    },
    "tags": []
   },
   "outputs": [
    {
     "data": {
      "text/html": [
       "<div>\n",
       "<style scoped>\n",
       "    .dataframe tbody tr th:only-of-type {\n",
       "        vertical-align: middle;\n",
       "    }\n",
       "\n",
       "    .dataframe tbody tr th {\n",
       "        vertical-align: top;\n",
       "    }\n",
       "\n",
       "    .dataframe thead th {\n",
       "        text-align: right;\n",
       "    }\n",
       "</style>\n",
       "<table border=\"1\" class=\"dataframe\">\n",
       "  <thead>\n",
       "    <tr style=\"text-align: right;\">\n",
       "      <th></th>\n",
       "      <th>name</th>\n",
       "      <th>year</th>\n",
       "      <th>selling_price</th>\n",
       "      <th>km_driven</th>\n",
       "      <th>fuel</th>\n",
       "      <th>seller_type</th>\n",
       "      <th>transmission</th>\n",
       "      <th>owner</th>\n",
       "      <th>mileage</th>\n",
       "      <th>engine</th>\n",
       "      <th>max_power</th>\n",
       "      <th>torque</th>\n",
       "      <th>seats</th>\n",
       "    </tr>\n",
       "  </thead>\n",
       "  <tbody>\n",
       "    <tr>\n",
       "      <th>4383</th>\n",
       "      <td>Volkswagen Vento 1.5 TDI Highline BSIV</td>\n",
       "      <td>2019</td>\n",
       "      <td>1350000</td>\n",
       "      <td>5400</td>\n",
       "      <td>Diesel</td>\n",
       "      <td>Dealer</td>\n",
       "      <td>Manual</td>\n",
       "      <td>Test Drive Car</td>\n",
       "      <td>22.27 kmpl</td>\n",
       "      <td>1498 CC</td>\n",
       "      <td>108.6 bhp</td>\n",
       "      <td>250Nm@ 1500-3000rpm</td>\n",
       "      <td>5.0</td>\n",
       "    </tr>\n",
       "    <tr>\n",
       "      <th>4950</th>\n",
       "      <td>Audi A6 35 TFSI Matrix</td>\n",
       "      <td>2019</td>\n",
       "      <td>6223000</td>\n",
       "      <td>7800</td>\n",
       "      <td>Petrol</td>\n",
       "      <td>Dealer</td>\n",
       "      <td>Automatic</td>\n",
       "      <td>Test Drive Car</td>\n",
       "      <td>15.26 kmpl</td>\n",
       "      <td>1798 CC</td>\n",
       "      <td>187.74 bhp</td>\n",
       "      <td>320Nm@ 1400-4100rpm</td>\n",
       "      <td>5.0</td>\n",
       "    </tr>\n",
       "    <tr>\n",
       "      <th>4951</th>\n",
       "      <td>Audi A6 35 TFSI Matrix</td>\n",
       "      <td>2019</td>\n",
       "      <td>5923000</td>\n",
       "      <td>11500</td>\n",
       "      <td>Petrol</td>\n",
       "      <td>Dealer</td>\n",
       "      <td>Automatic</td>\n",
       "      <td>Test Drive Car</td>\n",
       "      <td>15.26 kmpl</td>\n",
       "      <td>1798 CC</td>\n",
       "      <td>187.74 bhp</td>\n",
       "      <td>320Nm@ 1400-4100rpm</td>\n",
       "      <td>5.0</td>\n",
       "    </tr>\n",
       "    <tr>\n",
       "      <th>4952</th>\n",
       "      <td>Audi A6 35 TFSI Matrix</td>\n",
       "      <td>2019</td>\n",
       "      <td>6523000</td>\n",
       "      <td>23600</td>\n",
       "      <td>Petrol</td>\n",
       "      <td>Dealer</td>\n",
       "      <td>Automatic</td>\n",
       "      <td>Test Drive Car</td>\n",
       "      <td>15.26 kmpl</td>\n",
       "      <td>1798 CC</td>\n",
       "      <td>187.74 bhp</td>\n",
       "      <td>320Nm@ 1400-4100rpm</td>\n",
       "      <td>5.0</td>\n",
       "    </tr>\n",
       "    <tr>\n",
       "      <th>6220</th>\n",
       "      <td>Honda Civic ZX</td>\n",
       "      <td>2019</td>\n",
       "      <td>2000000</td>\n",
       "      <td>24857</td>\n",
       "      <td>Petrol</td>\n",
       "      <td>Dealer</td>\n",
       "      <td>Automatic</td>\n",
       "      <td>Test Drive Car</td>\n",
       "      <td>16.5 kmpl</td>\n",
       "      <td>1799 CC</td>\n",
       "      <td>139.46 bhp</td>\n",
       "      <td>174Nm@ 4300rpm</td>\n",
       "      <td>5.0</td>\n",
       "    </tr>\n",
       "  </tbody>\n",
       "</table>\n",
       "</div>"
      ],
      "text/plain": [
       "                                        name  year  selling_price  km_driven  \\\n",
       "4383  Volkswagen Vento 1.5 TDI Highline BSIV  2019        1350000       5400   \n",
       "4950                  Audi A6 35 TFSI Matrix  2019        6223000       7800   \n",
       "4951                  Audi A6 35 TFSI Matrix  2019        5923000      11500   \n",
       "4952                  Audi A6 35 TFSI Matrix  2019        6523000      23600   \n",
       "6220                          Honda Civic ZX  2019        2000000      24857   \n",
       "\n",
       "        fuel seller_type transmission           owner     mileage   engine  \\\n",
       "4383  Diesel      Dealer       Manual  Test Drive Car  22.27 kmpl  1498 CC   \n",
       "4950  Petrol      Dealer    Automatic  Test Drive Car  15.26 kmpl  1798 CC   \n",
       "4951  Petrol      Dealer    Automatic  Test Drive Car  15.26 kmpl  1798 CC   \n",
       "4952  Petrol      Dealer    Automatic  Test Drive Car  15.26 kmpl  1798 CC   \n",
       "6220  Petrol      Dealer    Automatic  Test Drive Car   16.5 kmpl  1799 CC   \n",
       "\n",
       "       max_power               torque  seats  \n",
       "4383   108.6 bhp  250Nm@ 1500-3000rpm    5.0  \n",
       "4950  187.74 bhp  320Nm@ 1400-4100rpm    5.0  \n",
       "4951  187.74 bhp  320Nm@ 1400-4100rpm    5.0  \n",
       "4952  187.74 bhp  320Nm@ 1400-4100rpm    5.0  \n",
       "6220  139.46 bhp       174Nm@ 4300rpm    5.0  "
      ]
     },
     "execution_count": 3,
     "metadata": {},
     "output_type": "execute_result"
    }
   ],
   "source": [
    "df[df.owner=='Test Drive Car'].head()"
   ]
  },
  {
   "cell_type": "code",
   "execution_count": 4,
   "id": "a66678c7",
   "metadata": {
    "execution": {
     "iopub.execute_input": "2022-04-19T11:05:47.807249Z",
     "iopub.status.busy": "2022-04-19T11:05:47.806440Z",
     "iopub.status.idle": "2022-04-19T11:05:47.812403Z",
     "shell.execute_reply": "2022-04-19T11:05:47.811986Z",
     "shell.execute_reply.started": "2022-04-19T10:43:25.941136Z"
    },
    "papermill": {
     "duration": 0.044784,
     "end_time": "2022-04-19T11:05:47.812549",
     "exception": false,
     "start_time": "2022-04-19T11:05:47.767765",
     "status": "completed"
    },
    "tags": []
   },
   "outputs": [],
   "source": [
    "df.dropna(axis=0,inplace=True)\n",
    "df['current_year'] = 2021"
   ]
  },
  {
   "cell_type": "code",
   "execution_count": 5,
   "id": "fa50a591",
   "metadata": {
    "execution": {
     "iopub.execute_input": "2022-04-19T11:05:47.872455Z",
     "iopub.status.busy": "2022-04-19T11:05:47.871634Z",
     "iopub.status.idle": "2022-04-19T11:05:47.885583Z",
     "shell.execute_reply": "2022-04-19T11:05:47.885992Z",
     "shell.execute_reply.started": "2022-04-19T10:43:26.589671Z"
    },
    "papermill": {
     "duration": 0.047164,
     "end_time": "2022-04-19T11:05:47.886134",
     "exception": false,
     "start_time": "2022-04-19T11:05:47.838970",
     "status": "completed"
    },
    "tags": []
   },
   "outputs": [
    {
     "data": {
      "text/html": [
       "<div>\n",
       "<style scoped>\n",
       "    .dataframe tbody tr th:only-of-type {\n",
       "        vertical-align: middle;\n",
       "    }\n",
       "\n",
       "    .dataframe tbody tr th {\n",
       "        vertical-align: top;\n",
       "    }\n",
       "\n",
       "    .dataframe thead th {\n",
       "        text-align: right;\n",
       "    }\n",
       "</style>\n",
       "<table border=\"1\" class=\"dataframe\">\n",
       "  <thead>\n",
       "    <tr style=\"text-align: right;\">\n",
       "      <th></th>\n",
       "      <th>name</th>\n",
       "      <th>selling_price</th>\n",
       "      <th>km_driven</th>\n",
       "      <th>fuel</th>\n",
       "      <th>seller_type</th>\n",
       "      <th>transmission</th>\n",
       "      <th>owner</th>\n",
       "      <th>mileage</th>\n",
       "      <th>engine</th>\n",
       "      <th>max_power</th>\n",
       "      <th>torque</th>\n",
       "      <th>seats</th>\n",
       "      <th>No of years</th>\n",
       "    </tr>\n",
       "  </thead>\n",
       "  <tbody>\n",
       "    <tr>\n",
       "      <th>0</th>\n",
       "      <td>Maruti Swift Dzire VDI</td>\n",
       "      <td>450000</td>\n",
       "      <td>145500</td>\n",
       "      <td>Diesel</td>\n",
       "      <td>Individual</td>\n",
       "      <td>Manual</td>\n",
       "      <td>First Owner</td>\n",
       "      <td>23.4 kmpl</td>\n",
       "      <td>1248 CC</td>\n",
       "      <td>74 bhp</td>\n",
       "      <td>190Nm@ 2000rpm</td>\n",
       "      <td>5.0</td>\n",
       "      <td>7</td>\n",
       "    </tr>\n",
       "    <tr>\n",
       "      <th>1</th>\n",
       "      <td>Skoda Rapid 1.5 TDI Ambition</td>\n",
       "      <td>370000</td>\n",
       "      <td>120000</td>\n",
       "      <td>Diesel</td>\n",
       "      <td>Individual</td>\n",
       "      <td>Manual</td>\n",
       "      <td>Second Owner</td>\n",
       "      <td>21.14 kmpl</td>\n",
       "      <td>1498 CC</td>\n",
       "      <td>103.52 bhp</td>\n",
       "      <td>250Nm@ 1500-2500rpm</td>\n",
       "      <td>5.0</td>\n",
       "      <td>7</td>\n",
       "    </tr>\n",
       "    <tr>\n",
       "      <th>2</th>\n",
       "      <td>Honda City 2017-2020 EXi</td>\n",
       "      <td>158000</td>\n",
       "      <td>140000</td>\n",
       "      <td>Petrol</td>\n",
       "      <td>Individual</td>\n",
       "      <td>Manual</td>\n",
       "      <td>Third Owner</td>\n",
       "      <td>17.7 kmpl</td>\n",
       "      <td>1497 CC</td>\n",
       "      <td>78 bhp</td>\n",
       "      <td>12.7@ 2,700(kgm@ rpm)</td>\n",
       "      <td>5.0</td>\n",
       "      <td>15</td>\n",
       "    </tr>\n",
       "    <tr>\n",
       "      <th>3</th>\n",
       "      <td>Hyundai i20 Sportz Diesel</td>\n",
       "      <td>225000</td>\n",
       "      <td>127000</td>\n",
       "      <td>Diesel</td>\n",
       "      <td>Individual</td>\n",
       "      <td>Manual</td>\n",
       "      <td>First Owner</td>\n",
       "      <td>23.0 kmpl</td>\n",
       "      <td>1396 CC</td>\n",
       "      <td>90 bhp</td>\n",
       "      <td>22.4 kgm at 1750-2750rpm</td>\n",
       "      <td>5.0</td>\n",
       "      <td>11</td>\n",
       "    </tr>\n",
       "    <tr>\n",
       "      <th>4</th>\n",
       "      <td>Maruti Swift VXI BSIII</td>\n",
       "      <td>130000</td>\n",
       "      <td>120000</td>\n",
       "      <td>Petrol</td>\n",
       "      <td>Individual</td>\n",
       "      <td>Manual</td>\n",
       "      <td>First Owner</td>\n",
       "      <td>16.1 kmpl</td>\n",
       "      <td>1298 CC</td>\n",
       "      <td>88.2 bhp</td>\n",
       "      <td>11.5@ 4,500(kgm@ rpm)</td>\n",
       "      <td>5.0</td>\n",
       "      <td>14</td>\n",
       "    </tr>\n",
       "  </tbody>\n",
       "</table>\n",
       "</div>"
      ],
      "text/plain": [
       "                           name  selling_price  km_driven    fuel seller_type  \\\n",
       "0        Maruti Swift Dzire VDI         450000     145500  Diesel  Individual   \n",
       "1  Skoda Rapid 1.5 TDI Ambition         370000     120000  Diesel  Individual   \n",
       "2      Honda City 2017-2020 EXi         158000     140000  Petrol  Individual   \n",
       "3     Hyundai i20 Sportz Diesel         225000     127000  Diesel  Individual   \n",
       "4        Maruti Swift VXI BSIII         130000     120000  Petrol  Individual   \n",
       "\n",
       "  transmission         owner     mileage   engine   max_power  \\\n",
       "0       Manual   First Owner   23.4 kmpl  1248 CC      74 bhp   \n",
       "1       Manual  Second Owner  21.14 kmpl  1498 CC  103.52 bhp   \n",
       "2       Manual   Third Owner   17.7 kmpl  1497 CC      78 bhp   \n",
       "3       Manual   First Owner   23.0 kmpl  1396 CC      90 bhp   \n",
       "4       Manual   First Owner   16.1 kmpl  1298 CC    88.2 bhp   \n",
       "\n",
       "                     torque  seats  No of years  \n",
       "0            190Nm@ 2000rpm    5.0            7  \n",
       "1       250Nm@ 1500-2500rpm    5.0            7  \n",
       "2     12.7@ 2,700(kgm@ rpm)    5.0           15  \n",
       "3  22.4 kgm at 1750-2750rpm    5.0           11  \n",
       "4     11.5@ 4,500(kgm@ rpm)    5.0           14  "
      ]
     },
     "execution_count": 5,
     "metadata": {},
     "output_type": "execute_result"
    }
   ],
   "source": [
    "df['No of years'] = df['current_year']-df['year']\n",
    "df.drop(['current_year','year'],axis=1,inplace=True)\n",
    "df.head()"
   ]
  },
  {
   "cell_type": "code",
   "execution_count": 6,
   "id": "98956362",
   "metadata": {
    "execution": {
     "iopub.execute_input": "2022-04-19T11:05:47.959119Z",
     "iopub.status.busy": "2022-04-19T11:05:47.958426Z",
     "iopub.status.idle": "2022-04-19T11:05:47.960948Z",
     "shell.execute_reply": "2022-04-19T11:05:47.961322Z",
     "shell.execute_reply.started": "2022-04-19T10:43:27.197482Z"
    },
    "papermill": {
     "duration": 0.048769,
     "end_time": "2022-04-19T11:05:47.961468",
     "exception": false,
     "start_time": "2022-04-19T11:05:47.912699",
     "status": "completed"
    },
    "tags": []
   },
   "outputs": [],
   "source": [
    "# Handling mileage col\n",
    "df['mileage'] = df['mileage'].str.split(expand=True)[0]\n",
    "df['mileage'] = df['mileage'].astype('float64')"
   ]
  },
  {
   "cell_type": "code",
   "execution_count": 7,
   "id": "00d38f29",
   "metadata": {
    "execution": {
     "iopub.execute_input": "2022-04-19T11:05:48.034425Z",
     "iopub.status.busy": "2022-04-19T11:05:48.033833Z",
     "iopub.status.idle": "2022-04-19T11:05:48.036746Z",
     "shell.execute_reply": "2022-04-19T11:05:48.036308Z",
     "shell.execute_reply.started": "2022-04-19T10:43:27.810901Z"
    },
    "papermill": {
     "duration": 0.047335,
     "end_time": "2022-04-19T11:05:48.036864",
     "exception": false,
     "start_time": "2022-04-19T11:05:47.989529",
     "status": "completed"
    },
    "tags": []
   },
   "outputs": [],
   "source": [
    "# Handling engine col\n",
    "df['engine'] = df['engine'].str.split(expand=True)[0]\n",
    "df['engine'] = df['engine'].astype('int32')"
   ]
  },
  {
   "cell_type": "code",
   "execution_count": 8,
   "id": "85399930",
   "metadata": {
    "execution": {
     "iopub.execute_input": "2022-04-19T11:05:48.108597Z",
     "iopub.status.busy": "2022-04-19T11:05:48.107997Z",
     "iopub.status.idle": "2022-04-19T11:05:48.110867Z",
     "shell.execute_reply": "2022-04-19T11:05:48.110424Z",
     "shell.execute_reply.started": "2022-04-19T10:43:28.433196Z"
    },
    "papermill": {
     "duration": 0.04791,
     "end_time": "2022-04-19T11:05:48.110999",
     "exception": false,
     "start_time": "2022-04-19T11:05:48.063089",
     "status": "completed"
    },
    "tags": []
   },
   "outputs": [],
   "source": [
    "# Handling max_power col\n",
    "df['max_power'] = df['max_power'].str.split(expand=True)[0]\n",
    "df['max_power'] = df['max_power'].astype('float64')"
   ]
  },
  {
   "cell_type": "code",
   "execution_count": 9,
   "id": "1c5058df",
   "metadata": {
    "execution": {
     "iopub.execute_input": "2022-04-19T11:05:48.170364Z",
     "iopub.status.busy": "2022-04-19T11:05:48.169501Z",
     "iopub.status.idle": "2022-04-19T11:05:48.171210Z",
     "shell.execute_reply": "2022-04-19T11:05:48.171657Z",
     "shell.execute_reply.started": "2022-04-19T10:43:31.946923Z"
    },
    "papermill": {
     "duration": 0.03366,
     "end_time": "2022-04-19T11:05:48.171792",
     "exception": false,
     "start_time": "2022-04-19T11:05:48.138132",
     "status": "completed"
    },
    "tags": []
   },
   "outputs": [],
   "source": [
    "# Handling selling_price\n",
    "df['selling_price'] = df['selling_price'] / 10000"
   ]
  },
  {
   "cell_type": "code",
   "execution_count": 10,
   "id": "051694c8",
   "metadata": {
    "execution": {
     "iopub.execute_input": "2022-04-19T11:05:48.242294Z",
     "iopub.status.busy": "2022-04-19T11:05:48.241436Z",
     "iopub.status.idle": "2022-04-19T11:05:48.262748Z",
     "shell.execute_reply": "2022-04-19T11:05:48.263163Z",
     "shell.execute_reply.started": "2022-04-19T10:43:33.128599Z"
    },
    "papermill": {
     "duration": 0.065225,
     "end_time": "2022-04-19T11:05:48.263324",
     "exception": false,
     "start_time": "2022-04-19T11:05:48.198099",
     "status": "completed"
    },
    "tags": []
   },
   "outputs": [
    {
     "data": {
      "text/html": [
       "<div>\n",
       "<style scoped>\n",
       "    .dataframe tbody tr th:only-of-type {\n",
       "        vertical-align: middle;\n",
       "    }\n",
       "\n",
       "    .dataframe tbody tr th {\n",
       "        vertical-align: top;\n",
       "    }\n",
       "\n",
       "    .dataframe thead th {\n",
       "        text-align: right;\n",
       "    }\n",
       "</style>\n",
       "<table border=\"1\" class=\"dataframe\">\n",
       "  <thead>\n",
       "    <tr style=\"text-align: right;\">\n",
       "      <th></th>\n",
       "      <th>name</th>\n",
       "      <th>selling_price</th>\n",
       "      <th>km_driven</th>\n",
       "      <th>fuel</th>\n",
       "      <th>seller_type</th>\n",
       "      <th>transmission</th>\n",
       "      <th>owner</th>\n",
       "      <th>mileage</th>\n",
       "      <th>engine</th>\n",
       "      <th>max_power</th>\n",
       "      <th>torque</th>\n",
       "      <th>seats</th>\n",
       "      <th>No of years</th>\n",
       "    </tr>\n",
       "  </thead>\n",
       "  <tbody>\n",
       "    <tr>\n",
       "      <th>0</th>\n",
       "      <td>Maruti Swift Dzire VDI</td>\n",
       "      <td>45.0</td>\n",
       "      <td>145500</td>\n",
       "      <td>Diesel</td>\n",
       "      <td>Individual</td>\n",
       "      <td>Manual</td>\n",
       "      <td>First Owner</td>\n",
       "      <td>23.40</td>\n",
       "      <td>1248</td>\n",
       "      <td>74.00</td>\n",
       "      <td>190Nm@ 2000rpm</td>\n",
       "      <td>5</td>\n",
       "      <td>7</td>\n",
       "    </tr>\n",
       "    <tr>\n",
       "      <th>1</th>\n",
       "      <td>Skoda Rapid 1.5 TDI Ambition</td>\n",
       "      <td>37.0</td>\n",
       "      <td>120000</td>\n",
       "      <td>Diesel</td>\n",
       "      <td>Individual</td>\n",
       "      <td>Manual</td>\n",
       "      <td>Second Owner</td>\n",
       "      <td>21.14</td>\n",
       "      <td>1498</td>\n",
       "      <td>103.52</td>\n",
       "      <td>250Nm@ 1500-2500rpm</td>\n",
       "      <td>5</td>\n",
       "      <td>7</td>\n",
       "    </tr>\n",
       "    <tr>\n",
       "      <th>2</th>\n",
       "      <td>Honda City 2017-2020 EXi</td>\n",
       "      <td>15.8</td>\n",
       "      <td>140000</td>\n",
       "      <td>Petrol</td>\n",
       "      <td>Individual</td>\n",
       "      <td>Manual</td>\n",
       "      <td>Third Owner</td>\n",
       "      <td>17.70</td>\n",
       "      <td>1497</td>\n",
       "      <td>78.00</td>\n",
       "      <td>12.7@ 2,700(kgm@ rpm)</td>\n",
       "      <td>5</td>\n",
       "      <td>15</td>\n",
       "    </tr>\n",
       "    <tr>\n",
       "      <th>3</th>\n",
       "      <td>Hyundai i20 Sportz Diesel</td>\n",
       "      <td>22.5</td>\n",
       "      <td>127000</td>\n",
       "      <td>Diesel</td>\n",
       "      <td>Individual</td>\n",
       "      <td>Manual</td>\n",
       "      <td>First Owner</td>\n",
       "      <td>23.00</td>\n",
       "      <td>1396</td>\n",
       "      <td>90.00</td>\n",
       "      <td>22.4 kgm at 1750-2750rpm</td>\n",
       "      <td>5</td>\n",
       "      <td>11</td>\n",
       "    </tr>\n",
       "    <tr>\n",
       "      <th>4</th>\n",
       "      <td>Maruti Swift VXI BSIII</td>\n",
       "      <td>13.0</td>\n",
       "      <td>120000</td>\n",
       "      <td>Petrol</td>\n",
       "      <td>Individual</td>\n",
       "      <td>Manual</td>\n",
       "      <td>First Owner</td>\n",
       "      <td>16.10</td>\n",
       "      <td>1298</td>\n",
       "      <td>88.20</td>\n",
       "      <td>11.5@ 4,500(kgm@ rpm)</td>\n",
       "      <td>5</td>\n",
       "      <td>14</td>\n",
       "    </tr>\n",
       "  </tbody>\n",
       "</table>\n",
       "</div>"
      ],
      "text/plain": [
       "                           name  selling_price  km_driven    fuel seller_type  \\\n",
       "0        Maruti Swift Dzire VDI           45.0     145500  Diesel  Individual   \n",
       "1  Skoda Rapid 1.5 TDI Ambition           37.0     120000  Diesel  Individual   \n",
       "2      Honda City 2017-2020 EXi           15.8     140000  Petrol  Individual   \n",
       "3     Hyundai i20 Sportz Diesel           22.5     127000  Diesel  Individual   \n",
       "4        Maruti Swift VXI BSIII           13.0     120000  Petrol  Individual   \n",
       "\n",
       "  transmission         owner  mileage  engine  max_power  \\\n",
       "0       Manual   First Owner    23.40    1248      74.00   \n",
       "1       Manual  Second Owner    21.14    1498     103.52   \n",
       "2       Manual   Third Owner    17.70    1497      78.00   \n",
       "3       Manual   First Owner    23.00    1396      90.00   \n",
       "4       Manual   First Owner    16.10    1298      88.20   \n",
       "\n",
       "                     torque  seats  No of years  \n",
       "0            190Nm@ 2000rpm      5            7  \n",
       "1       250Nm@ 1500-2500rpm      5            7  \n",
       "2     12.7@ 2,700(kgm@ rpm)      5           15  \n",
       "3  22.4 kgm at 1750-2750rpm      5           11  \n",
       "4     11.5@ 4,500(kgm@ rpm)      5           14  "
      ]
     },
     "execution_count": 10,
     "metadata": {},
     "output_type": "execute_result"
    }
   ],
   "source": [
    "df['seats'] = df['seats'].astype('int32')\n",
    "df.head()"
   ]
  },
  {
   "cell_type": "markdown",
   "id": "fd46bb96",
   "metadata": {
    "papermill": {
     "duration": 0.049439,
     "end_time": "2022-04-19T11:05:48.363078",
     "exception": false,
     "start_time": "2022-04-19T11:05:48.313639",
     "status": "completed"
    },
    "tags": []
   },
   "source": [
    "# Handling name column"
   ]
  },
  {
   "cell_type": "code",
   "execution_count": 11,
   "id": "b9203d12",
   "metadata": {
    "execution": {
     "iopub.execute_input": "2022-04-19T11:05:48.464985Z",
     "iopub.status.busy": "2022-04-19T11:05:48.464225Z",
     "iopub.status.idle": "2022-04-19T11:05:48.515919Z",
     "shell.execute_reply": "2022-04-19T11:05:48.516890Z",
     "shell.execute_reply.started": "2022-04-19T10:43:44.105584Z"
    },
    "papermill": {
     "duration": 0.105258,
     "end_time": "2022-04-19T11:05:48.517095",
     "exception": false,
     "start_time": "2022-04-19T11:05:48.411837",
     "status": "completed"
    },
    "tags": []
   },
   "outputs": [
    {
     "data": {
      "text/html": [
       "<div>\n",
       "<style scoped>\n",
       "    .dataframe tbody tr th:only-of-type {\n",
       "        vertical-align: middle;\n",
       "    }\n",
       "\n",
       "    .dataframe tbody tr th {\n",
       "        vertical-align: top;\n",
       "    }\n",
       "\n",
       "    .dataframe thead th {\n",
       "        text-align: right;\n",
       "    }\n",
       "</style>\n",
       "<table border=\"1\" class=\"dataframe\">\n",
       "  <thead>\n",
       "    <tr style=\"text-align: right;\">\n",
       "      <th></th>\n",
       "      <th>selling_price</th>\n",
       "      <th>km_driven</th>\n",
       "      <th>fuel</th>\n",
       "      <th>seller_type</th>\n",
       "      <th>transmission</th>\n",
       "      <th>owner</th>\n",
       "      <th>mileage</th>\n",
       "      <th>engine</th>\n",
       "      <th>max_power</th>\n",
       "      <th>torque</th>\n",
       "      <th>seats</th>\n",
       "      <th>No of years</th>\n",
       "      <th>Brand</th>\n",
       "    </tr>\n",
       "  </thead>\n",
       "  <tbody>\n",
       "    <tr>\n",
       "      <th>0</th>\n",
       "      <td>45.0</td>\n",
       "      <td>145500</td>\n",
       "      <td>Diesel</td>\n",
       "      <td>Individual</td>\n",
       "      <td>Manual</td>\n",
       "      <td>First Owner</td>\n",
       "      <td>23.40</td>\n",
       "      <td>1248</td>\n",
       "      <td>74.00</td>\n",
       "      <td>190Nm@ 2000rpm</td>\n",
       "      <td>5</td>\n",
       "      <td>7</td>\n",
       "      <td>Maruti</td>\n",
       "    </tr>\n",
       "    <tr>\n",
       "      <th>1</th>\n",
       "      <td>37.0</td>\n",
       "      <td>120000</td>\n",
       "      <td>Diesel</td>\n",
       "      <td>Individual</td>\n",
       "      <td>Manual</td>\n",
       "      <td>Second Owner</td>\n",
       "      <td>21.14</td>\n",
       "      <td>1498</td>\n",
       "      <td>103.52</td>\n",
       "      <td>250Nm@ 1500-2500rpm</td>\n",
       "      <td>5</td>\n",
       "      <td>7</td>\n",
       "      <td>Skoda</td>\n",
       "    </tr>\n",
       "    <tr>\n",
       "      <th>2</th>\n",
       "      <td>15.8</td>\n",
       "      <td>140000</td>\n",
       "      <td>Petrol</td>\n",
       "      <td>Individual</td>\n",
       "      <td>Manual</td>\n",
       "      <td>Third Owner</td>\n",
       "      <td>17.70</td>\n",
       "      <td>1497</td>\n",
       "      <td>78.00</td>\n",
       "      <td>12.7@ 2,700(kgm@ rpm)</td>\n",
       "      <td>5</td>\n",
       "      <td>15</td>\n",
       "      <td>Honda</td>\n",
       "    </tr>\n",
       "    <tr>\n",
       "      <th>3</th>\n",
       "      <td>22.5</td>\n",
       "      <td>127000</td>\n",
       "      <td>Diesel</td>\n",
       "      <td>Individual</td>\n",
       "      <td>Manual</td>\n",
       "      <td>First Owner</td>\n",
       "      <td>23.00</td>\n",
       "      <td>1396</td>\n",
       "      <td>90.00</td>\n",
       "      <td>22.4 kgm at 1750-2750rpm</td>\n",
       "      <td>5</td>\n",
       "      <td>11</td>\n",
       "      <td>Hyundai</td>\n",
       "    </tr>\n",
       "    <tr>\n",
       "      <th>4</th>\n",
       "      <td>13.0</td>\n",
       "      <td>120000</td>\n",
       "      <td>Petrol</td>\n",
       "      <td>Individual</td>\n",
       "      <td>Manual</td>\n",
       "      <td>First Owner</td>\n",
       "      <td>16.10</td>\n",
       "      <td>1298</td>\n",
       "      <td>88.20</td>\n",
       "      <td>11.5@ 4,500(kgm@ rpm)</td>\n",
       "      <td>5</td>\n",
       "      <td>14</td>\n",
       "      <td>Maruti</td>\n",
       "    </tr>\n",
       "  </tbody>\n",
       "</table>\n",
       "</div>"
      ],
      "text/plain": [
       "   selling_price  km_driven    fuel seller_type transmission         owner  \\\n",
       "0           45.0     145500  Diesel  Individual       Manual   First Owner   \n",
       "1           37.0     120000  Diesel  Individual       Manual  Second Owner   \n",
       "2           15.8     140000  Petrol  Individual       Manual   Third Owner   \n",
       "3           22.5     127000  Diesel  Individual       Manual   First Owner   \n",
       "4           13.0     120000  Petrol  Individual       Manual   First Owner   \n",
       "\n",
       "   mileage  engine  max_power                    torque  seats  No of years  \\\n",
       "0    23.40    1248      74.00            190Nm@ 2000rpm      5            7   \n",
       "1    21.14    1498     103.52       250Nm@ 1500-2500rpm      5            7   \n",
       "2    17.70    1497      78.00     12.7@ 2,700(kgm@ rpm)      5           15   \n",
       "3    23.00    1396      90.00  22.4 kgm at 1750-2750rpm      5           11   \n",
       "4    16.10    1298      88.20     11.5@ 4,500(kgm@ rpm)      5           14   \n",
       "\n",
       "     Brand  \n",
       "0   Maruti  \n",
       "1    Skoda  \n",
       "2    Honda  \n",
       "3  Hyundai  \n",
       "4   Maruti  "
      ]
     },
     "execution_count": 11,
     "metadata": {},
     "output_type": "execute_result"
    }
   ],
   "source": [
    "df['Brand'] = df['name'].str.split(expand=True)[0]\n",
    "df.drop(columns=['name'],inplace=True)\n",
    "df.head()"
   ]
  },
  {
   "cell_type": "code",
   "execution_count": 12,
   "id": "f2446d65",
   "metadata": {
    "execution": {
     "iopub.execute_input": "2022-04-19T11:05:48.615560Z",
     "iopub.status.busy": "2022-04-19T11:05:48.614800Z",
     "iopub.status.idle": "2022-04-19T11:05:48.620153Z",
     "shell.execute_reply": "2022-04-19T11:05:48.620756Z",
     "shell.execute_reply.started": "2022-04-19T10:43:45.042836Z"
    },
    "papermill": {
     "duration": 0.058755,
     "end_time": "2022-04-19T11:05:48.620945",
     "exception": false,
     "start_time": "2022-04-19T11:05:48.562190",
     "status": "completed"
    },
    "tags": []
   },
   "outputs": [
    {
     "data": {
      "text/plain": [
       "array(['Maruti', 'Skoda', 'Honda', 'Hyundai', 'Toyota', 'Ford', 'Renault',\n",
       "       'Mahindra', 'Tata', 'Chevrolet', 'Datsun', 'Jeep', 'Mercedes-Benz',\n",
       "       'Mitsubishi', 'Audi', 'Volkswagen', 'BMW', 'Nissan', 'Lexus',\n",
       "       'Jaguar', 'Land', 'MG', 'Volvo', 'Daewoo', 'Kia', 'Fiat', 'Force',\n",
       "       'Ambassador', 'Ashok', 'Isuzu', 'Opel'], dtype=object)"
      ]
     },
     "execution_count": 12,
     "metadata": {},
     "output_type": "execute_result"
    }
   ],
   "source": [
    "df['Brand'].unique()"
   ]
  },
  {
   "cell_type": "code",
   "execution_count": 13,
   "id": "815c0287",
   "metadata": {
    "execution": {
     "iopub.execute_input": "2022-04-19T11:05:48.719632Z",
     "iopub.status.busy": "2022-04-19T11:05:48.718844Z",
     "iopub.status.idle": "2022-04-19T11:05:48.721862Z",
     "shell.execute_reply": "2022-04-19T11:05:48.722422Z",
     "shell.execute_reply.started": "2022-04-19T10:43:45.642150Z"
    },
    "papermill": {
     "duration": 0.055878,
     "end_time": "2022-04-19T11:05:48.722633",
     "exception": false,
     "start_time": "2022-04-19T11:05:48.666755",
     "status": "completed"
    },
    "tags": []
   },
   "outputs": [],
   "source": [
    "df.drop(['torque'],axis=1,inplace=True)"
   ]
  },
  {
   "cell_type": "markdown",
   "id": "ea12566e",
   "metadata": {
    "papermill": {
     "duration": 0.041194,
     "end_time": "2022-04-19T11:05:48.808923",
     "exception": false,
     "start_time": "2022-04-19T11:05:48.767729",
     "status": "completed"
    },
    "tags": []
   },
   "source": [
    "# Analysis of Categorical Data"
   ]
  },
  {
   "cell_type": "code",
   "execution_count": 14,
   "id": "ef5060ec",
   "metadata": {
    "execution": {
     "iopub.execute_input": "2022-04-19T11:05:48.871204Z",
     "iopub.status.busy": "2022-04-19T11:05:48.870336Z",
     "iopub.status.idle": "2022-04-19T11:05:49.327656Z",
     "shell.execute_reply": "2022-04-19T11:05:49.327168Z",
     "shell.execute_reply.started": "2022-04-19T10:43:47.405092Z"
    },
    "papermill": {
     "duration": 0.491341,
     "end_time": "2022-04-19T11:05:49.327785",
     "exception": false,
     "start_time": "2022-04-19T11:05:48.836444",
     "status": "completed"
    },
    "tags": []
   },
   "outputs": [
    {
     "data": {
      "image/png": "[encoded data removed]",
      "text/plain": [
       "<Figure size 1152x648 with 2 Axes>"
      ]
     },
     "metadata": {
      "needs_background": "light"
     },
     "output_type": "display_data"
    }
   ],
   "source": [
    "fig, axes = plt.subplots(1, 2, figsize=(16, 9), sharey=True)\n",
    "fig.suptitle('Seller Type')\n",
    "\n",
    "# Bulbasaur\n",
    "sns.boxplot(ax=axes[0], x='seller_type',y='selling_price',data=df)\n",
    "axes[0].set_title('1')\n",
    "\n",
    "# Charmander\n",
    "sns.barplot(ax=axes[1], x='seller_type', y='selling_price',data=df)\n",
    "axes[1].set_title('2')\n",
    "\n",
    "plt.show()"
   ]
  },
  {
   "cell_type": "code",
   "execution_count": 15,
   "id": "135e78f6",
   "metadata": {
    "execution": {
     "iopub.execute_input": "2022-04-19T11:05:49.407340Z",
     "iopub.status.busy": "2022-04-19T11:05:49.406459Z",
     "iopub.status.idle": "2022-04-19T11:05:49.860989Z",
     "shell.execute_reply": "2022-04-19T11:05:49.861721Z",
     "shell.execute_reply.started": "2022-04-19T10:43:48.303505Z"
    },
    "papermill": {
     "duration": 0.505171,
     "end_time": "2022-04-19T11:05:49.861877",
     "exception": false,
     "start_time": "2022-04-19T11:05:49.356706",
     "status": "completed"
    },
    "tags": []
   },
   "outputs": [
    {
     "data": {
      "image/png": "[encoded data removed]",
      "text/plain": [
       "<Figure size 1152x648 with 2 Axes>"
      ]
     },
     "metadata": {
      "needs_background": "light"
     },
     "output_type": "display_data"
    }
   ],
   "source": [
    "fig, axes = plt.subplots(1, 2, figsize=(16, 9), sharey=True)\n",
    "fig.suptitle('Fuel')\n",
    "\n",
    "# Bulbasaur\n",
    "sns.boxplot(ax=axes[0], x='fuel',y='selling_price',data=df)\n",
    "axes[0].set_title('1')\n",
    "\n",
    "# Charmander\n",
    "sns.barplot(ax=axes[1], x='fuel', y='selling_price',data=df)\n",
    "axes[1].set_title('2')\n",
    "\n",
    "plt.show()"
   ]
  },
  {
   "cell_type": "code",
   "execution_count": 16,
   "id": "144f94fe",
   "metadata": {
    "execution": {
     "iopub.execute_input": "2022-04-19T11:05:49.963543Z",
     "iopub.status.busy": "2022-04-19T11:05:49.937613Z",
     "iopub.status.idle": "2022-04-19T11:05:50.306271Z",
     "shell.execute_reply": "2022-04-19T11:05:50.305838Z",
     "shell.execute_reply.started": "2022-04-19T10:43:48.957736Z"
    },
    "papermill": {
     "duration": 0.415097,
     "end_time": "2022-04-19T11:05:50.306391",
     "exception": false,
     "start_time": "2022-04-19T11:05:49.891294",
     "status": "completed"
    },
    "tags": []
   },
   "outputs": [
    {
     "data": {
      "image/png": "[encoded data removed]",
      "text/plain": [
       "<Figure size 1152x648 with 2 Axes>"
      ]
     },
     "metadata": {
      "needs_background": "light"
     },
     "output_type": "display_data"
    }
   ],
   "source": [
    "fig, axes = plt.subplots(1, 2, figsize=(16, 9), sharey=True)\n",
    "fig.suptitle('transmission')\n",
    "\n",
    "# Bulbasaur\n",
    "sns.boxplot(ax=axes[0], x='transmission',y='selling_price',data=df)\n",
    "axes[0].set_title('1')\n",
    "\n",
    "# Charmander\n",
    "sns.barplot(ax=axes[1], x='transmission', y='selling_price',data=df)\n",
    "axes[1].set_title('2')\n",
    "\n",
    "plt.show()"
   ]
  },
  {
   "cell_type": "code",
   "execution_count": 17,
   "id": "cd55fd2f",
   "metadata": {
    "execution": {
     "iopub.execute_input": "2022-04-19T11:05:50.499120Z",
     "iopub.status.busy": "2022-04-19T11:05:50.495251Z",
     "iopub.status.idle": "2022-04-19T11:05:51.013077Z",
     "shell.execute_reply": "2022-04-19T11:05:51.013503Z",
     "shell.execute_reply.started": "2022-04-19T10:43:49.468987Z"
    },
    "papermill": {
     "duration": 0.677026,
     "end_time": "2022-04-19T11:05:51.013659",
     "exception": false,
     "start_time": "2022-04-19T11:05:50.336633",
     "status": "completed"
    },
    "tags": []
   },
   "outputs": [
    {
     "data": {
      "image/png": "[encoded data removed]",
      "text/plain": [
       "<Figure size 1152x648 with 2 Axes>"
      ]
     },
     "metadata": {
      "needs_background": "light"
     },
     "output_type": "display_data"
    }
   ],
   "source": [
    "fig, axes = plt.subplots(1, 2, figsize=(16, 9), sharey=True)\n",
    "fig.suptitle('owner')\n",
    "\n",
    "# Bulbasaur\n",
    "sns.boxplot(ax=axes[0], x='owner',y='selling_price',data=df)\n",
    "axes[0].set_title('1')\n",
    "\n",
    "# Charmander\n",
    "sns.barplot(ax=axes[1], x='owner', y='selling_price',data=df)\n",
    "axes[1].set_title('2')\n",
    "\n",
    "plt.show()"
   ]
  },
  {
   "cell_type": "markdown",
   "id": "db56f487",
   "metadata": {
    "papermill": {
     "duration": 0.031494,
     "end_time": "2022-04-19T11:05:51.076362",
     "exception": false,
     "start_time": "2022-04-19T11:05:51.044868",
     "status": "completed"
    },
    "tags": []
   },
   "source": [
    "## Mileage Column has 0 in it"
   ]
  },
  {
   "cell_type": "code",
   "execution_count": 18,
   "id": "1eeaba3b",
   "metadata": {
    "execution": {
     "iopub.execute_input": "2022-04-19T11:05:51.143597Z",
     "iopub.status.busy": "2022-04-19T11:05:51.142837Z",
     "iopub.status.idle": "2022-04-19T11:05:51.260170Z",
     "shell.execute_reply": "2022-04-19T11:05:51.261230Z",
     "shell.execute_reply.started": "2022-04-19T10:43:50.667865Z"
    },
    "papermill": {
     "duration": 0.154115,
     "end_time": "2022-04-19T11:05:51.261533",
     "exception": false,
     "start_time": "2022-04-19T11:05:51.107418",
     "status": "completed"
    },
    "tags": []
   },
   "outputs": [
    {
     "name": "stderr",
     "output_type": "stream",
     "text": [
      "/opt/conda/lib/python3.7/site-packages/seaborn/_decorators.py:43: FutureWarning: Pass the following variable as a keyword arg: x. From version 0.12, the only valid positional argument will be `data`, and passing other arguments without an explicit keyword will result in an error or misinterpretation.\n",
      "  FutureWarning\n"
     ]
    },
    {
     "data": {
      "image/png": "[encoded data removed]",
      "text/plain": [
       "<Figure size 432x288 with 1 Axes>"
      ]
     },
     "metadata": {
      "needs_background": "light"
     },
     "output_type": "display_data"
    }
   ],
   "source": [
    "sns.boxplot(df['mileage'])\n",
    "plt.show()\n",
    "#As we can see there are some values as zero"
   ]
  },
  {
   "cell_type": "code",
   "execution_count": 19,
   "id": "876cd1df",
   "metadata": {
    "execution": {
     "iopub.execute_input": "2022-04-19T11:05:51.349166Z",
     "iopub.status.busy": "2022-04-19T11:05:51.348461Z",
     "iopub.status.idle": "2022-04-19T11:05:51.351348Z",
     "shell.execute_reply": "2022-04-19T11:05:51.350940Z",
     "shell.execute_reply.started": "2022-04-19T10:43:52.449668Z"
    },
    "papermill": {
     "duration": 0.040017,
     "end_time": "2022-04-19T11:05:51.351462",
     "exception": false,
     "start_time": "2022-04-19T11:05:51.311445",
     "status": "completed"
    },
    "tags": []
   },
   "outputs": [],
   "source": [
    "median_value = df['mileage'].median()\n",
    "df['mileage'] = df['mileage'].replace(0.0,median_value)"
   ]
  },
  {
   "cell_type": "markdown",
   "id": "529d5e61",
   "metadata": {
    "papermill": {
     "duration": 0.03186,
     "end_time": "2022-04-19T11:05:51.415425",
     "exception": false,
     "start_time": "2022-04-19T11:05:51.383565",
     "status": "completed"
    },
    "tags": []
   },
   "source": [
    "# Checking Normaizlation"
   ]
  },
  {
   "cell_type": "code",
   "execution_count": 20,
   "id": "89a5279b",
   "metadata": {
    "execution": {
     "iopub.execute_input": "2022-04-19T11:05:51.483749Z",
     "iopub.status.busy": "2022-04-19T11:05:51.483066Z",
     "iopub.status.idle": "2022-04-19T11:05:51.706278Z",
     "shell.execute_reply": "2022-04-19T11:05:51.705819Z",
     "shell.execute_reply.started": "2022-04-19T10:43:53.946172Z"
    },
    "papermill": {
     "duration": 0.258998,
     "end_time": "2022-04-19T11:05:51.706405",
     "exception": false,
     "start_time": "2022-04-19T11:05:51.447407",
     "status": "completed"
    },
    "tags": []
   },
   "outputs": [
    {
     "data": {
      "text/plain": [
       "<AxesSubplot:>"
      ]
     },
     "execution_count": 20,
     "metadata": {},
     "output_type": "execute_result"
    },
    {
     "data": {
      "image/png": "[encoded data removed]",
      "text/plain": [
       "<Figure size 432x288 with 1 Axes>"
      ]
     },
     "metadata": {
      "needs_background": "light"
     },
     "output_type": "display_data"
    }
   ],
   "source": [
    "df['selling_price'].hist()"
   ]
  },
  {
   "cell_type": "code",
   "execution_count": 21,
   "id": "b0df5bc1",
   "metadata": {
    "execution": {
     "iopub.execute_input": "2022-04-19T11:05:51.792946Z",
     "iopub.status.busy": "2022-04-19T11:05:51.780928Z",
     "iopub.status.idle": "2022-04-19T11:05:51.976837Z",
     "shell.execute_reply": "2022-04-19T11:05:51.976047Z",
     "shell.execute_reply.started": "2022-04-19T10:43:54.670856Z"
    },
    "papermill": {
     "duration": 0.236768,
     "end_time": "2022-04-19T11:05:51.976970",
     "exception": false,
     "start_time": "2022-04-19T11:05:51.740202",
     "status": "completed"
    },
    "tags": []
   },
   "outputs": [
    {
     "data": {
      "text/plain": [
       "<AxesSubplot:>"
      ]
     },
     "execution_count": 21,
     "metadata": {},
     "output_type": "execute_result"
    },
    {
     "data": {
      "image/png": "[encoded data removed]",
      "text/plain": [
       "<Figure size 432x288 with 1 Axes>"
      ]
     },
     "metadata": {
      "needs_background": "light"
     },
     "output_type": "display_data"
    }
   ],
   "source": [
    "log_medv = np.log(df.selling_price)\n",
    "log_medv.hist()"
   ]
  },
  {
   "cell_type": "code",
   "execution_count": 22,
   "id": "3bec0f22",
   "metadata": {
    "execution": {
     "iopub.execute_input": "2022-04-19T11:05:52.051139Z",
     "iopub.status.busy": "2022-04-19T11:05:52.050287Z",
     "iopub.status.idle": "2022-04-19T11:05:52.058225Z",
     "shell.execute_reply": "2022-04-19T11:05:52.058659Z",
     "shell.execute_reply.started": "2022-04-19T10:43:57.246559Z"
    },
    "papermill": {
     "duration": 0.047401,
     "end_time": "2022-04-19T11:05:52.058806",
     "exception": false,
     "start_time": "2022-04-19T11:05:52.011405",
     "status": "completed"
    },
    "tags": []
   },
   "outputs": [
    {
     "data": {
      "text/plain": [
       "NormaltestResult(statistic=246.95762441467772, pvalue=2.3650113340430068e-54)"
      ]
     },
     "execution_count": 22,
     "metadata": {},
     "output_type": "execute_result"
    }
   ],
   "source": [
    "normaltest(log_medv)"
   ]
  },
  {
   "cell_type": "code",
   "execution_count": 23,
   "id": "1b40ca9f",
   "metadata": {
    "execution": {
     "iopub.execute_input": "2022-04-19T11:05:52.135320Z",
     "iopub.status.busy": "2022-04-19T11:05:52.134459Z",
     "iopub.status.idle": "2022-04-19T11:05:52.139988Z",
     "shell.execute_reply": "2022-04-19T11:05:52.139533Z",
     "shell.execute_reply.started": "2022-04-19T10:43:57.931440Z"
    },
    "papermill": {
     "duration": 0.047077,
     "end_time": "2022-04-19T11:05:52.140105",
     "exception": false,
     "start_time": "2022-04-19T11:05:52.093028",
     "status": "completed"
    },
    "tags": []
   },
   "outputs": [],
   "source": [
    "X = df.drop(columns=['selling_price'])\n",
    "y = df['selling_price']\n",
    "X_train,X_test,y_train,y_test = train_test_split(X,y,test_size=0.2,random_state=2)"
   ]
  },
  {
   "cell_type": "code",
   "execution_count": 24,
   "id": "000c3176",
   "metadata": {
    "execution": {
     "iopub.execute_input": "2022-04-19T11:05:52.219076Z",
     "iopub.status.busy": "2022-04-19T11:05:52.212260Z",
     "iopub.status.idle": "2022-04-19T11:05:52.244914Z",
     "shell.execute_reply": "2022-04-19T11:05:52.244427Z",
     "shell.execute_reply.started": "2022-04-19T10:43:59.289239Z"
    },
    "papermill": {
     "duration": 0.070575,
     "end_time": "2022-04-19T11:05:52.245047",
     "exception": false,
     "start_time": "2022-04-19T11:05:52.174472",
     "status": "completed"
    },
    "tags": []
   },
   "outputs": [],
   "source": [
    "tnf = ColumnTransformer(\n",
    "    [('ordinal',OrdinalEncoder(),['owner']),\n",
    "    ('nominal',OneHotEncoder(drop='first',sparse=False),\n",
    "     ['fuel','seller_type','transmission','Brand'])\n",
    "    ], remainder='passthrough'\n",
    ")\n",
    "\n",
    "new_X_train = tnf.fit_transform(X_train)\n",
    "new_X_test = tnf.transform(X_test)"
   ]
  },
  {
   "cell_type": "code",
   "execution_count": 25,
   "id": "baaa912e",
   "metadata": {
    "execution": {
     "iopub.execute_input": "2022-04-19T11:05:52.321948Z",
     "iopub.status.busy": "2022-04-19T11:05:52.320614Z",
     "iopub.status.idle": "2022-04-19T11:05:52.324643Z",
     "shell.execute_reply": "2022-04-19T11:05:52.325220Z",
     "shell.execute_reply.started": "2022-04-19T10:44:36.466119Z"
    },
    "papermill": {
     "duration": 0.045496,
     "end_time": "2022-04-19T11:05:52.325406",
     "exception": false,
     "start_time": "2022-04-19T11:05:52.279910",
     "status": "completed"
    },
    "tags": []
   },
   "outputs": [
    {
     "name": "stdout",
     "output_type": "stream",
     "text": [
      "---------------------------------------\n",
      "Shape of new X_train:  (6324, 43)\n",
      "---------------------------------------\n",
      "Shape of new X_test:  (1582, 43)\n",
      "---------------------------------------\n",
      "Shape of y_train:  (6324,)\n",
      "---------------------------------------\n",
      "Shape of y_test:  (1582,)\n",
      "---------------------------------------\n"
     ]
    }
   ],
   "source": [
    "print(\"---------------------------------------\")\n",
    "print(\"Shape of new X_train: \",new_X_train.shape)\n",
    "print(\"---------------------------------------\")\n",
    "print(\"Shape of new X_test: \",new_X_test.shape)\n",
    "print(\"---------------------------------------\")\n",
    "print(\"Shape of y_train: \",y_train.shape)\n",
    "print(\"---------------------------------------\")\n",
    "print(\"Shape of y_test: \",y_test.shape)\n",
    "print(\"---------------------------------------\")"
   ]
  },
  {
   "cell_type": "code",
   "execution_count": 26,
   "id": "a79d82d0",
   "metadata": {
    "execution": {
     "iopub.execute_input": "2022-04-19T11:05:52.401581Z",
     "iopub.status.busy": "2022-04-19T11:05:52.401021Z",
     "iopub.status.idle": "2022-04-19T11:05:58.968955Z",
     "shell.execute_reply": "2022-04-19T11:05:58.969364Z",
     "shell.execute_reply.started": "2022-04-19T11:02:58.687881Z"
    },
    "papermill": {
     "duration": 6.608199,
     "end_time": "2022-04-19T11:05:58.969528",
     "exception": false,
     "start_time": "2022-04-19T11:05:52.361329",
     "status": "completed"
    },
    "tags": []
   },
   "outputs": [
    {
     "name": "stderr",
     "output_type": "stream",
     "text": [
      "You should provide test set for use best model. use_best_model parameter has been switched to false value.\n"
     ]
    },
    {
     "name": "stdout",
     "output_type": "stream",
     "text": [
      "0:\tlearn: 78.2330455\ttotal: 70.1ms\tremaining: 35s\n",
      "50:\tlearn: 18.2586693\ttotal: 612ms\tremaining: 5.39s\n",
      "100:\tlearn: 12.4561963\ttotal: 1.14s\tremaining: 4.49s\n",
      "150:\tlearn: 10.7745585\ttotal: 1.68s\tremaining: 3.89s\n",
      "200:\tlearn: 9.7212580\ttotal: 2.58s\tremaining: 3.83s\n",
      "250:\tlearn: 8.8563427\ttotal: 3.43s\tremaining: 3.41s\n",
      "300:\tlearn: 8.2666336\ttotal: 3.99s\tremaining: 2.64s\n",
      "350:\tlearn: 7.8689681\ttotal: 4.55s\tremaining: 1.93s\n",
      "400:\tlearn: 7.4467303\ttotal: 5.1s\tremaining: 1.26s\n",
      "450:\tlearn: 7.1446340\ttotal: 5.66s\tremaining: 615ms\n",
      "499:\tlearn: 6.8975803\ttotal: 6.2s\tremaining: 0us\n"
     ]
    },
    {
     "data": {
      "text/plain": [
       "<catboost.core.CatBoostRegressor at 0x7f5dacd08a90>"
      ]
     },
     "execution_count": 26,
     "metadata": {},
     "output_type": "execute_result"
    }
   ],
   "source": [
    "from catboost import CatBoostRegressor\n",
    "from sklearn import metrics\n",
    "from sklearn.model_selection import RandomizedSearchCV\n",
    "\n",
    "cat = CatBoostRegressor(iterations=500,\n",
    "                             learning_rate=0.05,\n",
    "                             depth=10,\n",
    "                             eval_metric='RMSE',\n",
    "                             random_seed = 42,\n",
    "                             bagging_temperature = 0.2,\n",
    "                             od_type='Iter',\n",
    "                             metric_period = 50,\n",
    "                             od_wait=20)\n",
    "\n",
    "cat.fit(new_X_train, y_train, use_best_model=True)"
   ]
  },
  {
   "cell_type": "code",
   "execution_count": 27,
   "id": "65de3d51",
   "metadata": {
    "execution": {
     "iopub.execute_input": "2022-04-19T11:05:59.079269Z",
     "iopub.status.busy": "2022-04-19T11:05:59.078257Z",
     "iopub.status.idle": "2022-04-19T11:05:59.092247Z",
     "shell.execute_reply": "2022-04-19T11:05:59.091780Z",
     "shell.execute_reply.started": "2022-04-19T11:04:30.017780Z"
    },
    "papermill": {
     "duration": 0.082551,
     "end_time": "2022-04-19T11:05:59.092368",
     "exception": false,
     "start_time": "2022-04-19T11:05:59.009817",
     "status": "completed"
    },
    "tags": []
   },
   "outputs": [
    {
     "name": "stdout",
     "output_type": "stream",
     "text": [
      "MAE: 6.9180628989746245\n",
      "MSE: 158.11703157947161\n",
      "RMSE: 12.574459494525863\n",
      "R2_score:  0.9755389658801022\n"
     ]
    }
   ],
   "source": [
    "pred_cat = cat.predict(new_X_test)\n",
    "\n",
    "print('MAE:', metrics.mean_absolute_error(y_test, pred_cat))\n",
    "print('MSE:', metrics.mean_squared_error(y_test, pred_cat))\n",
    "print('RMSE:', np.sqrt(metrics.mean_squared_error(y_test, pred_cat)))\n",
    "print('R2_score: ', metrics.r2_score(y_test, pred_cat))"
   ]
  }
 ],
 "metadata": {
  "kernelspec": {
   "display_name": "Python 3",
   "language": "python",
   "name": "python3"
  },
  "language_info": {
   "codemirror_mode": {
    "name": "ipython",
    "version": 3
   },
   "file_extension": ".py",
   "mimetype": "text/x-python",
   "name": "python",
   "nbconvert_exporter": "python",
   "pygments_lexer": "ipython3",
   "version": "3.7.12"
  },
  "papermill": {
   "default_parameters": {},
   "duration": 21.586461,
   "end_time": "2022-04-19T11:06:00.042591",
   "environment_variables": {},
   "exception": null,
   "input_path": "__notebook__.ipynb",
   "output_path": "__notebook__.ipynb",
   "parameters": {},
   "start_time": "2022-04-19T11:05:38.456130",
   "version": "2.3.3"
  }
 },
 "nbformat": 4,
 "nbformat_minor": 5
}
