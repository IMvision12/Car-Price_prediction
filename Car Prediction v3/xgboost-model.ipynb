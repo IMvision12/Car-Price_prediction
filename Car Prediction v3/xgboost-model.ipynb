{
 "cells": [
  {
   "cell_type": "code",
   "execution_count": 1,
   "id": "197a2dcb",
   "metadata": {
    "_cell_guid": "b1076dfc-b9ad-4769-8c92-a6c4dae69d19",
    "_uuid": "8f2839f25d086af736a60e9eeb907d3b93b6e0e5",
    "execution": {
     "iopub.execute_input": "2022-04-19T10:54:37.153849Z",
     "iopub.status.busy": "2022-04-19T10:54:37.153036Z",
     "iopub.status.idle": "2022-04-19T10:54:38.188234Z",
     "shell.execute_reply": "2022-04-19T10:54:38.187646Z",
     "shell.execute_reply.started": "2022-04-19T10:43:23.426024Z"
    },
    "papermill": {
     "duration": 1.091233,
     "end_time": "2022-04-19T10:54:38.188418",
     "exception": false,
     "start_time": "2022-04-19T10:54:37.097185",
     "status": "completed"
    },
    "tags": []
   },
   "outputs": [],
   "source": [
    "import pandas as pd\n",
    "import numpy as np\n",
    "import matplotlib.pyplot as plt\n",
    "import seaborn as sns\n",
    "from scipy.stats.mstats import normaltest\n",
    "\n",
    "from sklearn.model_selection import train_test_split\n",
    "from sklearn.preprocessing import OrdinalEncoder,OneHotEncoder\n",
    "from sklearn.compose import ColumnTransformer"
   ]
  },
  {
   "cell_type": "code",
   "execution_count": 2,
   "id": "d995fae9",
   "metadata": {
    "execution": {
     "iopub.execute_input": "2022-04-19T10:54:38.260103Z",
     "iopub.status.busy": "2022-04-19T10:54:38.259441Z",
     "iopub.status.idle": "2022-04-19T10:54:38.328028Z",
     "shell.execute_reply": "2022-04-19T10:54:38.327530Z",
     "shell.execute_reply.started": "2022-04-19T10:43:24.736737Z"
    },
    "papermill": {
     "duration": 0.106621,
     "end_time": "2022-04-19T10:54:38.328162",
     "exception": false,
     "start_time": "2022-04-19T10:54:38.221541",
     "status": "completed"
    },
    "tags": []
   },
   "outputs": [
    {
     "data": {
      "text/html": [
       "<div>\n",
       "<style scoped>\n",
       "    .dataframe tbody tr th:only-of-type {\n",
       "        vertical-align: middle;\n",
       "    }\n",
       "\n",
       "    .dataframe tbody tr th {\n",
       "        vertical-align: top;\n",
       "    }\n",
       "\n",
       "    .dataframe thead th {\n",
       "        text-align: right;\n",
       "    }\n",
       "</style>\n",
       "<table border=\"1\" class=\"dataframe\">\n",
       "  <thead>\n",
       "    <tr style=\"text-align: right;\">\n",
       "      <th></th>\n",
       "      <th>name</th>\n",
       "      <th>year</th>\n",
       "      <th>selling_price</th>\n",
       "      <th>km_driven</th>\n",
       "      <th>fuel</th>\n",
       "      <th>seller_type</th>\n",
       "      <th>transmission</th>\n",
       "      <th>owner</th>\n",
       "      <th>mileage</th>\n",
       "      <th>engine</th>\n",
       "      <th>max_power</th>\n",
       "      <th>torque</th>\n",
       "      <th>seats</th>\n",
       "    </tr>\n",
       "  </thead>\n",
       "  <tbody>\n",
       "    <tr>\n",
       "      <th>0</th>\n",
       "      <td>Maruti Swift Dzire VDI</td>\n",
       "      <td>2014</td>\n",
       "      <td>450000</td>\n",
       "      <td>145500</td>\n",
       "      <td>Diesel</td>\n",
       "      <td>Individual</td>\n",
       "      <td>Manual</td>\n",
       "      <td>First Owner</td>\n",
       "      <td>23.4 kmpl</td>\n",
       "      <td>1248 CC</td>\n",
       "      <td>74 bhp</td>\n",
       "      <td>190Nm@ 2000rpm</td>\n",
       "      <td>5.0</td>\n",
       "    </tr>\n",
       "    <tr>\n",
       "      <th>1</th>\n",
       "      <td>Skoda Rapid 1.5 TDI Ambition</td>\n",
       "      <td>2014</td>\n",
       "      <td>370000</td>\n",
       "      <td>120000</td>\n",
       "      <td>Diesel</td>\n",
       "      <td>Individual</td>\n",
       "      <td>Manual</td>\n",
       "      <td>Second Owner</td>\n",
       "      <td>21.14 kmpl</td>\n",
       "      <td>1498 CC</td>\n",
       "      <td>103.52 bhp</td>\n",
       "      <td>250Nm@ 1500-2500rpm</td>\n",
       "      <td>5.0</td>\n",
       "    </tr>\n",
       "    <tr>\n",
       "      <th>2</th>\n",
       "      <td>Honda City 2017-2020 EXi</td>\n",
       "      <td>2006</td>\n",
       "      <td>158000</td>\n",
       "      <td>140000</td>\n",
       "      <td>Petrol</td>\n",
       "      <td>Individual</td>\n",
       "      <td>Manual</td>\n",
       "      <td>Third Owner</td>\n",
       "      <td>17.7 kmpl</td>\n",
       "      <td>1497 CC</td>\n",
       "      <td>78 bhp</td>\n",
       "      <td>12.7@ 2,700(kgm@ rpm)</td>\n",
       "      <td>5.0</td>\n",
       "    </tr>\n",
       "    <tr>\n",
       "      <th>3</th>\n",
       "      <td>Hyundai i20 Sportz Diesel</td>\n",
       "      <td>2010</td>\n",
       "      <td>225000</td>\n",
       "      <td>127000</td>\n",
       "      <td>Diesel</td>\n",
       "      <td>Individual</td>\n",
       "      <td>Manual</td>\n",
       "      <td>First Owner</td>\n",
       "      <td>23.0 kmpl</td>\n",
       "      <td>1396 CC</td>\n",
       "      <td>90 bhp</td>\n",
       "      <td>22.4 kgm at 1750-2750rpm</td>\n",
       "      <td>5.0</td>\n",
       "    </tr>\n",
       "    <tr>\n",
       "      <th>4</th>\n",
       "      <td>Maruti Swift VXI BSIII</td>\n",
       "      <td>2007</td>\n",
       "      <td>130000</td>\n",
       "      <td>120000</td>\n",
       "      <td>Petrol</td>\n",
       "      <td>Individual</td>\n",
       "      <td>Manual</td>\n",
       "      <td>First Owner</td>\n",
       "      <td>16.1 kmpl</td>\n",
       "      <td>1298 CC</td>\n",
       "      <td>88.2 bhp</td>\n",
       "      <td>11.5@ 4,500(kgm@ rpm)</td>\n",
       "      <td>5.0</td>\n",
       "    </tr>\n",
       "  </tbody>\n",
       "</table>\n",
       "</div>"
      ],
      "text/plain": [
       "                           name  year  selling_price  km_driven    fuel  \\\n",
       "0        Maruti Swift Dzire VDI  2014         450000     145500  Diesel   \n",
       "1  Skoda Rapid 1.5 TDI Ambition  2014         370000     120000  Diesel   \n",
       "2      Honda City 2017-2020 EXi  2006         158000     140000  Petrol   \n",
       "3     Hyundai i20 Sportz Diesel  2010         225000     127000  Diesel   \n",
       "4        Maruti Swift VXI BSIII  2007         130000     120000  Petrol   \n",
       "\n",
       "  seller_type transmission         owner     mileage   engine   max_power  \\\n",
       "0  Individual       Manual   First Owner   23.4 kmpl  1248 CC      74 bhp   \n",
       "1  Individual       Manual  Second Owner  21.14 kmpl  1498 CC  103.52 bhp   \n",
       "2  Individual       Manual   Third Owner   17.7 kmpl  1497 CC      78 bhp   \n",
       "3  Individual       Manual   First Owner   23.0 kmpl  1396 CC      90 bhp   \n",
       "4  Individual       Manual   First Owner   16.1 kmpl  1298 CC    88.2 bhp   \n",
       "\n",
       "                     torque  seats  \n",
       "0            190Nm@ 2000rpm    5.0  \n",
       "1       250Nm@ 1500-2500rpm    5.0  \n",
       "2     12.7@ 2,700(kgm@ rpm)    5.0  \n",
       "3  22.4 kgm at 1750-2750rpm    5.0  \n",
       "4     11.5@ 4,500(kgm@ rpm)    5.0  "
      ]
     },
     "execution_count": 2,
     "metadata": {},
     "output_type": "execute_result"
    }
   ],
   "source": [
    "df = pd.read_csv(\"../input/vehicle-dataset-from-cardekho/Car details v3.csv\")\n",
    "df.head()"
   ]
  },
  {
   "cell_type": "code",
   "execution_count": 3,
   "id": "80047e12",
   "metadata": {
    "execution": {
     "iopub.execute_input": "2022-04-19T10:54:38.420755Z",
     "iopub.status.busy": "2022-04-19T10:54:38.418909Z",
     "iopub.status.idle": "2022-04-19T10:54:38.423260Z",
     "shell.execute_reply": "2022-04-19T10:54:38.422735Z",
     "shell.execute_reply.started": "2022-04-19T10:43:25.308029Z"
    },
    "papermill": {
     "duration": 0.060879,
     "end_time": "2022-04-19T10:54:38.423404",
     "exception": false,
     "start_time": "2022-04-19T10:54:38.362525",
     "status": "completed"
    },
    "tags": []
   },
   "outputs": [
    {
     "data": {
      "text/html": [
       "<div>\n",
       "<style scoped>\n",
       "    .dataframe tbody tr th:only-of-type {\n",
       "        vertical-align: middle;\n",
       "    }\n",
       "\n",
       "    .dataframe tbody tr th {\n",
       "        vertical-align: top;\n",
       "    }\n",
       "\n",
       "    .dataframe thead th {\n",
       "        text-align: right;\n",
       "    }\n",
       "</style>\n",
       "<table border=\"1\" class=\"dataframe\">\n",
       "  <thead>\n",
       "    <tr style=\"text-align: right;\">\n",
       "      <th></th>\n",
       "      <th>name</th>\n",
       "      <th>year</th>\n",
       "      <th>selling_price</th>\n",
       "      <th>km_driven</th>\n",
       "      <th>fuel</th>\n",
       "      <th>seller_type</th>\n",
       "      <th>transmission</th>\n",
       "      <th>owner</th>\n",
       "      <th>mileage</th>\n",
       "      <th>engine</th>\n",
       "      <th>max_power</th>\n",
       "      <th>torque</th>\n",
       "      <th>seats</th>\n",
       "    </tr>\n",
       "  </thead>\n",
       "  <tbody>\n",
       "    <tr>\n",
       "      <th>4383</th>\n",
       "      <td>Volkswagen Vento 1.5 TDI Highline BSIV</td>\n",
       "      <td>2019</td>\n",
       "      <td>1350000</td>\n",
       "      <td>5400</td>\n",
       "      <td>Diesel</td>\n",
       "      <td>Dealer</td>\n",
       "      <td>Manual</td>\n",
       "      <td>Test Drive Car</td>\n",
       "      <td>22.27 kmpl</td>\n",
       "      <td>1498 CC</td>\n",
       "      <td>108.6 bhp</td>\n",
       "      <td>250Nm@ 1500-3000rpm</td>\n",
       "      <td>5.0</td>\n",
       "    </tr>\n",
       "    <tr>\n",
       "      <th>4950</th>\n",
       "      <td>Audi A6 35 TFSI Matrix</td>\n",
       "      <td>2019</td>\n",
       "      <td>6223000</td>\n",
       "      <td>7800</td>\n",
       "      <td>Petrol</td>\n",
       "      <td>Dealer</td>\n",
       "      <td>Automatic</td>\n",
       "      <td>Test Drive Car</td>\n",
       "      <td>15.26 kmpl</td>\n",
       "      <td>1798 CC</td>\n",
       "      <td>187.74 bhp</td>\n",
       "      <td>320Nm@ 1400-4100rpm</td>\n",
       "      <td>5.0</td>\n",
       "    </tr>\n",
       "    <tr>\n",
       "      <th>4951</th>\n",
       "      <td>Audi A6 35 TFSI Matrix</td>\n",
       "      <td>2019</td>\n",
       "      <td>5923000</td>\n",
       "      <td>11500</td>\n",
       "      <td>Petrol</td>\n",
       "      <td>Dealer</td>\n",
       "      <td>Automatic</td>\n",
       "      <td>Test Drive Car</td>\n",
       "      <td>15.26 kmpl</td>\n",
       "      <td>1798 CC</td>\n",
       "      <td>187.74 bhp</td>\n",
       "      <td>320Nm@ 1400-4100rpm</td>\n",
       "      <td>5.0</td>\n",
       "    </tr>\n",
       "    <tr>\n",
       "      <th>4952</th>\n",
       "      <td>Audi A6 35 TFSI Matrix</td>\n",
       "      <td>2019</td>\n",
       "      <td>6523000</td>\n",
       "      <td>23600</td>\n",
       "      <td>Petrol</td>\n",
       "      <td>Dealer</td>\n",
       "      <td>Automatic</td>\n",
       "      <td>Test Drive Car</td>\n",
       "      <td>15.26 kmpl</td>\n",
       "      <td>1798 CC</td>\n",
       "      <td>187.74 bhp</td>\n",
       "      <td>320Nm@ 1400-4100rpm</td>\n",
       "      <td>5.0</td>\n",
       "    </tr>\n",
       "    <tr>\n",
       "      <th>6220</th>\n",
       "      <td>Honda Civic ZX</td>\n",
       "      <td>2019</td>\n",
       "      <td>2000000</td>\n",
       "      <td>24857</td>\n",
       "      <td>Petrol</td>\n",
       "      <td>Dealer</td>\n",
       "      <td>Automatic</td>\n",
       "      <td>Test Drive Car</td>\n",
       "      <td>16.5 kmpl</td>\n",
       "      <td>1799 CC</td>\n",
       "      <td>139.46 bhp</td>\n",
       "      <td>174Nm@ 4300rpm</td>\n",
       "      <td>5.0</td>\n",
       "    </tr>\n",
       "  </tbody>\n",
       "</table>\n",
       "</div>"
      ],
      "text/plain": [
       "                                        name  year  selling_price  km_driven  \\\n",
       "4383  Volkswagen Vento 1.5 TDI Highline BSIV  2019        1350000       5400   \n",
       "4950                  Audi A6 35 TFSI Matrix  2019        6223000       7800   \n",
       "4951                  Audi A6 35 TFSI Matrix  2019        5923000      11500   \n",
       "4952                  Audi A6 35 TFSI Matrix  2019        6523000      23600   \n",
       "6220                          Honda Civic ZX  2019        2000000      24857   \n",
       "\n",
       "        fuel seller_type transmission           owner     mileage   engine  \\\n",
       "4383  Diesel      Dealer       Manual  Test Drive Car  22.27 kmpl  1498 CC   \n",
       "4950  Petrol      Dealer    Automatic  Test Drive Car  15.26 kmpl  1798 CC   \n",
       "4951  Petrol      Dealer    Automatic  Test Drive Car  15.26 kmpl  1798 CC   \n",
       "4952  Petrol      Dealer    Automatic  Test Drive Car  15.26 kmpl  1798 CC   \n",
       "6220  Petrol      Dealer    Automatic  Test Drive Car   16.5 kmpl  1799 CC   \n",
       "\n",
       "       max_power               torque  seats  \n",
       "4383   108.6 bhp  250Nm@ 1500-3000rpm    5.0  \n",
       "4950  187.74 bhp  320Nm@ 1400-4100rpm    5.0  \n",
       "4951  187.74 bhp  320Nm@ 1400-4100rpm    5.0  \n",
       "4952  187.74 bhp  320Nm@ 1400-4100rpm    5.0  \n",
       "6220  139.46 bhp       174Nm@ 4300rpm    5.0  "
      ]
     },
     "execution_count": 3,
     "metadata": {},
     "output_type": "execute_result"
    }
   ],
   "source": [
    "df[df.owner=='Test Drive Car'].head()"
   ]
  },
  {
   "cell_type": "code",
   "execution_count": 4,
   "id": "29424ab6",
   "metadata": {
    "execution": {
     "iopub.execute_input": "2022-04-19T10:54:38.504637Z",
     "iopub.status.busy": "2022-04-19T10:54:38.503727Z",
     "iopub.status.idle": "2022-04-19T10:54:38.511545Z",
     "shell.execute_reply": "2022-04-19T10:54:38.512016Z",
     "shell.execute_reply.started": "2022-04-19T10:43:25.941136Z"
    },
    "papermill": {
     "duration": 0.055588,
     "end_time": "2022-04-19T10:54:38.512198",
     "exception": false,
     "start_time": "2022-04-19T10:54:38.456610",
     "status": "completed"
    },
    "tags": []
   },
   "outputs": [],
   "source": [
    "df.dropna(axis=0,inplace=True)\n",
    "df['current_year'] = 2021"
   ]
  },
  {
   "cell_type": "code",
   "execution_count": 5,
   "id": "7fc76f4f",
   "metadata": {
    "execution": {
     "iopub.execute_input": "2022-04-19T10:54:38.590785Z",
     "iopub.status.busy": "2022-04-19T10:54:38.589685Z",
     "iopub.status.idle": "2022-04-19T10:54:38.607019Z",
     "shell.execute_reply": "2022-04-19T10:54:38.607540Z",
     "shell.execute_reply.started": "2022-04-19T10:43:26.589671Z"
    },
    "papermill": {
     "duration": 0.05961,
     "end_time": "2022-04-19T10:54:38.607701",
     "exception": false,
     "start_time": "2022-04-19T10:54:38.548091",
     "status": "completed"
    },
    "tags": []
   },
   "outputs": [
    {
     "data": {
      "text/html": [
       "<div>\n",
       "<style scoped>\n",
       "    .dataframe tbody tr th:only-of-type {\n",
       "        vertical-align: middle;\n",
       "    }\n",
       "\n",
       "    .dataframe tbody tr th {\n",
       "        vertical-align: top;\n",
       "    }\n",
       "\n",
       "    .dataframe thead th {\n",
       "        text-align: right;\n",
       "    }\n",
       "</style>\n",
       "<table border=\"1\" class=\"dataframe\">\n",
       "  <thead>\n",
       "    <tr style=\"text-align: right;\">\n",
       "      <th></th>\n",
       "      <th>name</th>\n",
       "      <th>selling_price</th>\n",
       "      <th>km_driven</th>\n",
       "      <th>fuel</th>\n",
       "      <th>seller_type</th>\n",
       "      <th>transmission</th>\n",
       "      <th>owner</th>\n",
       "      <th>mileage</th>\n",
       "      <th>engine</th>\n",
       "      <th>max_power</th>\n",
       "      <th>torque</th>\n",
       "      <th>seats</th>\n",
       "      <th>No of years</th>\n",
       "    </tr>\n",
       "  </thead>\n",
       "  <tbody>\n",
       "    <tr>\n",
       "      <th>0</th>\n",
       "      <td>Maruti Swift Dzire VDI</td>\n",
       "      <td>450000</td>\n",
       "      <td>145500</td>\n",
       "      <td>Diesel</td>\n",
       "      <td>Individual</td>\n",
       "      <td>Manual</td>\n",
       "      <td>First Owner</td>\n",
       "      <td>23.4 kmpl</td>\n",
       "      <td>1248 CC</td>\n",
       "      <td>74 bhp</td>\n",
       "      <td>190Nm@ 2000rpm</td>\n",
       "      <td>5.0</td>\n",
       "      <td>7</td>\n",
       "    </tr>\n",
       "    <tr>\n",
       "      <th>1</th>\n",
       "      <td>Skoda Rapid 1.5 TDI Ambition</td>\n",
       "      <td>370000</td>\n",
       "      <td>120000</td>\n",
       "      <td>Diesel</td>\n",
       "      <td>Individual</td>\n",
       "      <td>Manual</td>\n",
       "      <td>Second Owner</td>\n",
       "      <td>21.14 kmpl</td>\n",
       "      <td>1498 CC</td>\n",
       "      <td>103.52 bhp</td>\n",
       "      <td>250Nm@ 1500-2500rpm</td>\n",
       "      <td>5.0</td>\n",
       "      <td>7</td>\n",
       "    </tr>\n",
       "    <tr>\n",
       "      <th>2</th>\n",
       "      <td>Honda City 2017-2020 EXi</td>\n",
       "      <td>158000</td>\n",
       "      <td>140000</td>\n",
       "      <td>Petrol</td>\n",
       "      <td>Individual</td>\n",
       "      <td>Manual</td>\n",
       "      <td>Third Owner</td>\n",
       "      <td>17.7 kmpl</td>\n",
       "      <td>1497 CC</td>\n",
       "      <td>78 bhp</td>\n",
       "      <td>12.7@ 2,700(kgm@ rpm)</td>\n",
       "      <td>5.0</td>\n",
       "      <td>15</td>\n",
       "    </tr>\n",
       "    <tr>\n",
       "      <th>3</th>\n",
       "      <td>Hyundai i20 Sportz Diesel</td>\n",
       "      <td>225000</td>\n",
       "      <td>127000</td>\n",
       "      <td>Diesel</td>\n",
       "      <td>Individual</td>\n",
       "      <td>Manual</td>\n",
       "      <td>First Owner</td>\n",
       "      <td>23.0 kmpl</td>\n",
       "      <td>1396 CC</td>\n",
       "      <td>90 bhp</td>\n",
       "      <td>22.4 kgm at 1750-2750rpm</td>\n",
       "      <td>5.0</td>\n",
       "      <td>11</td>\n",
       "    </tr>\n",
       "    <tr>\n",
       "      <th>4</th>\n",
       "      <td>Maruti Swift VXI BSIII</td>\n",
       "      <td>130000</td>\n",
       "      <td>120000</td>\n",
       "      <td>Petrol</td>\n",
       "      <td>Individual</td>\n",
       "      <td>Manual</td>\n",
       "      <td>First Owner</td>\n",
       "      <td>16.1 kmpl</td>\n",
       "      <td>1298 CC</td>\n",
       "      <td>88.2 bhp</td>\n",
       "      <td>11.5@ 4,500(kgm@ rpm)</td>\n",
       "      <td>5.0</td>\n",
       "      <td>14</td>\n",
       "    </tr>\n",
       "  </tbody>\n",
       "</table>\n",
       "</div>"
      ],
      "text/plain": [
       "                           name  selling_price  km_driven    fuel seller_type  \\\n",
       "0        Maruti Swift Dzire VDI         450000     145500  Diesel  Individual   \n",
       "1  Skoda Rapid 1.5 TDI Ambition         370000     120000  Diesel  Individual   \n",
       "2      Honda City 2017-2020 EXi         158000     140000  Petrol  Individual   \n",
       "3     Hyundai i20 Sportz Diesel         225000     127000  Diesel  Individual   \n",
       "4        Maruti Swift VXI BSIII         130000     120000  Petrol  Individual   \n",
       "\n",
       "  transmission         owner     mileage   engine   max_power  \\\n",
       "0       Manual   First Owner   23.4 kmpl  1248 CC      74 bhp   \n",
       "1       Manual  Second Owner  21.14 kmpl  1498 CC  103.52 bhp   \n",
       "2       Manual   Third Owner   17.7 kmpl  1497 CC      78 bhp   \n",
       "3       Manual   First Owner   23.0 kmpl  1396 CC      90 bhp   \n",
       "4       Manual   First Owner   16.1 kmpl  1298 CC    88.2 bhp   \n",
       "\n",
       "                     torque  seats  No of years  \n",
       "0            190Nm@ 2000rpm    5.0            7  \n",
       "1       250Nm@ 1500-2500rpm    5.0            7  \n",
       "2     12.7@ 2,700(kgm@ rpm)    5.0           15  \n",
       "3  22.4 kgm at 1750-2750rpm    5.0           11  \n",
       "4     11.5@ 4,500(kgm@ rpm)    5.0           14  "
      ]
     },
     "execution_count": 5,
     "metadata": {},
     "output_type": "execute_result"
    }
   ],
   "source": [
    "df['No of years'] = df['current_year']-df['year']\n",
    "df.drop(['current_year','year'],axis=1,inplace=True)\n",
    "df.head()"
   ]
  },
  {
   "cell_type": "code",
   "execution_count": 6,
   "id": "72635218",
   "metadata": {
    "execution": {
     "iopub.execute_input": "2022-04-19T10:54:38.697848Z",
     "iopub.status.busy": "2022-04-19T10:54:38.687512Z",
     "iopub.status.idle": "2022-04-19T10:54:38.701880Z",
     "shell.execute_reply": "2022-04-19T10:54:38.701354Z",
     "shell.execute_reply.started": "2022-04-19T10:43:27.197482Z"
    },
    "papermill": {
     "duration": 0.060323,
     "end_time": "2022-04-19T10:54:38.702050",
     "exception": false,
     "start_time": "2022-04-19T10:54:38.641727",
     "status": "completed"
    },
    "tags": []
   },
   "outputs": [],
   "source": [
    "# Handling mileage col\n",
    "df['mileage'] = df['mileage'].str.split(expand=True)[0]\n",
    "df['mileage'] = df['mileage'].astype('float64')"
   ]
  },
  {
   "cell_type": "code",
   "execution_count": 7,
   "id": "a41f2118",
   "metadata": {
    "execution": {
     "iopub.execute_input": "2022-04-19T10:54:38.800648Z",
     "iopub.status.busy": "2022-04-19T10:54:38.799581Z",
     "iopub.status.idle": "2022-04-19T10:54:38.829546Z",
     "shell.execute_reply": "2022-04-19T10:54:38.830831Z",
     "shell.execute_reply.started": "2022-04-19T10:43:27.810901Z"
    },
    "papermill": {
     "duration": 0.094488,
     "end_time": "2022-04-19T10:54:38.831274",
     "exception": false,
     "start_time": "2022-04-19T10:54:38.736786",
     "status": "completed"
    },
    "tags": []
   },
   "outputs": [],
   "source": [
    "# Handling engine col\n",
    "df['engine'] = df['engine'].str.split(expand=True)[0]\n",
    "df['engine'] = df['engine'].astype('int32')"
   ]
  },
  {
   "cell_type": "code",
   "execution_count": 8,
   "id": "94a9586a",
   "metadata": {
    "execution": {
     "iopub.execute_input": "2022-04-19T10:54:38.954314Z",
     "iopub.status.busy": "2022-04-19T10:54:38.953272Z",
     "iopub.status.idle": "2022-04-19T10:54:38.981474Z",
     "shell.execute_reply": "2022-04-19T10:54:38.982386Z",
     "shell.execute_reply.started": "2022-04-19T10:43:28.433196Z"
    },
    "papermill": {
     "duration": 0.091108,
     "end_time": "2022-04-19T10:54:38.982604",
     "exception": false,
     "start_time": "2022-04-19T10:54:38.891496",
     "status": "completed"
    },
    "tags": []
   },
   "outputs": [],
   "source": [
    "# Handling max_power col\n",
    "df['max_power'] = df['max_power'].str.split(expand=True)[0]\n",
    "df['max_power'] = df['max_power'].astype('float64')"
   ]
  },
  {
   "cell_type": "code",
   "execution_count": 9,
   "id": "7d5d3be6",
   "metadata": {
    "execution": {
     "iopub.execute_input": "2022-04-19T10:54:39.097047Z",
     "iopub.status.busy": "2022-04-19T10:54:39.090376Z",
     "iopub.status.idle": "2022-04-19T10:54:39.098462Z",
     "shell.execute_reply": "2022-04-19T10:54:39.097707Z",
     "shell.execute_reply.started": "2022-04-19T10:43:31.946923Z"
    },
    "papermill": {
     "duration": 0.062825,
     "end_time": "2022-04-19T10:54:39.098632",
     "exception": false,
     "start_time": "2022-04-19T10:54:39.035807",
     "status": "completed"
    },
    "tags": []
   },
   "outputs": [],
   "source": [
    "# Handling selling_price\n",
    "df['selling_price'] = df['selling_price'] / 10000"
   ]
  },
  {
   "cell_type": "code",
   "execution_count": 10,
   "id": "201bb4b1",
   "metadata": {
    "execution": {
     "iopub.execute_input": "2022-04-19T10:54:39.224919Z",
     "iopub.status.busy": "2022-04-19T10:54:39.223937Z",
     "iopub.status.idle": "2022-04-19T10:54:39.234133Z",
     "shell.execute_reply": "2022-04-19T10:54:39.234979Z",
     "shell.execute_reply.started": "2022-04-19T10:43:33.128599Z"
    },
    "papermill": {
     "duration": 0.085803,
     "end_time": "2022-04-19T10:54:39.235197",
     "exception": false,
     "start_time": "2022-04-19T10:54:39.149394",
     "status": "completed"
    },
    "tags": []
   },
   "outputs": [
    {
     "data": {
      "text/html": [
       "<div>\n",
       "<style scoped>\n",
       "    .dataframe tbody tr th:only-of-type {\n",
       "        vertical-align: middle;\n",
       "    }\n",
       "\n",
       "    .dataframe tbody tr th {\n",
       "        vertical-align: top;\n",
       "    }\n",
       "\n",
       "    .dataframe thead th {\n",
       "        text-align: right;\n",
       "    }\n",
       "</style>\n",
       "<table border=\"1\" class=\"dataframe\">\n",
       "  <thead>\n",
       "    <tr style=\"text-align: right;\">\n",
       "      <th></th>\n",
       "      <th>name</th>\n",
       "      <th>selling_price</th>\n",
       "      <th>km_driven</th>\n",
       "      <th>fuel</th>\n",
       "      <th>seller_type</th>\n",
       "      <th>transmission</th>\n",
       "      <th>owner</th>\n",
       "      <th>mileage</th>\n",
       "      <th>engine</th>\n",
       "      <th>max_power</th>\n",
       "      <th>torque</th>\n",
       "      <th>seats</th>\n",
       "      <th>No of years</th>\n",
       "    </tr>\n",
       "  </thead>\n",
       "  <tbody>\n",
       "    <tr>\n",
       "      <th>0</th>\n",
       "      <td>Maruti Swift Dzire VDI</td>\n",
       "      <td>45.0</td>\n",
       "      <td>145500</td>\n",
       "      <td>Diesel</td>\n",
       "      <td>Individual</td>\n",
       "      <td>Manual</td>\n",
       "      <td>First Owner</td>\n",
       "      <td>23.40</td>\n",
       "      <td>1248</td>\n",
       "      <td>74.00</td>\n",
       "      <td>190Nm@ 2000rpm</td>\n",
       "      <td>5</td>\n",
       "      <td>7</td>\n",
       "    </tr>\n",
       "    <tr>\n",
       "      <th>1</th>\n",
       "      <td>Skoda Rapid 1.5 TDI Ambition</td>\n",
       "      <td>37.0</td>\n",
       "      <td>120000</td>\n",
       "      <td>Diesel</td>\n",
       "      <td>Individual</td>\n",
       "      <td>Manual</td>\n",
       "      <td>Second Owner</td>\n",
       "      <td>21.14</td>\n",
       "      <td>1498</td>\n",
       "      <td>103.52</td>\n",
       "      <td>250Nm@ 1500-2500rpm</td>\n",
       "      <td>5</td>\n",
       "      <td>7</td>\n",
       "    </tr>\n",
       "    <tr>\n",
       "      <th>2</th>\n",
       "      <td>Honda City 2017-2020 EXi</td>\n",
       "      <td>15.8</td>\n",
       "      <td>140000</td>\n",
       "      <td>Petrol</td>\n",
       "      <td>Individual</td>\n",
       "      <td>Manual</td>\n",
       "      <td>Third Owner</td>\n",
       "      <td>17.70</td>\n",
       "      <td>1497</td>\n",
       "      <td>78.00</td>\n",
       "      <td>12.7@ 2,700(kgm@ rpm)</td>\n",
       "      <td>5</td>\n",
       "      <td>15</td>\n",
       "    </tr>\n",
       "    <tr>\n",
       "      <th>3</th>\n",
       "      <td>Hyundai i20 Sportz Diesel</td>\n",
       "      <td>22.5</td>\n",
       "      <td>127000</td>\n",
       "      <td>Diesel</td>\n",
       "      <td>Individual</td>\n",
       "      <td>Manual</td>\n",
       "      <td>First Owner</td>\n",
       "      <td>23.00</td>\n",
       "      <td>1396</td>\n",
       "      <td>90.00</td>\n",
       "      <td>22.4 kgm at 1750-2750rpm</td>\n",
       "      <td>5</td>\n",
       "      <td>11</td>\n",
       "    </tr>\n",
       "    <tr>\n",
       "      <th>4</th>\n",
       "      <td>Maruti Swift VXI BSIII</td>\n",
       "      <td>13.0</td>\n",
       "      <td>120000</td>\n",
       "      <td>Petrol</td>\n",
       "      <td>Individual</td>\n",
       "      <td>Manual</td>\n",
       "      <td>First Owner</td>\n",
       "      <td>16.10</td>\n",
       "      <td>1298</td>\n",
       "      <td>88.20</td>\n",
       "      <td>11.5@ 4,500(kgm@ rpm)</td>\n",
       "      <td>5</td>\n",
       "      <td>14</td>\n",
       "    </tr>\n",
       "  </tbody>\n",
       "</table>\n",
       "</div>"
      ],
      "text/plain": [
       "                           name  selling_price  km_driven    fuel seller_type  \\\n",
       "0        Maruti Swift Dzire VDI           45.0     145500  Diesel  Individual   \n",
       "1  Skoda Rapid 1.5 TDI Ambition           37.0     120000  Diesel  Individual   \n",
       "2      Honda City 2017-2020 EXi           15.8     140000  Petrol  Individual   \n",
       "3     Hyundai i20 Sportz Diesel           22.5     127000  Diesel  Individual   \n",
       "4        Maruti Swift VXI BSIII           13.0     120000  Petrol  Individual   \n",
       "\n",
       "  transmission         owner  mileage  engine  max_power  \\\n",
       "0       Manual   First Owner    23.40    1248      74.00   \n",
       "1       Manual  Second Owner    21.14    1498     103.52   \n",
       "2       Manual   Third Owner    17.70    1497      78.00   \n",
       "3       Manual   First Owner    23.00    1396      90.00   \n",
       "4       Manual   First Owner    16.10    1298      88.20   \n",
       "\n",
       "                     torque  seats  No of years  \n",
       "0            190Nm@ 2000rpm      5            7  \n",
       "1       250Nm@ 1500-2500rpm      5            7  \n",
       "2     12.7@ 2,700(kgm@ rpm)      5           15  \n",
       "3  22.4 kgm at 1750-2750rpm      5           11  \n",
       "4     11.5@ 4,500(kgm@ rpm)      5           14  "
      ]
     },
     "execution_count": 10,
     "metadata": {},
     "output_type": "execute_result"
    }
   ],
   "source": [
    "df['seats'] = df['seats'].astype('int32')\n",
    "df.head()"
   ]
  },
  {
   "cell_type": "markdown",
   "id": "7dd6b4ac",
   "metadata": {
    "papermill": {
     "duration": 0.052359,
     "end_time": "2022-04-19T10:54:39.342411",
     "exception": false,
     "start_time": "2022-04-19T10:54:39.290052",
     "status": "completed"
    },
    "tags": []
   },
   "source": [
    "# Handling name column"
   ]
  },
  {
   "cell_type": "code",
   "execution_count": 11,
   "id": "07d0b62e",
   "metadata": {
    "execution": {
     "iopub.execute_input": "2022-04-19T10:54:39.449639Z",
     "iopub.status.busy": "2022-04-19T10:54:39.448593Z",
     "iopub.status.idle": "2022-04-19T10:54:39.484840Z",
     "shell.execute_reply": "2022-04-19T10:54:39.485328Z",
     "shell.execute_reply.started": "2022-04-19T10:43:44.105584Z"
    },
    "papermill": {
     "duration": 0.08369,
     "end_time": "2022-04-19T10:54:39.485497",
     "exception": false,
     "start_time": "2022-04-19T10:54:39.401807",
     "status": "completed"
    },
    "tags": []
   },
   "outputs": [
    {
     "data": {
      "text/html": [
       "<div>\n",
       "<style scoped>\n",
       "    .dataframe tbody tr th:only-of-type {\n",
       "        vertical-align: middle;\n",
       "    }\n",
       "\n",
       "    .dataframe tbody tr th {\n",
       "        vertical-align: top;\n",
       "    }\n",
       "\n",
       "    .dataframe thead th {\n",
       "        text-align: right;\n",
       "    }\n",
       "</style>\n",
       "<table border=\"1\" class=\"dataframe\">\n",
       "  <thead>\n",
       "    <tr style=\"text-align: right;\">\n",
       "      <th></th>\n",
       "      <th>selling_price</th>\n",
       "      <th>km_driven</th>\n",
       "      <th>fuel</th>\n",
       "      <th>seller_type</th>\n",
       "      <th>transmission</th>\n",
       "      <th>owner</th>\n",
       "      <th>mileage</th>\n",
       "      <th>engine</th>\n",
       "      <th>max_power</th>\n",
       "      <th>torque</th>\n",
       "      <th>seats</th>\n",
       "      <th>No of years</th>\n",
       "      <th>Brand</th>\n",
       "    </tr>\n",
       "  </thead>\n",
       "  <tbody>\n",
       "    <tr>\n",
       "      <th>0</th>\n",
       "      <td>45.0</td>\n",
       "      <td>145500</td>\n",
       "      <td>Diesel</td>\n",
       "      <td>Individual</td>\n",
       "      <td>Manual</td>\n",
       "      <td>First Owner</td>\n",
       "      <td>23.40</td>\n",
       "      <td>1248</td>\n",
       "      <td>74.00</td>\n",
       "      <td>190Nm@ 2000rpm</td>\n",
       "      <td>5</td>\n",
       "      <td>7</td>\n",
       "      <td>Maruti</td>\n",
       "    </tr>\n",
       "    <tr>\n",
       "      <th>1</th>\n",
       "      <td>37.0</td>\n",
       "      <td>120000</td>\n",
       "      <td>Diesel</td>\n",
       "      <td>Individual</td>\n",
       "      <td>Manual</td>\n",
       "      <td>Second Owner</td>\n",
       "      <td>21.14</td>\n",
       "      <td>1498</td>\n",
       "      <td>103.52</td>\n",
       "      <td>250Nm@ 1500-2500rpm</td>\n",
       "      <td>5</td>\n",
       "      <td>7</td>\n",
       "      <td>Skoda</td>\n",
       "    </tr>\n",
       "    <tr>\n",
       "      <th>2</th>\n",
       "      <td>15.8</td>\n",
       "      <td>140000</td>\n",
       "      <td>Petrol</td>\n",
       "      <td>Individual</td>\n",
       "      <td>Manual</td>\n",
       "      <td>Third Owner</td>\n",
       "      <td>17.70</td>\n",
       "      <td>1497</td>\n",
       "      <td>78.00</td>\n",
       "      <td>12.7@ 2,700(kgm@ rpm)</td>\n",
       "      <td>5</td>\n",
       "      <td>15</td>\n",
       "      <td>Honda</td>\n",
       "    </tr>\n",
       "    <tr>\n",
       "      <th>3</th>\n",
       "      <td>22.5</td>\n",
       "      <td>127000</td>\n",
       "      <td>Diesel</td>\n",
       "      <td>Individual</td>\n",
       "      <td>Manual</td>\n",
       "      <td>First Owner</td>\n",
       "      <td>23.00</td>\n",
       "      <td>1396</td>\n",
       "      <td>90.00</td>\n",
       "      <td>22.4 kgm at 1750-2750rpm</td>\n",
       "      <td>5</td>\n",
       "      <td>11</td>\n",
       "      <td>Hyundai</td>\n",
       "    </tr>\n",
       "    <tr>\n",
       "      <th>4</th>\n",
       "      <td>13.0</td>\n",
       "      <td>120000</td>\n",
       "      <td>Petrol</td>\n",
       "      <td>Individual</td>\n",
       "      <td>Manual</td>\n",
       "      <td>First Owner</td>\n",
       "      <td>16.10</td>\n",
       "      <td>1298</td>\n",
       "      <td>88.20</td>\n",
       "      <td>11.5@ 4,500(kgm@ rpm)</td>\n",
       "      <td>5</td>\n",
       "      <td>14</td>\n",
       "      <td>Maruti</td>\n",
       "    </tr>\n",
       "  </tbody>\n",
       "</table>\n",
       "</div>"
      ],
      "text/plain": [
       "   selling_price  km_driven    fuel seller_type transmission         owner  \\\n",
       "0           45.0     145500  Diesel  Individual       Manual   First Owner   \n",
       "1           37.0     120000  Diesel  Individual       Manual  Second Owner   \n",
       "2           15.8     140000  Petrol  Individual       Manual   Third Owner   \n",
       "3           22.5     127000  Diesel  Individual       Manual   First Owner   \n",
       "4           13.0     120000  Petrol  Individual       Manual   First Owner   \n",
       "\n",
       "   mileage  engine  max_power                    torque  seats  No of years  \\\n",
       "0    23.40    1248      74.00            190Nm@ 2000rpm      5            7   \n",
       "1    21.14    1498     103.52       250Nm@ 1500-2500rpm      5            7   \n",
       "2    17.70    1497      78.00     12.7@ 2,700(kgm@ rpm)      5           15   \n",
       "3    23.00    1396      90.00  22.4 kgm at 1750-2750rpm      5           11   \n",
       "4    16.10    1298      88.20     11.5@ 4,500(kgm@ rpm)      5           14   \n",
       "\n",
       "     Brand  \n",
       "0   Maruti  \n",
       "1    Skoda  \n",
       "2    Honda  \n",
       "3  Hyundai  \n",
       "4   Maruti  "
      ]
     },
     "execution_count": 11,
     "metadata": {},
     "output_type": "execute_result"
    }
   ],
   "source": [
    "df['Brand'] = df['name'].str.split(expand=True)[0]\n",
    "df.drop(columns=['name'],inplace=True)\n",
    "df.head()"
   ]
  },
  {
   "cell_type": "code",
   "execution_count": 12,
   "id": "64fe5236",
   "metadata": {
    "execution": {
     "iopub.execute_input": "2022-04-19T10:54:39.563241Z",
     "iopub.status.busy": "2022-04-19T10:54:39.561379Z",
     "iopub.status.idle": "2022-04-19T10:54:39.568240Z",
     "shell.execute_reply": "2022-04-19T10:54:39.568704Z",
     "shell.execute_reply.started": "2022-04-19T10:43:45.042836Z"
    },
    "papermill": {
     "duration": 0.047543,
     "end_time": "2022-04-19T10:54:39.568879",
     "exception": false,
     "start_time": "2022-04-19T10:54:39.521336",
     "status": "completed"
    },
    "tags": []
   },
   "outputs": [
    {
     "data": {
      "text/plain": [
       "array(['Maruti', 'Skoda', 'Honda', 'Hyundai', 'Toyota', 'Ford', 'Renault',\n",
       "       'Mahindra', 'Tata', 'Chevrolet', 'Datsun', 'Jeep', 'Mercedes-Benz',\n",
       "       'Mitsubishi', 'Audi', 'Volkswagen', 'BMW', 'Nissan', 'Lexus',\n",
       "       'Jaguar', 'Land', 'MG', 'Volvo', 'Daewoo', 'Kia', 'Fiat', 'Force',\n",
       "       'Ambassador', 'Ashok', 'Isuzu', 'Opel'], dtype=object)"
      ]
     },
     "execution_count": 12,
     "metadata": {},
     "output_type": "execute_result"
    }
   ],
   "source": [
    "df['Brand'].unique()"
   ]
  },
  {
   "cell_type": "code",
   "execution_count": 13,
   "id": "a1ea1cc2",
   "metadata": {
    "execution": {
     "iopub.execute_input": "2022-04-19T10:54:39.647787Z",
     "iopub.status.busy": "2022-04-19T10:54:39.647046Z",
     "iopub.status.idle": "2022-04-19T10:54:39.649946Z",
     "shell.execute_reply": "2022-04-19T10:54:39.650387Z",
     "shell.execute_reply.started": "2022-04-19T10:43:45.642150Z"
    },
    "papermill": {
     "duration": 0.04568,
     "end_time": "2022-04-19T10:54:39.650550",
     "exception": false,
     "start_time": "2022-04-19T10:54:39.604870",
     "status": "completed"
    },
    "tags": []
   },
   "outputs": [],
   "source": [
    "df.drop(['torque'],axis=1,inplace=True)"
   ]
  },
  {
   "cell_type": "markdown",
   "id": "383979f1",
   "metadata": {
    "papermill": {
     "duration": 0.03566,
     "end_time": "2022-04-19T10:54:39.722310",
     "exception": false,
     "start_time": "2022-04-19T10:54:39.686650",
     "status": "completed"
    },
    "tags": []
   },
   "source": [
    "# Analysis of Categorical Data"
   ]
  },
  {
   "cell_type": "code",
   "execution_count": 14,
   "id": "0a8144dc",
   "metadata": {
    "execution": {
     "iopub.execute_input": "2022-04-19T10:54:39.806435Z",
     "iopub.status.busy": "2022-04-19T10:54:39.805489Z",
     "iopub.status.idle": "2022-04-19T10:54:40.351823Z",
     "shell.execute_reply": "2022-04-19T10:54:40.351166Z",
     "shell.execute_reply.started": "2022-04-19T10:43:47.405092Z"
    },
    "papermill": {
     "duration": 0.593247,
     "end_time": "2022-04-19T10:54:40.351970",
     "exception": false,
     "start_time": "2022-04-19T10:54:39.758723",
     "status": "completed"
    },
    "tags": []
   },
   "outputs": [
    {
     "data": {
      "image/png": "[encoded data removed]",
      "text/plain": [
       "<Figure size 1152x648 with 2 Axes>"
      ]
     },
     "metadata": {
      "needs_background": "light"
     },
     "output_type": "display_data"
    }
   ],
   "source": [
    "fig, axes = plt.subplots(1, 2, figsize=(16, 9), sharey=True)\n",
    "fig.suptitle('Seller Type')\n",
    "\n",
    "# Bulbasaur\n",
    "sns.boxplot(ax=axes[0], x='seller_type',y='selling_price',data=df)\n",
    "axes[0].set_title('1')\n",
    "\n",
    "# Charmander\n",
    "sns.barplot(ax=axes[1], x='seller_type', y='selling_price',data=df)\n",
    "axes[1].set_title('2')\n",
    "\n",
    "plt.show()"
   ]
  },
  {
   "cell_type": "code",
   "execution_count": 15,
   "id": "730dc230",
   "metadata": {
    "execution": {
     "iopub.execute_input": "2022-04-19T10:54:40.453137Z",
     "iopub.status.busy": "2022-04-19T10:54:40.447744Z",
     "iopub.status.idle": "2022-04-19T10:54:40.965925Z",
     "shell.execute_reply": "2022-04-19T10:54:40.965426Z",
     "shell.execute_reply.started": "2022-04-19T10:43:48.303505Z"
    },
    "papermill": {
     "duration": 0.574712,
     "end_time": "2022-04-19T10:54:40.966082",
     "exception": false,
     "start_time": "2022-04-19T10:54:40.391370",
     "status": "completed"
    },
    "tags": []
   },
   "outputs": [
    {
     "data": {
      "image/png": "[encoded data removed]",
      "text/plain": [
       "<Figure size 1152x648 with 2 Axes>"
      ]
     },
     "metadata": {
      "needs_background": "light"
     },
     "output_type": "display_data"
    }
   ],
   "source": [
    "fig, axes = plt.subplots(1, 2, figsize=(16, 9), sharey=True)\n",
    "fig.suptitle('Fuel')\n",
    "\n",
    "# Bulbasaur\n",
    "sns.boxplot(ax=axes[0], x='fuel',y='selling_price',data=df)\n",
    "axes[0].set_title('1')\n",
    "\n",
    "# Charmander\n",
    "sns.barplot(ax=axes[1], x='fuel', y='selling_price',data=df)\n",
    "axes[1].set_title('2')\n",
    "\n",
    "plt.show()"
   ]
  },
  {
   "cell_type": "code",
   "execution_count": 16,
   "id": "a8e641ed",
   "metadata": {
    "execution": {
     "iopub.execute_input": "2022-04-19T10:54:41.067301Z",
     "iopub.status.busy": "2022-04-19T10:54:41.066241Z",
     "iopub.status.idle": "2022-04-19T10:54:41.447011Z",
     "shell.execute_reply": "2022-04-19T10:54:41.447493Z",
     "shell.execute_reply.started": "2022-04-19T10:43:48.957736Z"
    },
    "papermill": {
     "duration": 0.44298,
     "end_time": "2022-04-19T10:54:41.447645",
     "exception": false,
     "start_time": "2022-04-19T10:54:41.004665",
     "status": "completed"
    },
    "tags": []
   },
   "outputs": [
    {
     "data": {
      "image/png": "[encoded data removed]",
      "text/plain": [
       "<Figure size 1152x648 with 2 Axes>"
      ]
     },
     "metadata": {
      "needs_background": "light"
     },
     "output_type": "display_data"
    }
   ],
   "source": [
    "fig, axes = plt.subplots(1, 2, figsize=(16, 9), sharey=True)\n",
    "fig.suptitle('transmission')\n",
    "\n",
    "# Bulbasaur\n",
    "sns.boxplot(ax=axes[0], x='transmission',y='selling_price',data=df)\n",
    "axes[0].set_title('1')\n",
    "\n",
    "# Charmander\n",
    "sns.barplot(ax=axes[1], x='transmission', y='selling_price',data=df)\n",
    "axes[1].set_title('2')\n",
    "\n",
    "plt.show()"
   ]
  },
  {
   "cell_type": "code",
   "execution_count": 17,
   "id": "52fce12a",
   "metadata": {
    "execution": {
     "iopub.execute_input": "2022-04-19T10:54:41.655330Z",
     "iopub.status.busy": "2022-04-19T10:54:41.652045Z",
     "iopub.status.idle": "2022-04-19T10:54:42.167088Z",
     "shell.execute_reply": "2022-04-19T10:54:42.167601Z",
     "shell.execute_reply.started": "2022-04-19T10:43:49.468987Z"
    },
    "papermill": {
     "duration": 0.68432,
     "end_time": "2022-04-19T10:54:42.167765",
     "exception": false,
     "start_time": "2022-04-19T10:54:41.483445",
     "status": "completed"
    },
    "tags": []
   },
   "outputs": [
    {
     "data": {
      "image/png": "[encoded data removed]",
      "text/plain": [
       "<Figure size 1152x648 with 2 Axes>"
      ]
     },
     "metadata": {
      "needs_background": "light"
     },
     "output_type": "display_data"
    }
   ],
   "source": [
    "fig, axes = plt.subplots(1, 2, figsize=(16, 9), sharey=True)\n",
    "fig.suptitle('owner')\n",
    "\n",
    "# Bulbasaur\n",
    "sns.boxplot(ax=axes[0], x='owner',y='selling_price',data=df)\n",
    "axes[0].set_title('1')\n",
    "\n",
    "# Charmander\n",
    "sns.barplot(ax=axes[1], x='owner', y='selling_price',data=df)\n",
    "axes[1].set_title('2')\n",
    "\n",
    "plt.show()"
   ]
  },
  {
   "cell_type": "markdown",
   "id": "3932c305",
   "metadata": {
    "papermill": {
     "duration": 0.035868,
     "end_time": "2022-04-19T10:54:42.239943",
     "exception": false,
     "start_time": "2022-04-19T10:54:42.204075",
     "status": "completed"
    },
    "tags": []
   },
   "source": [
    "## Mileage Column has 0 in it"
   ]
  },
  {
   "cell_type": "code",
   "execution_count": 18,
   "id": "8db8b657",
   "metadata": {
    "execution": {
     "iopub.execute_input": "2022-04-19T10:54:42.320478Z",
     "iopub.status.busy": "2022-04-19T10:54:42.319609Z",
     "iopub.status.idle": "2022-04-19T10:54:42.439895Z",
     "shell.execute_reply": "2022-04-19T10:54:42.439103Z",
     "shell.execute_reply.started": "2022-04-19T10:43:50.667865Z"
    },
    "papermill": {
     "duration": 0.162108,
     "end_time": "2022-04-19T10:54:42.440112",
     "exception": false,
     "start_time": "2022-04-19T10:54:42.278004",
     "status": "completed"
    },
    "tags": []
   },
   "outputs": [
    {
     "name": "stderr",
     "output_type": "stream",
     "text": [
      "/opt/conda/lib/python3.7/site-packages/seaborn/_decorators.py:43: FutureWarning: Pass the following variable as a keyword arg: x. From version 0.12, the only valid positional argument will be `data`, and passing other arguments without an explicit keyword will result in an error or misinterpretation.\n",
      "  FutureWarning\n"
     ]
    },
    {
     "data": {
      "image/png": "[encoded data removed]",
      "text/plain": [
       "<Figure size 432x288 with 1 Axes>"
      ]
     },
     "metadata": {
      "needs_background": "light"
     },
     "output_type": "display_data"
    }
   ],
   "source": [
    "sns.boxplot(df['mileage'])\n",
    "plt.show()\n",
    "#As we can see there are some values as zero"
   ]
  },
  {
   "cell_type": "code",
   "execution_count": 19,
   "id": "ba83e4b6",
   "metadata": {
    "execution": {
     "iopub.execute_input": "2022-04-19T10:54:42.536581Z",
     "iopub.status.busy": "2022-04-19T10:54:42.535732Z",
     "iopub.status.idle": "2022-04-19T10:54:42.538188Z",
     "shell.execute_reply": "2022-04-19T10:54:42.537773Z",
     "shell.execute_reply.started": "2022-04-19T10:43:52.449668Z"
    },
    "papermill": {
     "duration": 0.044994,
     "end_time": "2022-04-19T10:54:42.538334",
     "exception": false,
     "start_time": "2022-04-19T10:54:42.493340",
     "status": "completed"
    },
    "tags": []
   },
   "outputs": [],
   "source": [
    "median_value = df['mileage'].median()\n",
    "df['mileage'] = df['mileage'].replace(0.0,median_value)"
   ]
  },
  {
   "cell_type": "markdown",
   "id": "3ddbeefb",
   "metadata": {
    "papermill": {
     "duration": 0.036477,
     "end_time": "2022-04-19T10:54:42.611824",
     "exception": false,
     "start_time": "2022-04-19T10:54:42.575347",
     "status": "completed"
    },
    "tags": []
   },
   "source": [
    "# Checking Normaizlation"
   ]
  },
  {
   "cell_type": "code",
   "execution_count": 20,
   "id": "5a82cf00",
   "metadata": {
    "execution": {
     "iopub.execute_input": "2022-04-19T10:54:42.690065Z",
     "iopub.status.busy": "2022-04-19T10:54:42.689304Z",
     "iopub.status.idle": "2022-04-19T10:54:42.904848Z",
     "shell.execute_reply": "2022-04-19T10:54:42.905263Z",
     "shell.execute_reply.started": "2022-04-19T10:43:53.946172Z"
    },
    "papermill": {
     "duration": 0.256816,
     "end_time": "2022-04-19T10:54:42.905432",
     "exception": false,
     "start_time": "2022-04-19T10:54:42.648616",
     "status": "completed"
    },
    "tags": []
   },
   "outputs": [
    {
     "data": {
      "text/plain": [
       "<AxesSubplot:>"
      ]
     },
     "execution_count": 20,
     "metadata": {},
     "output_type": "execute_result"
    },
    {
     "data": {
      "image/png": "[encoded data removed]",
      "text/plain": [
       "<Figure size 432x288 with 1 Axes>"
      ]
     },
     "metadata": {
      "needs_background": "light"
     },
     "output_type": "display_data"
    }
   ],
   "source": [
    "df['selling_price'].hist()"
   ]
  },
  {
   "cell_type": "code",
   "execution_count": 21,
   "id": "7aa95351",
   "metadata": {
    "execution": {
     "iopub.execute_input": "2022-04-19T10:54:43.000461Z",
     "iopub.status.busy": "2022-04-19T10:54:42.999560Z",
     "iopub.status.idle": "2022-04-19T10:54:43.185521Z",
     "shell.execute_reply": "2022-04-19T10:54:43.184736Z",
     "shell.execute_reply.started": "2022-04-19T10:43:54.670856Z"
    },
    "papermill": {
     "duration": 0.242283,
     "end_time": "2022-04-19T10:54:43.185665",
     "exception": false,
     "start_time": "2022-04-19T10:54:42.943382",
     "status": "completed"
    },
    "tags": []
   },
   "outputs": [
    {
     "data": {
      "text/plain": [
       "<AxesSubplot:>"
      ]
     },
     "execution_count": 21,
     "metadata": {},
     "output_type": "execute_result"
    },
    {
     "data": {
      "image/png": "[encoded data removed]",
      "text/plain": [
       "<Figure size 432x288 with 1 Axes>"
      ]
     },
     "metadata": {
      "needs_background": "light"
     },
     "output_type": "display_data"
    }
   ],
   "source": [
    "log_medv = np.log(df.selling_price)\n",
    "log_medv.hist()"
   ]
  },
  {
   "cell_type": "code",
   "execution_count": 22,
   "id": "eba71535",
   "metadata": {
    "execution": {
     "iopub.execute_input": "2022-04-19T10:54:43.269589Z",
     "iopub.status.busy": "2022-04-19T10:54:43.268689Z",
     "iopub.status.idle": "2022-04-19T10:54:43.276998Z",
     "shell.execute_reply": "2022-04-19T10:54:43.277443Z",
     "shell.execute_reply.started": "2022-04-19T10:43:57.246559Z"
    },
    "papermill": {
     "duration": 0.052889,
     "end_time": "2022-04-19T10:54:43.277600",
     "exception": false,
     "start_time": "2022-04-19T10:54:43.224711",
     "status": "completed"
    },
    "tags": []
   },
   "outputs": [
    {
     "data": {
      "text/plain": [
       "NormaltestResult(statistic=246.95762441467772, pvalue=2.3650113340430068e-54)"
      ]
     },
     "execution_count": 22,
     "metadata": {},
     "output_type": "execute_result"
    }
   ],
   "source": [
    "normaltest(log_medv)"
   ]
  },
  {
   "cell_type": "code",
   "execution_count": 23,
   "id": "0627b079",
   "metadata": {
    "execution": {
     "iopub.execute_input": "2022-04-19T10:54:43.364810Z",
     "iopub.status.busy": "2022-04-19T10:54:43.363936Z",
     "iopub.status.idle": "2022-04-19T10:54:43.369481Z",
     "shell.execute_reply": "2022-04-19T10:54:43.369003Z",
     "shell.execute_reply.started": "2022-04-19T10:43:57.931440Z"
    },
    "papermill": {
     "duration": 0.05201,
     "end_time": "2022-04-19T10:54:43.369617",
     "exception": false,
     "start_time": "2022-04-19T10:54:43.317607",
     "status": "completed"
    },
    "tags": []
   },
   "outputs": [],
   "source": [
    "X = df.drop(columns=['selling_price'])\n",
    "y = df['selling_price']\n",
    "X_train,X_test,y_train,y_test = train_test_split(X,y,test_size=0.2,random_state=2)"
   ]
  },
  {
   "cell_type": "code",
   "execution_count": 24,
   "id": "bab96f8b",
   "metadata": {
    "execution": {
     "iopub.execute_input": "2022-04-19T10:54:43.458352Z",
     "iopub.status.busy": "2022-04-19T10:54:43.457722Z",
     "iopub.status.idle": "2022-04-19T10:54:43.486075Z",
     "shell.execute_reply": "2022-04-19T10:54:43.486543Z",
     "shell.execute_reply.started": "2022-04-19T10:43:59.289239Z"
    },
    "papermill": {
     "duration": 0.077921,
     "end_time": "2022-04-19T10:54:43.486721",
     "exception": false,
     "start_time": "2022-04-19T10:54:43.408800",
     "status": "completed"
    },
    "tags": []
   },
   "outputs": [],
   "source": [
    "tnf = ColumnTransformer(\n",
    "    [('ordinal',OrdinalEncoder(),['owner']),\n",
    "    ('nominal',OneHotEncoder(drop='first',sparse=False),\n",
    "     ['fuel','seller_type','transmission','Brand'])\n",
    "    ], remainder='passthrough'\n",
    ")\n",
    "\n",
    "new_X_train = tnf.fit_transform(X_train)\n",
    "new_X_test = tnf.transform(X_test)"
   ]
  },
  {
   "cell_type": "code",
   "execution_count": 25,
   "id": "f4fb1d06",
   "metadata": {
    "execution": {
     "iopub.execute_input": "2022-04-19T10:54:43.570890Z",
     "iopub.status.busy": "2022-04-19T10:54:43.569967Z",
     "iopub.status.idle": "2022-04-19T10:54:43.577319Z",
     "shell.execute_reply": "2022-04-19T10:54:43.576669Z",
     "shell.execute_reply.started": "2022-04-19T10:44:36.466119Z"
    },
    "papermill": {
     "duration": 0.051595,
     "end_time": "2022-04-19T10:54:43.577486",
     "exception": false,
     "start_time": "2022-04-19T10:54:43.525891",
     "status": "completed"
    },
    "tags": []
   },
   "outputs": [
    {
     "name": "stdout",
     "output_type": "stream",
     "text": [
      "---------------------------------------\n",
      "Shape of new X_train:  (6324, 43)\n",
      "---------------------------------------\n",
      "Shape of new X_test:  (1582, 43)\n",
      "---------------------------------------\n",
      "Shape of y_train:  (6324,)\n",
      "---------------------------------------\n",
      "Shape of y_test:  (1582,)\n",
      "---------------------------------------\n"
     ]
    }
   ],
   "source": [
    "print(\"---------------------------------------\")\n",
    "print(\"Shape of new X_train: \",new_X_train.shape)\n",
    "print(\"---------------------------------------\")\n",
    "print(\"Shape of new X_test: \",new_X_test.shape)\n",
    "print(\"---------------------------------------\")\n",
    "print(\"Shape of y_train: \",y_train.shape)\n",
    "print(\"---------------------------------------\")\n",
    "print(\"Shape of y_test: \",y_test.shape)\n",
    "print(\"---------------------------------------\")"
   ]
  },
  {
   "cell_type": "code",
   "execution_count": 26,
   "id": "f6d8882f",
   "metadata": {
    "execution": {
     "iopub.execute_input": "2022-04-19T10:54:43.661508Z",
     "iopub.status.busy": "2022-04-19T10:54:43.660736Z",
     "iopub.status.idle": "2022-04-19T10:54:47.807563Z",
     "shell.execute_reply": "2022-04-19T10:54:47.807097Z",
     "shell.execute_reply.started": "2022-04-19T10:45:17.800678Z"
    },
    "papermill": {
     "duration": 4.190327,
     "end_time": "2022-04-19T10:54:47.807697",
     "exception": false,
     "start_time": "2022-04-19T10:54:43.617370",
     "status": "completed"
    },
    "tags": []
   },
   "outputs": [
    {
     "data": {
      "text/plain": [
       "XGBRegressor(base_score=0.5, booster='gbtree', colsample_bylevel=1,\n",
       "             colsample_bynode=1, colsample_bytree=1, enable_categorical=False,\n",
       "             gamma=0, gpu_id=-1, importance_type=None,\n",
       "             interaction_constraints='', learning_rate=0.300000012,\n",
       "             max_delta_step=0, max_depth=6, min_child_weight=1, missing=nan,\n",
       "             monotone_constraints='()', n_estimators=100, n_jobs=2,\n",
       "             num_parallel_tree=1, predictor='auto', random_state=0, reg_alpha=0,\n",
       "             reg_lambda=1, scale_pos_weight=1, subsample=1, tree_method='exact',\n",
       "             validate_parameters=1, verbosity=None)"
      ]
     },
     "execution_count": 26,
     "metadata": {},
     "output_type": "execute_result"
    }
   ],
   "source": [
    "from xgboost import XGBRegressor\n",
    "from sklearn import metrics\n",
    "from sklearn.model_selection import RandomizedSearchCV\n",
    "\n",
    "xgb = XGBRegressor()\n",
    "\n",
    "xgb.fit(new_X_train, y_train)"
   ]
  },
  {
   "cell_type": "code",
   "execution_count": 27,
   "id": "7c3cc159",
   "metadata": {
    "execution": {
     "iopub.execute_input": "2022-04-19T10:54:47.898459Z",
     "iopub.status.busy": "2022-04-19T10:54:47.897709Z",
     "iopub.status.idle": "2022-04-19T10:54:47.905011Z",
     "shell.execute_reply": "2022-04-19T10:54:47.905486Z",
     "shell.execute_reply.started": "2022-04-19T10:50:09.139183Z"
    },
    "papermill": {
     "duration": 0.057789,
     "end_time": "2022-04-19T10:54:47.905671",
     "exception": false,
     "start_time": "2022-04-19T10:54:47.847882",
     "status": "completed"
    },
    "tags": []
   },
   "outputs": [
    {
     "name": "stdout",
     "output_type": "stream",
     "text": [
      "MAE: 6.944657753292378\n",
      "MSE: 193.71206719477524\n",
      "RMSE: 13.918048253788145\n",
      "R2_score:  0.9700323397311835\n"
     ]
    }
   ],
   "source": [
    "pred_xgb = xgb.predict(new_X_test)\n",
    "\n",
    "print('MAE:', metrics.mean_absolute_error(y_test, pred_xgb))\n",
    "print('MSE:', metrics.mean_squared_error(y_test, pred_xgb))\n",
    "print('RMSE:', np.sqrt(metrics.mean_squared_error(y_test, pred_xgb)))\n",
    "print('R2_score: ', metrics.r2_score(y_test, pred_xgb))"
   ]
  },
  {
   "cell_type": "markdown",
   "id": "4df0b4ff",
   "metadata": {
    "papermill": {
     "duration": 0.039593,
     "end_time": "2022-04-19T10:54:47.986365",
     "exception": false,
     "start_time": "2022-04-19T10:54:47.946772",
     "status": "completed"
    },
    "tags": []
   },
   "source": [
    "# Hyperparameter tuning\n"
   ]
  },
  {
   "cell_type": "code",
   "execution_count": 28,
   "id": "940574ce",
   "metadata": {
    "execution": {
     "iopub.execute_input": "2022-04-19T10:54:48.071858Z",
     "iopub.status.busy": "2022-04-19T10:54:48.070959Z",
     "iopub.status.idle": "2022-04-19T10:54:48.072910Z",
     "shell.execute_reply": "2022-04-19T10:54:48.073344Z",
     "shell.execute_reply.started": "2022-04-19T10:45:37.282575Z"
    },
    "papermill": {
     "duration": 0.046638,
     "end_time": "2022-04-19T10:54:48.073494",
     "exception": false,
     "start_time": "2022-04-19T10:54:48.026856",
     "status": "completed"
    },
    "tags": []
   },
   "outputs": [],
   "source": [
    "from sklearn.model_selection import RandomizedSearchCV\n",
    "from sklearn import metrics"
   ]
  },
  {
   "cell_type": "code",
   "execution_count": 29,
   "id": "f8426750",
   "metadata": {
    "execution": {
     "iopub.execute_input": "2022-04-19T10:54:48.159321Z",
     "iopub.status.busy": "2022-04-19T10:54:48.158502Z",
     "iopub.status.idle": "2022-04-19T10:54:48.161046Z",
     "shell.execute_reply": "2022-04-19T10:54:48.160615Z",
     "shell.execute_reply.started": "2022-04-19T10:45:38.419944Z"
    },
    "papermill": {
     "duration": 0.047674,
     "end_time": "2022-04-19T10:54:48.161163",
     "exception": false,
     "start_time": "2022-04-19T10:54:48.113489",
     "status": "completed"
    },
    "tags": []
   },
   "outputs": [],
   "source": [
    "hyperparameter_grid = {\n",
    "    'n_estimators': [100, 400, 800],\n",
    "    'max_depth': [3, 6, 9],\n",
    "    'learning_rate': [0.05, 0.1, 0.01,0.000],\n",
    "    'min_child_weight': [1, 10, 100]\n",
    "    }\n",
    "\n",
    "new_xgb = XGBRegressor()"
   ]
  },
  {
   "cell_type": "code",
   "execution_count": 30,
   "id": "53957984",
   "metadata": {
    "execution": {
     "iopub.execute_input": "2022-04-19T10:54:48.249436Z",
     "iopub.status.busy": "2022-04-19T10:54:48.248557Z",
     "iopub.status.idle": "2022-04-19T10:58:35.337432Z",
     "shell.execute_reply": "2022-04-19T10:58:35.337879Z",
     "shell.execute_reply.started": "2022-04-19T10:46:14.390006Z"
    },
    "papermill": {
     "duration": 227.136703,
     "end_time": "2022-04-19T10:58:35.338062",
     "exception": false,
     "start_time": "2022-04-19T10:54:48.201359",
     "status": "completed"
    },
    "tags": []
   },
   "outputs": [
    {
     "name": "stdout",
     "output_type": "stream",
     "text": [
      "Fitting 5 folds for each of 10 candidates, totalling 50 fits\n",
      "[CV] END learning_rate=0.01, max_depth=9, min_child_weight=10, n_estimators=800; total time=  10.7s\n",
      "[CV] END learning_rate=0.01, max_depth=9, min_child_weight=10, n_estimators=800; total time=  10.6s\n",
      "[CV] END learning_rate=0.01, max_depth=9, min_child_weight=10, n_estimators=800; total time=  11.6s\n",
      "[CV] END learning_rate=0.01, max_depth=9, min_child_weight=10, n_estimators=800; total time=  10.8s\n",
      "[CV] END learning_rate=0.01, max_depth=9, min_child_weight=10, n_estimators=800; total time=  10.6s\n",
      "[CV] END learning_rate=0.05, max_depth=6, min_child_weight=1, n_estimators=400; total time=   3.7s\n",
      "[CV] END learning_rate=0.05, max_depth=6, min_child_weight=1, n_estimators=400; total time=   3.4s\n",
      "[CV] END learning_rate=0.05, max_depth=6, min_child_weight=1, n_estimators=400; total time=   4.3s\n",
      "[CV] END learning_rate=0.05, max_depth=6, min_child_weight=1, n_estimators=400; total time=   4.1s\n",
      "[CV] END learning_rate=0.05, max_depth=6, min_child_weight=1, n_estimators=400; total time=   3.5s\n",
      "[CV] END learning_rate=0.05, max_depth=3, min_child_weight=10, n_estimators=400; total time=   1.7s\n",
      "[CV] END learning_rate=0.05, max_depth=3, min_child_weight=10, n_estimators=400; total time=   1.7s\n",
      "[CV] END learning_rate=0.05, max_depth=3, min_child_weight=10, n_estimators=400; total time=   1.7s\n",
      "[CV] END learning_rate=0.05, max_depth=3, min_child_weight=10, n_estimators=400; total time=   2.2s\n",
      "[CV] END learning_rate=0.05, max_depth=3, min_child_weight=10, n_estimators=400; total time=   1.7s\n",
      "[CV] END learning_rate=0.0, max_depth=3, min_child_weight=1, n_estimators=800; total time=   3.3s\n",
      "[CV] END learning_rate=0.0, max_depth=3, min_child_weight=1, n_estimators=800; total time=   3.4s\n",
      "[CV] END learning_rate=0.0, max_depth=3, min_child_weight=1, n_estimators=800; total time=   3.9s\n",
      "[CV] END learning_rate=0.0, max_depth=3, min_child_weight=1, n_estimators=800; total time=   4.1s\n",
      "[CV] END learning_rate=0.0, max_depth=3, min_child_weight=1, n_estimators=800; total time=   3.4s\n",
      "[CV] END learning_rate=0.01, max_depth=3, min_child_weight=100, n_estimators=800; total time=   3.7s\n",
      "[CV] END learning_rate=0.01, max_depth=3, min_child_weight=100, n_estimators=800; total time=   3.4s\n",
      "[CV] END learning_rate=0.01, max_depth=3, min_child_weight=100, n_estimators=800; total time=   3.4s\n",
      "[CV] END learning_rate=0.01, max_depth=3, min_child_weight=100, n_estimators=800; total time=   3.7s\n",
      "[CV] END learning_rate=0.01, max_depth=3, min_child_weight=100, n_estimators=800; total time=   3.3s\n",
      "[CV] END learning_rate=0.01, max_depth=6, min_child_weight=10, n_estimators=400; total time=   3.5s\n",
      "[CV] END learning_rate=0.01, max_depth=6, min_child_weight=10, n_estimators=400; total time=   3.9s\n",
      "[CV] END learning_rate=0.01, max_depth=6, min_child_weight=10, n_estimators=400; total time=   4.4s\n",
      "[CV] END learning_rate=0.01, max_depth=6, min_child_weight=10, n_estimators=400; total time=   3.7s\n",
      "[CV] END learning_rate=0.01, max_depth=6, min_child_weight=10, n_estimators=400; total time=   3.7s\n",
      "[CV] END learning_rate=0.1, max_depth=3, min_child_weight=10, n_estimators=100; total time=   0.4s\n",
      "[CV] END learning_rate=0.1, max_depth=3, min_child_weight=10, n_estimators=100; total time=   0.5s\n",
      "[CV] END learning_rate=0.1, max_depth=3, min_child_weight=10, n_estimators=100; total time=   0.4s\n",
      "[CV] END learning_rate=0.1, max_depth=3, min_child_weight=10, n_estimators=100; total time=   0.4s\n",
      "[CV] END learning_rate=0.1, max_depth=3, min_child_weight=10, n_estimators=100; total time=   0.4s\n",
      "[CV] END learning_rate=0.1, max_depth=9, min_child_weight=1, n_estimators=100; total time=   1.4s\n",
      "[CV] END learning_rate=0.1, max_depth=9, min_child_weight=1, n_estimators=100; total time=   1.4s\n",
      "[CV] END learning_rate=0.1, max_depth=9, min_child_weight=1, n_estimators=100; total time=   1.4s\n",
      "[CV] END learning_rate=0.1, max_depth=9, min_child_weight=1, n_estimators=100; total time=   1.8s\n",
      "[CV] END learning_rate=0.1, max_depth=9, min_child_weight=1, n_estimators=100; total time=   1.3s\n",
      "[CV] END learning_rate=0.0, max_depth=6, min_child_weight=10, n_estimators=800; total time=   6.5s\n",
      "[CV] END learning_rate=0.0, max_depth=6, min_child_weight=10, n_estimators=800; total time=   7.8s\n",
      "[CV] END learning_rate=0.0, max_depth=6, min_child_weight=10, n_estimators=800; total time=   7.1s\n",
      "[CV] END learning_rate=0.0, max_depth=6, min_child_weight=10, n_estimators=800; total time=   7.0s\n",
      "[CV] END learning_rate=0.0, max_depth=6, min_child_weight=10, n_estimators=800; total time=   6.9s\n",
      "[CV] END learning_rate=0.05, max_depth=6, min_child_weight=1, n_estimators=800; total time=   6.7s\n",
      "[CV] END learning_rate=0.05, max_depth=6, min_child_weight=1, n_estimators=800; total time=   7.8s\n",
      "[CV] END learning_rate=0.05, max_depth=6, min_child_weight=1, n_estimators=800; total time=   7.3s\n",
      "[CV] END learning_rate=0.05, max_depth=6, min_child_weight=1, n_estimators=800; total time=   6.5s\n",
      "[CV] END learning_rate=0.05, max_depth=6, min_child_weight=1, n_estimators=800; total time=   6.9s\n"
     ]
    },
    {
     "data": {
      "text/plain": [
       "RandomizedSearchCV(cv=5,\n",
       "                   estimator=XGBRegressor(base_score=None, booster=None,\n",
       "                                          colsample_bylevel=None,\n",
       "                                          colsample_bynode=None,\n",
       "                                          colsample_bytree=None,\n",
       "                                          enable_categorical=False, gamma=None,\n",
       "                                          gpu_id=None, importance_type=None,\n",
       "                                          interaction_constraints=None,\n",
       "                                          learning_rate=None,\n",
       "                                          max_delta_step=None, max_depth=None,\n",
       "                                          min_child_weight=None, missing=nan,\n",
       "                                          monotone_constraints=...\n",
       "                                          predictor=None, random_state=None,\n",
       "                                          reg_alpha=None, reg_lambda=None,\n",
       "                                          scale_pos_weight=None, subsample=None,\n",
       "                                          tree_method=None,\n",
       "                                          validate_parameters=None,\n",
       "                                          verbosity=None),\n",
       "                   n_jobs=1,\n",
       "                   param_distributions={'learning_rate': [0.05, 0.1, 0.01, 0.0],\n",
       "                                        'max_depth': [3, 6, 9],\n",
       "                                        'min_child_weight': [1, 10, 100],\n",
       "                                        'n_estimators': [100, 400, 800]},\n",
       "                   random_state=42, scoring='neg_mean_squared_error',\n",
       "                   verbose=2)"
      ]
     },
     "execution_count": 30,
     "metadata": {},
     "output_type": "execute_result"
    }
   ],
   "source": [
    "xgb_random = RandomizedSearchCV(estimator = new_xgb, param_distributions = hyperparameter_grid,\n",
    "                               scoring='neg_mean_squared_error', n_iter = 10, \n",
    "                               cv = 5, verbose=2, random_state=42, n_jobs = 1)\n",
    "\n",
    "xgb_random.fit(new_X_train,y_train)"
   ]
  },
  {
   "cell_type": "code",
   "execution_count": 31,
   "id": "cb03cbc1",
   "metadata": {
    "execution": {
     "iopub.execute_input": "2022-04-19T10:58:35.467091Z",
     "iopub.status.busy": "2022-04-19T10:58:35.460067Z",
     "iopub.status.idle": "2022-04-19T10:58:35.496788Z",
     "shell.execute_reply": "2022-04-19T10:58:35.497717Z",
     "shell.execute_reply.started": "2022-04-19T10:51:49.627381Z"
    },
    "papermill": {
     "duration": 0.102157,
     "end_time": "2022-04-19T10:58:35.497938",
     "exception": false,
     "start_time": "2022-04-19T10:58:35.395781",
     "status": "completed"
    },
    "tags": []
   },
   "outputs": [
    {
     "name": "stdout",
     "output_type": "stream",
     "text": [
      "MAE: 6.598925935343032\n",
      "MSE: 166.07437373393788\n",
      "RMSE: 12.886984664146143\n",
      "R2_score:  0.9743079484748314\n"
     ]
    }
   ],
   "source": [
    "pred_xgb_new = xgb_random.predict(new_X_test)\n",
    "\n",
    "print('MAE:', metrics.mean_absolute_error(y_test, pred_xgb_new))\n",
    "print('MSE:', metrics.mean_squared_error(y_test, pred_xgb_new))\n",
    "print('RMSE:', np.sqrt(metrics.mean_squared_error(y_test, pred_xgb_new)))\n",
    "print('R2_score: ', metrics.r2_score(y_test, pred_xgb_new))"
   ]
  },
  {
   "cell_type": "code",
   "execution_count": null,
   "id": "4fa19103",
   "metadata": {
    "papermill": {
     "duration": 0.066164,
     "end_time": "2022-04-19T10:58:35.632149",
     "exception": false,
     "start_time": "2022-04-19T10:58:35.565985",
     "status": "completed"
    },
    "tags": []
   },
   "outputs": [],
   "source": []
  }
 ],
 "metadata": {
  "kernelspec": {
   "display_name": "Python 3",
   "language": "python",
   "name": "python3"
  },
  "language_info": {
   "codemirror_mode": {
    "name": "ipython",
    "version": 3
   },
   "file_extension": ".py",
   "mimetype": "text/x-python",
   "name": "python",
   "nbconvert_exporter": "python",
   "pygments_lexer": "ipython3",
   "version": "3.7.12"
  },
  "papermill": {
   "default_parameters": {},
   "duration": 248.07046,
   "end_time": "2022-04-19T10:58:37.013199",
   "environment_variables": {},
   "exception": null,
   "input_path": "__notebook__.ipynb",
   "output_path": "__notebook__.ipynb",
   "parameters": {},
   "start_time": "2022-04-19T10:54:28.942739",
   "version": "2.3.3"
  }
 },
 "nbformat": 4,
 "nbformat_minor": 5
}
