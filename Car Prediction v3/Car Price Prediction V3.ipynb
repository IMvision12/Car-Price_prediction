{
 "cells": [
  {
   "cell_type": "code",
   "execution_count": 33,
   "id": "41e5ed0a",
   "metadata": {},
   "outputs": [],
   "source": [
    "import pandas as pd\n",
    "import numpy as np\n",
    "import matplotlib.pyplot as plt\n",
    "import seaborn as sns\n",
    "\n",
    "import os\n",
    "import warnings\n",
    "warnings.filterwarnings(\"ignore\")\n",
    "import pickle\n",
    "from sklearn.model_selection import train_test_split\n",
    "from sklearn.preprocessing import OrdinalEncoder,OneHotEncoder\n",
    "from sklearn.compose import ColumnTransformer\n",
    "\n",
    "from sklearn.linear_model import LinearRegression\n",
    "from sklearn.preprocessing import PolynomialFeatures\n",
    "from sklearn.metrics import r2_score\n",
    "from sklearn import metrics\n",
    "from scipy.stats.mstats import normaltest # D'Agostino K^2 Test\n",
    "from sklearn.preprocessing import MinMaxScaler"
   ]
  },
  {
   "cell_type": "code",
   "execution_count": 34,
   "id": "e19b1ff7",
   "metadata": {},
   "outputs": [
    {
     "data": {
      "text/html": [
       "<div>\n",
       "<style scoped>\n",
       "    .dataframe tbody tr th:only-of-type {\n",
       "        vertical-align: middle;\n",
       "    }\n",
       "\n",
       "    .dataframe tbody tr th {\n",
       "        vertical-align: top;\n",
       "    }\n",
       "\n",
       "    .dataframe thead th {\n",
       "        text-align: right;\n",
       "    }\n",
       "</style>\n",
       "<table border=\"1\" class=\"dataframe\">\n",
       "  <thead>\n",
       "    <tr style=\"text-align: right;\">\n",
       "      <th></th>\n",
       "      <th>name</th>\n",
       "      <th>year</th>\n",
       "      <th>selling_price</th>\n",
       "      <th>km_driven</th>\n",
       "      <th>fuel</th>\n",
       "      <th>seller_type</th>\n",
       "      <th>transmission</th>\n",
       "      <th>owner</th>\n",
       "      <th>mileage</th>\n",
       "      <th>engine</th>\n",
       "      <th>max_power</th>\n",
       "      <th>torque</th>\n",
       "      <th>seats</th>\n",
       "    </tr>\n",
       "  </thead>\n",
       "  <tbody>\n",
       "    <tr>\n",
       "      <th>0</th>\n",
       "      <td>Maruti Swift Dzire VDI</td>\n",
       "      <td>2014</td>\n",
       "      <td>450000</td>\n",
       "      <td>145500</td>\n",
       "      <td>Diesel</td>\n",
       "      <td>Individual</td>\n",
       "      <td>Manual</td>\n",
       "      <td>First Owner</td>\n",
       "      <td>23.4 kmpl</td>\n",
       "      <td>1248 CC</td>\n",
       "      <td>74 bhp</td>\n",
       "      <td>190Nm@ 2000rpm</td>\n",
       "      <td>5.0</td>\n",
       "    </tr>\n",
       "    <tr>\n",
       "      <th>1</th>\n",
       "      <td>Skoda Rapid 1.5 TDI Ambition</td>\n",
       "      <td>2014</td>\n",
       "      <td>370000</td>\n",
       "      <td>120000</td>\n",
       "      <td>Diesel</td>\n",
       "      <td>Individual</td>\n",
       "      <td>Manual</td>\n",
       "      <td>Second Owner</td>\n",
       "      <td>21.14 kmpl</td>\n",
       "      <td>1498 CC</td>\n",
       "      <td>103.52 bhp</td>\n",
       "      <td>250Nm@ 1500-2500rpm</td>\n",
       "      <td>5.0</td>\n",
       "    </tr>\n",
       "    <tr>\n",
       "      <th>2</th>\n",
       "      <td>Honda City 2017-2020 EXi</td>\n",
       "      <td>2006</td>\n",
       "      <td>158000</td>\n",
       "      <td>140000</td>\n",
       "      <td>Petrol</td>\n",
       "      <td>Individual</td>\n",
       "      <td>Manual</td>\n",
       "      <td>Third Owner</td>\n",
       "      <td>17.7 kmpl</td>\n",
       "      <td>1497 CC</td>\n",
       "      <td>78 bhp</td>\n",
       "      <td>12.7@ 2,700(kgm@ rpm)</td>\n",
       "      <td>5.0</td>\n",
       "    </tr>\n",
       "    <tr>\n",
       "      <th>3</th>\n",
       "      <td>Hyundai i20 Sportz Diesel</td>\n",
       "      <td>2010</td>\n",
       "      <td>225000</td>\n",
       "      <td>127000</td>\n",
       "      <td>Diesel</td>\n",
       "      <td>Individual</td>\n",
       "      <td>Manual</td>\n",
       "      <td>First Owner</td>\n",
       "      <td>23.0 kmpl</td>\n",
       "      <td>1396 CC</td>\n",
       "      <td>90 bhp</td>\n",
       "      <td>22.4 kgm at 1750-2750rpm</td>\n",
       "      <td>5.0</td>\n",
       "    </tr>\n",
       "    <tr>\n",
       "      <th>4</th>\n",
       "      <td>Maruti Swift VXI BSIII</td>\n",
       "      <td>2007</td>\n",
       "      <td>130000</td>\n",
       "      <td>120000</td>\n",
       "      <td>Petrol</td>\n",
       "      <td>Individual</td>\n",
       "      <td>Manual</td>\n",
       "      <td>First Owner</td>\n",
       "      <td>16.1 kmpl</td>\n",
       "      <td>1298 CC</td>\n",
       "      <td>88.2 bhp</td>\n",
       "      <td>11.5@ 4,500(kgm@ rpm)</td>\n",
       "      <td>5.0</td>\n",
       "    </tr>\n",
       "  </tbody>\n",
       "</table>\n",
       "</div>"
      ],
      "text/plain": [
       "                           name  year  selling_price  km_driven    fuel  \\\n",
       "0        Maruti Swift Dzire VDI  2014         450000     145500  Diesel   \n",
       "1  Skoda Rapid 1.5 TDI Ambition  2014         370000     120000  Diesel   \n",
       "2      Honda City 2017-2020 EXi  2006         158000     140000  Petrol   \n",
       "3     Hyundai i20 Sportz Diesel  2010         225000     127000  Diesel   \n",
       "4        Maruti Swift VXI BSIII  2007         130000     120000  Petrol   \n",
       "\n",
       "  seller_type transmission         owner     mileage   engine   max_power  \\\n",
       "0  Individual       Manual   First Owner   23.4 kmpl  1248 CC      74 bhp   \n",
       "1  Individual       Manual  Second Owner  21.14 kmpl  1498 CC  103.52 bhp   \n",
       "2  Individual       Manual   Third Owner   17.7 kmpl  1497 CC      78 bhp   \n",
       "3  Individual       Manual   First Owner   23.0 kmpl  1396 CC      90 bhp   \n",
       "4  Individual       Manual   First Owner   16.1 kmpl  1298 CC    88.2 bhp   \n",
       "\n",
       "                     torque  seats  \n",
       "0            190Nm@ 2000rpm    5.0  \n",
       "1       250Nm@ 1500-2500rpm    5.0  \n",
       "2     12.7@ 2,700(kgm@ rpm)    5.0  \n",
       "3  22.4 kgm at 1750-2750rpm    5.0  \n",
       "4     11.5@ 4,500(kgm@ rpm)    5.0  "
      ]
     },
     "execution_count": 34,
     "metadata": {},
     "output_type": "execute_result"
    }
   ],
   "source": [
    "df = pd.read_csv(\"Car details v3.csv\")\n",
    "df.head()"
   ]
  },
  {
   "cell_type": "code",
   "execution_count": 35,
   "id": "e90fd317",
   "metadata": {},
   "outputs": [
    {
     "data": {
      "text/html": [
       "<div>\n",
       "<style scoped>\n",
       "    .dataframe tbody tr th:only-of-type {\n",
       "        vertical-align: middle;\n",
       "    }\n",
       "\n",
       "    .dataframe tbody tr th {\n",
       "        vertical-align: top;\n",
       "    }\n",
       "\n",
       "    .dataframe thead th {\n",
       "        text-align: right;\n",
       "    }\n",
       "</style>\n",
       "<table border=\"1\" class=\"dataframe\">\n",
       "  <thead>\n",
       "    <tr style=\"text-align: right;\">\n",
       "      <th></th>\n",
       "      <th>name</th>\n",
       "      <th>year</th>\n",
       "      <th>selling_price</th>\n",
       "      <th>km_driven</th>\n",
       "      <th>fuel</th>\n",
       "      <th>seller_type</th>\n",
       "      <th>transmission</th>\n",
       "      <th>owner</th>\n",
       "      <th>mileage</th>\n",
       "      <th>engine</th>\n",
       "      <th>max_power</th>\n",
       "      <th>torque</th>\n",
       "      <th>seats</th>\n",
       "    </tr>\n",
       "  </thead>\n",
       "  <tbody>\n",
       "    <tr>\n",
       "      <th>4383</th>\n",
       "      <td>Volkswagen Vento 1.5 TDI Highline BSIV</td>\n",
       "      <td>2019</td>\n",
       "      <td>1350000</td>\n",
       "      <td>5400</td>\n",
       "      <td>Diesel</td>\n",
       "      <td>Dealer</td>\n",
       "      <td>Manual</td>\n",
       "      <td>Test Drive Car</td>\n",
       "      <td>22.27 kmpl</td>\n",
       "      <td>1498 CC</td>\n",
       "      <td>108.6 bhp</td>\n",
       "      <td>250Nm@ 1500-3000rpm</td>\n",
       "      <td>5.0</td>\n",
       "    </tr>\n",
       "    <tr>\n",
       "      <th>4950</th>\n",
       "      <td>Audi A6 35 TFSI Matrix</td>\n",
       "      <td>2019</td>\n",
       "      <td>6223000</td>\n",
       "      <td>7800</td>\n",
       "      <td>Petrol</td>\n",
       "      <td>Dealer</td>\n",
       "      <td>Automatic</td>\n",
       "      <td>Test Drive Car</td>\n",
       "      <td>15.26 kmpl</td>\n",
       "      <td>1798 CC</td>\n",
       "      <td>187.74 bhp</td>\n",
       "      <td>320Nm@ 1400-4100rpm</td>\n",
       "      <td>5.0</td>\n",
       "    </tr>\n",
       "    <tr>\n",
       "      <th>4951</th>\n",
       "      <td>Audi A6 35 TFSI Matrix</td>\n",
       "      <td>2019</td>\n",
       "      <td>5923000</td>\n",
       "      <td>11500</td>\n",
       "      <td>Petrol</td>\n",
       "      <td>Dealer</td>\n",
       "      <td>Automatic</td>\n",
       "      <td>Test Drive Car</td>\n",
       "      <td>15.26 kmpl</td>\n",
       "      <td>1798 CC</td>\n",
       "      <td>187.74 bhp</td>\n",
       "      <td>320Nm@ 1400-4100rpm</td>\n",
       "      <td>5.0</td>\n",
       "    </tr>\n",
       "    <tr>\n",
       "      <th>4952</th>\n",
       "      <td>Audi A6 35 TFSI Matrix</td>\n",
       "      <td>2019</td>\n",
       "      <td>6523000</td>\n",
       "      <td>23600</td>\n",
       "      <td>Petrol</td>\n",
       "      <td>Dealer</td>\n",
       "      <td>Automatic</td>\n",
       "      <td>Test Drive Car</td>\n",
       "      <td>15.26 kmpl</td>\n",
       "      <td>1798 CC</td>\n",
       "      <td>187.74 bhp</td>\n",
       "      <td>320Nm@ 1400-4100rpm</td>\n",
       "      <td>5.0</td>\n",
       "    </tr>\n",
       "    <tr>\n",
       "      <th>6220</th>\n",
       "      <td>Honda Civic ZX</td>\n",
       "      <td>2019</td>\n",
       "      <td>2000000</td>\n",
       "      <td>24857</td>\n",
       "      <td>Petrol</td>\n",
       "      <td>Dealer</td>\n",
       "      <td>Automatic</td>\n",
       "      <td>Test Drive Car</td>\n",
       "      <td>16.5 kmpl</td>\n",
       "      <td>1799 CC</td>\n",
       "      <td>139.46 bhp</td>\n",
       "      <td>174Nm@ 4300rpm</td>\n",
       "      <td>5.0</td>\n",
       "    </tr>\n",
       "  </tbody>\n",
       "</table>\n",
       "</div>"
      ],
      "text/plain": [
       "                                        name  year  selling_price  km_driven  \\\n",
       "4383  Volkswagen Vento 1.5 TDI Highline BSIV  2019        1350000       5400   \n",
       "4950                  Audi A6 35 TFSI Matrix  2019        6223000       7800   \n",
       "4951                  Audi A6 35 TFSI Matrix  2019        5923000      11500   \n",
       "4952                  Audi A6 35 TFSI Matrix  2019        6523000      23600   \n",
       "6220                          Honda Civic ZX  2019        2000000      24857   \n",
       "\n",
       "        fuel seller_type transmission           owner     mileage   engine  \\\n",
       "4383  Diesel      Dealer       Manual  Test Drive Car  22.27 kmpl  1498 CC   \n",
       "4950  Petrol      Dealer    Automatic  Test Drive Car  15.26 kmpl  1798 CC   \n",
       "4951  Petrol      Dealer    Automatic  Test Drive Car  15.26 kmpl  1798 CC   \n",
       "4952  Petrol      Dealer    Automatic  Test Drive Car  15.26 kmpl  1798 CC   \n",
       "6220  Petrol      Dealer    Automatic  Test Drive Car   16.5 kmpl  1799 CC   \n",
       "\n",
       "       max_power               torque  seats  \n",
       "4383   108.6 bhp  250Nm@ 1500-3000rpm    5.0  \n",
       "4950  187.74 bhp  320Nm@ 1400-4100rpm    5.0  \n",
       "4951  187.74 bhp  320Nm@ 1400-4100rpm    5.0  \n",
       "4952  187.74 bhp  320Nm@ 1400-4100rpm    5.0  \n",
       "6220  139.46 bhp       174Nm@ 4300rpm    5.0  "
      ]
     },
     "execution_count": 35,
     "metadata": {},
     "output_type": "execute_result"
    }
   ],
   "source": [
    "df[df.owner=='Test Drive Car']"
   ]
  },
  {
   "cell_type": "code",
   "execution_count": 36,
   "id": "17eddaa4",
   "metadata": {},
   "outputs": [],
   "source": [
    "df.dropna(axis=0,inplace=True)\n",
    "df['current_year'] = 2021"
   ]
  },
  {
   "cell_type": "code",
   "execution_count": 37,
   "id": "48182b98",
   "metadata": {},
   "outputs": [
    {
     "data": {
      "text/html": [
       "<div>\n",
       "<style scoped>\n",
       "    .dataframe tbody tr th:only-of-type {\n",
       "        vertical-align: middle;\n",
       "    }\n",
       "\n",
       "    .dataframe tbody tr th {\n",
       "        vertical-align: top;\n",
       "    }\n",
       "\n",
       "    .dataframe thead th {\n",
       "        text-align: right;\n",
       "    }\n",
       "</style>\n",
       "<table border=\"1\" class=\"dataframe\">\n",
       "  <thead>\n",
       "    <tr style=\"text-align: right;\">\n",
       "      <th></th>\n",
       "      <th>name</th>\n",
       "      <th>selling_price</th>\n",
       "      <th>km_driven</th>\n",
       "      <th>fuel</th>\n",
       "      <th>seller_type</th>\n",
       "      <th>transmission</th>\n",
       "      <th>owner</th>\n",
       "      <th>mileage</th>\n",
       "      <th>engine</th>\n",
       "      <th>max_power</th>\n",
       "      <th>torque</th>\n",
       "      <th>seats</th>\n",
       "      <th>No of years</th>\n",
       "    </tr>\n",
       "  </thead>\n",
       "  <tbody>\n",
       "    <tr>\n",
       "      <th>0</th>\n",
       "      <td>Maruti Swift Dzire VDI</td>\n",
       "      <td>450000</td>\n",
       "      <td>145500</td>\n",
       "      <td>Diesel</td>\n",
       "      <td>Individual</td>\n",
       "      <td>Manual</td>\n",
       "      <td>First Owner</td>\n",
       "      <td>23.4 kmpl</td>\n",
       "      <td>1248 CC</td>\n",
       "      <td>74 bhp</td>\n",
       "      <td>190Nm@ 2000rpm</td>\n",
       "      <td>5.0</td>\n",
       "      <td>7</td>\n",
       "    </tr>\n",
       "    <tr>\n",
       "      <th>1</th>\n",
       "      <td>Skoda Rapid 1.5 TDI Ambition</td>\n",
       "      <td>370000</td>\n",
       "      <td>120000</td>\n",
       "      <td>Diesel</td>\n",
       "      <td>Individual</td>\n",
       "      <td>Manual</td>\n",
       "      <td>Second Owner</td>\n",
       "      <td>21.14 kmpl</td>\n",
       "      <td>1498 CC</td>\n",
       "      <td>103.52 bhp</td>\n",
       "      <td>250Nm@ 1500-2500rpm</td>\n",
       "      <td>5.0</td>\n",
       "      <td>7</td>\n",
       "    </tr>\n",
       "    <tr>\n",
       "      <th>2</th>\n",
       "      <td>Honda City 2017-2020 EXi</td>\n",
       "      <td>158000</td>\n",
       "      <td>140000</td>\n",
       "      <td>Petrol</td>\n",
       "      <td>Individual</td>\n",
       "      <td>Manual</td>\n",
       "      <td>Third Owner</td>\n",
       "      <td>17.7 kmpl</td>\n",
       "      <td>1497 CC</td>\n",
       "      <td>78 bhp</td>\n",
       "      <td>12.7@ 2,700(kgm@ rpm)</td>\n",
       "      <td>5.0</td>\n",
       "      <td>15</td>\n",
       "    </tr>\n",
       "    <tr>\n",
       "      <th>3</th>\n",
       "      <td>Hyundai i20 Sportz Diesel</td>\n",
       "      <td>225000</td>\n",
       "      <td>127000</td>\n",
       "      <td>Diesel</td>\n",
       "      <td>Individual</td>\n",
       "      <td>Manual</td>\n",
       "      <td>First Owner</td>\n",
       "      <td>23.0 kmpl</td>\n",
       "      <td>1396 CC</td>\n",
       "      <td>90 bhp</td>\n",
       "      <td>22.4 kgm at 1750-2750rpm</td>\n",
       "      <td>5.0</td>\n",
       "      <td>11</td>\n",
       "    </tr>\n",
       "    <tr>\n",
       "      <th>4</th>\n",
       "      <td>Maruti Swift VXI BSIII</td>\n",
       "      <td>130000</td>\n",
       "      <td>120000</td>\n",
       "      <td>Petrol</td>\n",
       "      <td>Individual</td>\n",
       "      <td>Manual</td>\n",
       "      <td>First Owner</td>\n",
       "      <td>16.1 kmpl</td>\n",
       "      <td>1298 CC</td>\n",
       "      <td>88.2 bhp</td>\n",
       "      <td>11.5@ 4,500(kgm@ rpm)</td>\n",
       "      <td>5.0</td>\n",
       "      <td>14</td>\n",
       "    </tr>\n",
       "  </tbody>\n",
       "</table>\n",
       "</div>"
      ],
      "text/plain": [
       "                           name  selling_price  km_driven    fuel seller_type  \\\n",
       "0        Maruti Swift Dzire VDI         450000     145500  Diesel  Individual   \n",
       "1  Skoda Rapid 1.5 TDI Ambition         370000     120000  Diesel  Individual   \n",
       "2      Honda City 2017-2020 EXi         158000     140000  Petrol  Individual   \n",
       "3     Hyundai i20 Sportz Diesel         225000     127000  Diesel  Individual   \n",
       "4        Maruti Swift VXI BSIII         130000     120000  Petrol  Individual   \n",
       "\n",
       "  transmission         owner     mileage   engine   max_power  \\\n",
       "0       Manual   First Owner   23.4 kmpl  1248 CC      74 bhp   \n",
       "1       Manual  Second Owner  21.14 kmpl  1498 CC  103.52 bhp   \n",
       "2       Manual   Third Owner   17.7 kmpl  1497 CC      78 bhp   \n",
       "3       Manual   First Owner   23.0 kmpl  1396 CC      90 bhp   \n",
       "4       Manual   First Owner   16.1 kmpl  1298 CC    88.2 bhp   \n",
       "\n",
       "                     torque  seats  No of years  \n",
       "0            190Nm@ 2000rpm    5.0            7  \n",
       "1       250Nm@ 1500-2500rpm    5.0            7  \n",
       "2     12.7@ 2,700(kgm@ rpm)    5.0           15  \n",
       "3  22.4 kgm at 1750-2750rpm    5.0           11  \n",
       "4     11.5@ 4,500(kgm@ rpm)    5.0           14  "
      ]
     },
     "execution_count": 37,
     "metadata": {},
     "output_type": "execute_result"
    }
   ],
   "source": [
    "df['No of years'] = df['current_year']-df['year']\n",
    "df.drop(['current_year','year'],axis=1,inplace=True)\n",
    "df.head()"
   ]
  },
  {
   "cell_type": "code",
   "execution_count": 38,
   "id": "e2056191",
   "metadata": {},
   "outputs": [],
   "source": [
    "# Handling mileage col\n",
    "df['mileage'] = df['mileage'].str.split(expand=True)[0]\n",
    "df['mileage'] = df['mileage'].astype('float64')"
   ]
  },
  {
   "cell_type": "code",
   "execution_count": 39,
   "id": "76ba9ee2",
   "metadata": {},
   "outputs": [],
   "source": [
    "# Handling engine col\n",
    "df['engine'] = df['engine'].str.split(expand=True)[0]\n",
    "df['engine'] = df['engine'].astype('int32')"
   ]
  },
  {
   "cell_type": "code",
   "execution_count": 40,
   "id": "e33eace8",
   "metadata": {},
   "outputs": [],
   "source": [
    "# Handling max_power col\n",
    "df['max_power'] = df['max_power'].str.split(expand=True)[0]\n",
    "df['max_power'] = df['max_power'].astype('float64')"
   ]
  },
  {
   "cell_type": "code",
   "execution_count": 41,
   "id": "8835edf4",
   "metadata": {},
   "outputs": [
    {
     "data": {
      "text/html": [
       "<div>\n",
       "<style scoped>\n",
       "    .dataframe tbody tr th:only-of-type {\n",
       "        vertical-align: middle;\n",
       "    }\n",
       "\n",
       "    .dataframe tbody tr th {\n",
       "        vertical-align: top;\n",
       "    }\n",
       "\n",
       "    .dataframe thead th {\n",
       "        text-align: right;\n",
       "    }\n",
       "</style>\n",
       "<table border=\"1\" class=\"dataframe\">\n",
       "  <thead>\n",
       "    <tr style=\"text-align: right;\">\n",
       "      <th></th>\n",
       "      <th>name</th>\n",
       "      <th>selling_price</th>\n",
       "      <th>km_driven</th>\n",
       "      <th>fuel</th>\n",
       "      <th>seller_type</th>\n",
       "      <th>transmission</th>\n",
       "      <th>owner</th>\n",
       "      <th>mileage</th>\n",
       "      <th>engine</th>\n",
       "      <th>max_power</th>\n",
       "      <th>torque</th>\n",
       "      <th>seats</th>\n",
       "      <th>No of years</th>\n",
       "    </tr>\n",
       "  </thead>\n",
       "  <tbody>\n",
       "    <tr>\n",
       "      <th>0</th>\n",
       "      <td>Maruti Swift Dzire VDI</td>\n",
       "      <td>450000</td>\n",
       "      <td>145500</td>\n",
       "      <td>Diesel</td>\n",
       "      <td>Individual</td>\n",
       "      <td>Manual</td>\n",
       "      <td>First Owner</td>\n",
       "      <td>23.40</td>\n",
       "      <td>1248</td>\n",
       "      <td>74.00</td>\n",
       "      <td>190Nm@ 2000rpm</td>\n",
       "      <td>5</td>\n",
       "      <td>7</td>\n",
       "    </tr>\n",
       "    <tr>\n",
       "      <th>1</th>\n",
       "      <td>Skoda Rapid 1.5 TDI Ambition</td>\n",
       "      <td>370000</td>\n",
       "      <td>120000</td>\n",
       "      <td>Diesel</td>\n",
       "      <td>Individual</td>\n",
       "      <td>Manual</td>\n",
       "      <td>Second Owner</td>\n",
       "      <td>21.14</td>\n",
       "      <td>1498</td>\n",
       "      <td>103.52</td>\n",
       "      <td>250Nm@ 1500-2500rpm</td>\n",
       "      <td>5</td>\n",
       "      <td>7</td>\n",
       "    </tr>\n",
       "    <tr>\n",
       "      <th>2</th>\n",
       "      <td>Honda City 2017-2020 EXi</td>\n",
       "      <td>158000</td>\n",
       "      <td>140000</td>\n",
       "      <td>Petrol</td>\n",
       "      <td>Individual</td>\n",
       "      <td>Manual</td>\n",
       "      <td>Third Owner</td>\n",
       "      <td>17.70</td>\n",
       "      <td>1497</td>\n",
       "      <td>78.00</td>\n",
       "      <td>12.7@ 2,700(kgm@ rpm)</td>\n",
       "      <td>5</td>\n",
       "      <td>15</td>\n",
       "    </tr>\n",
       "    <tr>\n",
       "      <th>3</th>\n",
       "      <td>Hyundai i20 Sportz Diesel</td>\n",
       "      <td>225000</td>\n",
       "      <td>127000</td>\n",
       "      <td>Diesel</td>\n",
       "      <td>Individual</td>\n",
       "      <td>Manual</td>\n",
       "      <td>First Owner</td>\n",
       "      <td>23.00</td>\n",
       "      <td>1396</td>\n",
       "      <td>90.00</td>\n",
       "      <td>22.4 kgm at 1750-2750rpm</td>\n",
       "      <td>5</td>\n",
       "      <td>11</td>\n",
       "    </tr>\n",
       "    <tr>\n",
       "      <th>4</th>\n",
       "      <td>Maruti Swift VXI BSIII</td>\n",
       "      <td>130000</td>\n",
       "      <td>120000</td>\n",
       "      <td>Petrol</td>\n",
       "      <td>Individual</td>\n",
       "      <td>Manual</td>\n",
       "      <td>First Owner</td>\n",
       "      <td>16.10</td>\n",
       "      <td>1298</td>\n",
       "      <td>88.20</td>\n",
       "      <td>11.5@ 4,500(kgm@ rpm)</td>\n",
       "      <td>5</td>\n",
       "      <td>14</td>\n",
       "    </tr>\n",
       "  </tbody>\n",
       "</table>\n",
       "</div>"
      ],
      "text/plain": [
       "                           name  selling_price  km_driven    fuel seller_type  \\\n",
       "0        Maruti Swift Dzire VDI         450000     145500  Diesel  Individual   \n",
       "1  Skoda Rapid 1.5 TDI Ambition         370000     120000  Diesel  Individual   \n",
       "2      Honda City 2017-2020 EXi         158000     140000  Petrol  Individual   \n",
       "3     Hyundai i20 Sportz Diesel         225000     127000  Diesel  Individual   \n",
       "4        Maruti Swift VXI BSIII         130000     120000  Petrol  Individual   \n",
       "\n",
       "  transmission         owner  mileage  engine  max_power  \\\n",
       "0       Manual   First Owner    23.40    1248      74.00   \n",
       "1       Manual  Second Owner    21.14    1498     103.52   \n",
       "2       Manual   Third Owner    17.70    1497      78.00   \n",
       "3       Manual   First Owner    23.00    1396      90.00   \n",
       "4       Manual   First Owner    16.10    1298      88.20   \n",
       "\n",
       "                     torque  seats  No of years  \n",
       "0            190Nm@ 2000rpm      5            7  \n",
       "1       250Nm@ 1500-2500rpm      5            7  \n",
       "2     12.7@ 2,700(kgm@ rpm)      5           15  \n",
       "3  22.4 kgm at 1750-2750rpm      5           11  \n",
       "4     11.5@ 4,500(kgm@ rpm)      5           14  "
      ]
     },
     "execution_count": 41,
     "metadata": {},
     "output_type": "execute_result"
    }
   ],
   "source": [
    "df['seats'] = df['seats'].astype('int32')\n",
    "df.head()"
   ]
  },
  {
   "cell_type": "markdown",
   "id": "c8e821cc",
   "metadata": {},
   "source": [
    "### Handling name column"
   ]
  },
  {
   "cell_type": "code",
   "execution_count": 42,
   "id": "4874b986",
   "metadata": {},
   "outputs": [
    {
     "data": {
      "text/html": [
       "<div>\n",
       "<style scoped>\n",
       "    .dataframe tbody tr th:only-of-type {\n",
       "        vertical-align: middle;\n",
       "    }\n",
       "\n",
       "    .dataframe tbody tr th {\n",
       "        vertical-align: top;\n",
       "    }\n",
       "\n",
       "    .dataframe thead th {\n",
       "        text-align: right;\n",
       "    }\n",
       "</style>\n",
       "<table border=\"1\" class=\"dataframe\">\n",
       "  <thead>\n",
       "    <tr style=\"text-align: right;\">\n",
       "      <th></th>\n",
       "      <th>selling_price</th>\n",
       "      <th>km_driven</th>\n",
       "      <th>fuel</th>\n",
       "      <th>seller_type</th>\n",
       "      <th>transmission</th>\n",
       "      <th>owner</th>\n",
       "      <th>mileage</th>\n",
       "      <th>engine</th>\n",
       "      <th>max_power</th>\n",
       "      <th>torque</th>\n",
       "      <th>seats</th>\n",
       "      <th>No of years</th>\n",
       "      <th>Brand</th>\n",
       "    </tr>\n",
       "  </thead>\n",
       "  <tbody>\n",
       "    <tr>\n",
       "      <th>0</th>\n",
       "      <td>450000</td>\n",
       "      <td>145500</td>\n",
       "      <td>Diesel</td>\n",
       "      <td>Individual</td>\n",
       "      <td>Manual</td>\n",
       "      <td>First Owner</td>\n",
       "      <td>23.40</td>\n",
       "      <td>1248</td>\n",
       "      <td>74.00</td>\n",
       "      <td>190Nm@ 2000rpm</td>\n",
       "      <td>5</td>\n",
       "      <td>7</td>\n",
       "      <td>Maruti</td>\n",
       "    </tr>\n",
       "    <tr>\n",
       "      <th>1</th>\n",
       "      <td>370000</td>\n",
       "      <td>120000</td>\n",
       "      <td>Diesel</td>\n",
       "      <td>Individual</td>\n",
       "      <td>Manual</td>\n",
       "      <td>Second Owner</td>\n",
       "      <td>21.14</td>\n",
       "      <td>1498</td>\n",
       "      <td>103.52</td>\n",
       "      <td>250Nm@ 1500-2500rpm</td>\n",
       "      <td>5</td>\n",
       "      <td>7</td>\n",
       "      <td>Skoda</td>\n",
       "    </tr>\n",
       "    <tr>\n",
       "      <th>2</th>\n",
       "      <td>158000</td>\n",
       "      <td>140000</td>\n",
       "      <td>Petrol</td>\n",
       "      <td>Individual</td>\n",
       "      <td>Manual</td>\n",
       "      <td>Third Owner</td>\n",
       "      <td>17.70</td>\n",
       "      <td>1497</td>\n",
       "      <td>78.00</td>\n",
       "      <td>12.7@ 2,700(kgm@ rpm)</td>\n",
       "      <td>5</td>\n",
       "      <td>15</td>\n",
       "      <td>Honda</td>\n",
       "    </tr>\n",
       "    <tr>\n",
       "      <th>3</th>\n",
       "      <td>225000</td>\n",
       "      <td>127000</td>\n",
       "      <td>Diesel</td>\n",
       "      <td>Individual</td>\n",
       "      <td>Manual</td>\n",
       "      <td>First Owner</td>\n",
       "      <td>23.00</td>\n",
       "      <td>1396</td>\n",
       "      <td>90.00</td>\n",
       "      <td>22.4 kgm at 1750-2750rpm</td>\n",
       "      <td>5</td>\n",
       "      <td>11</td>\n",
       "      <td>Hyundai</td>\n",
       "    </tr>\n",
       "    <tr>\n",
       "      <th>4</th>\n",
       "      <td>130000</td>\n",
       "      <td>120000</td>\n",
       "      <td>Petrol</td>\n",
       "      <td>Individual</td>\n",
       "      <td>Manual</td>\n",
       "      <td>First Owner</td>\n",
       "      <td>16.10</td>\n",
       "      <td>1298</td>\n",
       "      <td>88.20</td>\n",
       "      <td>11.5@ 4,500(kgm@ rpm)</td>\n",
       "      <td>5</td>\n",
       "      <td>14</td>\n",
       "      <td>Maruti</td>\n",
       "    </tr>\n",
       "  </tbody>\n",
       "</table>\n",
       "</div>"
      ],
      "text/plain": [
       "   selling_price  km_driven    fuel seller_type transmission         owner  \\\n",
       "0         450000     145500  Diesel  Individual       Manual   First Owner   \n",
       "1         370000     120000  Diesel  Individual       Manual  Second Owner   \n",
       "2         158000     140000  Petrol  Individual       Manual   Third Owner   \n",
       "3         225000     127000  Diesel  Individual       Manual   First Owner   \n",
       "4         130000     120000  Petrol  Individual       Manual   First Owner   \n",
       "\n",
       "   mileage  engine  max_power                    torque  seats  No of years  \\\n",
       "0    23.40    1248      74.00            190Nm@ 2000rpm      5            7   \n",
       "1    21.14    1498     103.52       250Nm@ 1500-2500rpm      5            7   \n",
       "2    17.70    1497      78.00     12.7@ 2,700(kgm@ rpm)      5           15   \n",
       "3    23.00    1396      90.00  22.4 kgm at 1750-2750rpm      5           11   \n",
       "4    16.10    1298      88.20     11.5@ 4,500(kgm@ rpm)      5           14   \n",
       "\n",
       "     Brand  \n",
       "0   Maruti  \n",
       "1    Skoda  \n",
       "2    Honda  \n",
       "3  Hyundai  \n",
       "4   Maruti  "
      ]
     },
     "execution_count": 42,
     "metadata": {},
     "output_type": "execute_result"
    }
   ],
   "source": [
    "df['Brand'] = df['name'].str.split(expand=True)[0]\n",
    "df.drop(columns=['name'],inplace=True)\n",
    "df.head()"
   ]
  },
  {
   "cell_type": "code",
   "execution_count": 43,
   "id": "08613e0c",
   "metadata": {},
   "outputs": [
    {
     "data": {
      "text/plain": [
       "array(['Maruti', 'Skoda', 'Honda', 'Hyundai', 'Toyota', 'Ford', 'Renault',\n",
       "       'Mahindra', 'Tata', 'Chevrolet', 'Datsun', 'Jeep', 'Mercedes-Benz',\n",
       "       'Mitsubishi', 'Audi', 'Volkswagen', 'BMW', 'Nissan', 'Lexus',\n",
       "       'Jaguar', 'Land', 'MG', 'Volvo', 'Daewoo', 'Kia', 'Fiat', 'Force',\n",
       "       'Ambassador', 'Ashok', 'Isuzu', 'Opel'], dtype=object)"
      ]
     },
     "execution_count": 43,
     "metadata": {},
     "output_type": "execute_result"
    }
   ],
   "source": [
    "df['Brand'].unique()"
   ]
  },
  {
   "cell_type": "code",
   "execution_count": 44,
   "id": "cbddf879",
   "metadata": {},
   "outputs": [],
   "source": [
    "df.drop(['torque'],axis=1,inplace=True)"
   ]
  },
  {
   "cell_type": "markdown",
   "id": "8520d8e1",
   "metadata": {},
   "source": [
    "###  Analysis of Categorical Data"
   ]
  },
  {
   "cell_type": "code",
   "execution_count": 45,
   "id": "eea1a0d5",
   "metadata": {},
   "outputs": [
    {
     "data": {
      "image/png": "[encoded data removed]",
      "text/plain": [
       "<Figure size 1152x648 with 2 Axes>"
      ]
     },
     "metadata": {
      "needs_background": "light"
     },
     "output_type": "display_data"
    }
   ],
   "source": [
    "fig, axes = plt.subplots(1, 2, figsize=(16, 9), sharey=True)\n",
    "fig.suptitle('Seller Type')\n",
    "\n",
    "# Bulbasaur\n",
    "sns.boxplot(ax=axes[0], x='seller_type',y='selling_price',data=df)\n",
    "axes[0].set_title('1')\n",
    "\n",
    "# Charmander\n",
    "sns.barplot(ax=axes[1], x='seller_type', y='selling_price',data=df)\n",
    "axes[1].set_title('2')\n",
    "\n",
    "plt.show()"
   ]
  },
  {
   "cell_type": "code",
   "execution_count": 46,
   "id": "4834dd14",
   "metadata": {},
   "outputs": [
    {
     "data": {
      "image/png": "[encoded data removed]",
      "text/plain": [
       "<Figure size 1152x648 with 2 Axes>"
      ]
     },
     "metadata": {
      "needs_background": "light"
     },
     "output_type": "display_data"
    }
   ],
   "source": [
    "fig, axes = plt.subplots(1, 2, figsize=(16, 9), sharey=True)\n",
    "fig.suptitle('Fuel')\n",
    "\n",
    "# Bulbasaur\n",
    "sns.boxplot(ax=axes[0], x='fuel',y='selling_price',data=df)\n",
    "axes[0].set_title('1')\n",
    "\n",
    "# Charmander\n",
    "sns.barplot(ax=axes[1], x='fuel', y='selling_price',data=df)\n",
    "axes[1].set_title('2')\n",
    "\n",
    "plt.show()"
   ]
  },
  {
   "cell_type": "code",
   "execution_count": 47,
   "id": "1218965d",
   "metadata": {},
   "outputs": [
    {
     "data": {
      "image/png": "[encoded data removed]",
      "text/plain": [
       "<Figure size 1152x648 with 2 Axes>"
      ]
     },
     "metadata": {
      "needs_background": "light"
     },
     "output_type": "display_data"
    }
   ],
   "source": [
    "fig, axes = plt.subplots(1, 2, figsize=(16, 9), sharey=True)\n",
    "fig.suptitle('transmission')\n",
    "\n",
    "# Bulbasaur\n",
    "sns.boxplot(ax=axes[0], x='transmission',y='selling_price',data=df)\n",
    "axes[0].set_title('1')\n",
    "\n",
    "# Charmander\n",
    "sns.barplot(ax=axes[1], x='transmission', y='selling_price',data=df)\n",
    "axes[1].set_title('2')\n",
    "\n",
    "plt.show()"
   ]
  },
  {
   "cell_type": "code",
   "execution_count": 48,
   "id": "26eaf8bb",
   "metadata": {},
   "outputs": [
    {
     "data": {
      "image/png": "[encoded data removed]",
      "text/plain": [
       "<Figure size 1152x648 with 2 Axes>"
      ]
     },
     "metadata": {
      "needs_background": "light"
     },
     "output_type": "display_data"
    }
   ],
   "source": [
    "fig, axes = plt.subplots(1, 2, figsize=(16, 9), sharey=True)\n",
    "fig.suptitle('owner')\n",
    "\n",
    "# Bulbasaur\n",
    "sns.boxplot(ax=axes[0], x='owner',y='selling_price',data=df)\n",
    "axes[0].set_title('1')\n",
    "\n",
    "# Charmander\n",
    "sns.barplot(ax=axes[1], x='owner', y='selling_price',data=df)\n",
    "axes[1].set_title('2')\n",
    "\n",
    "plt.show()"
   ]
  },
  {
   "cell_type": "markdown",
   "id": "6b3a872f",
   "metadata": {},
   "source": [
    "### Mileage Column has 0 in it"
   ]
  },
  {
   "cell_type": "code",
   "execution_count": 49,
   "id": "a357e5cd",
   "metadata": {},
   "outputs": [
    {
     "data": {
      "image/png": "[encoded data removed]",
      "text/plain": [
       "<Figure size 432x288 with 1 Axes>"
      ]
     },
     "metadata": {
      "needs_background": "light"
     },
     "output_type": "display_data"
    }
   ],
   "source": [
    "sns.boxplot(df['mileage'])\n",
    "plt.show()\n",
    "#As we can see there are some values as zero"
   ]
  },
  {
   "cell_type": "code",
   "execution_count": 50,
   "id": "27265a0c",
   "metadata": {},
   "outputs": [],
   "source": [
    "median_value = df['mileage'].median()\n",
    "df['mileage'] = df['mileage'].replace(0.0,median_value)"
   ]
  },
  {
   "cell_type": "code",
   "execution_count": 51,
   "id": "ff4c3b47",
   "metadata": {},
   "outputs": [
    {
     "data": {
      "text/html": [
       "<div>\n",
       "<style scoped>\n",
       "    .dataframe tbody tr th:only-of-type {\n",
       "        vertical-align: middle;\n",
       "    }\n",
       "\n",
       "    .dataframe tbody tr th {\n",
       "        vertical-align: top;\n",
       "    }\n",
       "\n",
       "    .dataframe thead th {\n",
       "        text-align: right;\n",
       "    }\n",
       "</style>\n",
       "<table border=\"1\" class=\"dataframe\">\n",
       "  <thead>\n",
       "    <tr style=\"text-align: right;\">\n",
       "      <th></th>\n",
       "      <th>selling_price</th>\n",
       "      <th>km_driven</th>\n",
       "      <th>fuel</th>\n",
       "      <th>seller_type</th>\n",
       "      <th>transmission</th>\n",
       "      <th>owner</th>\n",
       "      <th>mileage</th>\n",
       "      <th>engine</th>\n",
       "      <th>max_power</th>\n",
       "      <th>seats</th>\n",
       "      <th>No of years</th>\n",
       "      <th>Brand</th>\n",
       "    </tr>\n",
       "  </thead>\n",
       "  <tbody>\n",
       "    <tr>\n",
       "      <th>0</th>\n",
       "      <td>450000</td>\n",
       "      <td>145500</td>\n",
       "      <td>Diesel</td>\n",
       "      <td>Individual</td>\n",
       "      <td>Manual</td>\n",
       "      <td>First Owner</td>\n",
       "      <td>23.40</td>\n",
       "      <td>1248</td>\n",
       "      <td>74.00</td>\n",
       "      <td>5</td>\n",
       "      <td>7</td>\n",
       "      <td>Maruti</td>\n",
       "    </tr>\n",
       "    <tr>\n",
       "      <th>1</th>\n",
       "      <td>370000</td>\n",
       "      <td>120000</td>\n",
       "      <td>Diesel</td>\n",
       "      <td>Individual</td>\n",
       "      <td>Manual</td>\n",
       "      <td>Second Owner</td>\n",
       "      <td>21.14</td>\n",
       "      <td>1498</td>\n",
       "      <td>103.52</td>\n",
       "      <td>5</td>\n",
       "      <td>7</td>\n",
       "      <td>Skoda</td>\n",
       "    </tr>\n",
       "    <tr>\n",
       "      <th>2</th>\n",
       "      <td>158000</td>\n",
       "      <td>140000</td>\n",
       "      <td>Petrol</td>\n",
       "      <td>Individual</td>\n",
       "      <td>Manual</td>\n",
       "      <td>Third Owner</td>\n",
       "      <td>17.70</td>\n",
       "      <td>1497</td>\n",
       "      <td>78.00</td>\n",
       "      <td>5</td>\n",
       "      <td>15</td>\n",
       "      <td>Honda</td>\n",
       "    </tr>\n",
       "    <tr>\n",
       "      <th>3</th>\n",
       "      <td>225000</td>\n",
       "      <td>127000</td>\n",
       "      <td>Diesel</td>\n",
       "      <td>Individual</td>\n",
       "      <td>Manual</td>\n",
       "      <td>First Owner</td>\n",
       "      <td>23.00</td>\n",
       "      <td>1396</td>\n",
       "      <td>90.00</td>\n",
       "      <td>5</td>\n",
       "      <td>11</td>\n",
       "      <td>Hyundai</td>\n",
       "    </tr>\n",
       "    <tr>\n",
       "      <th>4</th>\n",
       "      <td>130000</td>\n",
       "      <td>120000</td>\n",
       "      <td>Petrol</td>\n",
       "      <td>Individual</td>\n",
       "      <td>Manual</td>\n",
       "      <td>First Owner</td>\n",
       "      <td>16.10</td>\n",
       "      <td>1298</td>\n",
       "      <td>88.20</td>\n",
       "      <td>5</td>\n",
       "      <td>14</td>\n",
       "      <td>Maruti</td>\n",
       "    </tr>\n",
       "  </tbody>\n",
       "</table>\n",
       "</div>"
      ],
      "text/plain": [
       "   selling_price  km_driven    fuel seller_type transmission         owner  \\\n",
       "0         450000     145500  Diesel  Individual       Manual   First Owner   \n",
       "1         370000     120000  Diesel  Individual       Manual  Second Owner   \n",
       "2         158000     140000  Petrol  Individual       Manual   Third Owner   \n",
       "3         225000     127000  Diesel  Individual       Manual   First Owner   \n",
       "4         130000     120000  Petrol  Individual       Manual   First Owner   \n",
       "\n",
       "   mileage  engine  max_power  seats  No of years    Brand  \n",
       "0    23.40    1248      74.00      5            7   Maruti  \n",
       "1    21.14    1498     103.52      5            7    Skoda  \n",
       "2    17.70    1497      78.00      5           15    Honda  \n",
       "3    23.00    1396      90.00      5           11  Hyundai  \n",
       "4    16.10    1298      88.20      5           14   Maruti  "
      ]
     },
     "execution_count": 51,
     "metadata": {},
     "output_type": "execute_result"
    }
   ],
   "source": [
    "df.head()"
   ]
  },
  {
   "cell_type": "markdown",
   "id": "443bc30c",
   "metadata": {},
   "source": [
    "## Checking Normaizlation"
   ]
  },
  {
   "cell_type": "code",
   "execution_count": 52,
   "id": "07d8fdaa",
   "metadata": {},
   "outputs": [
    {
     "data": {
      "text/plain": [
       "<AxesSubplot:>"
      ]
     },
     "execution_count": 52,
     "metadata": {},
     "output_type": "execute_result"
    },
    {
     "data": {
      "image/png": "[encoded data removed]",
      "text/plain": [
       "<Figure size 432x288 with 1 Axes>"
      ]
     },
     "metadata": {
      "needs_background": "light"
     },
     "output_type": "display_data"
    }
   ],
   "source": [
    "df['selling_price'].hist()"
   ]
  },
  {
   "cell_type": "code",
   "execution_count": 53,
   "id": "603ead14",
   "metadata": {},
   "outputs": [
    {
     "data": {
      "text/plain": [
       "<AxesSubplot:>"
      ]
     },
     "execution_count": 53,
     "metadata": {},
     "output_type": "execute_result"
    },
    {
     "data": {
      "image/png": "[encoded data removed]",
      "text/plain": [
       "<Figure size 432x288 with 1 Axes>"
      ]
     },
     "metadata": {
      "needs_background": "light"
     },
     "output_type": "display_data"
    }
   ],
   "source": [
    "log_medv = np.log(df.selling_price)\n",
    "log_medv.hist()"
   ]
  },
  {
   "cell_type": "code",
   "execution_count": 54,
   "id": "02cab110",
   "metadata": {},
   "outputs": [
    {
     "data": {
      "text/plain": [
       "NormaltestResult(statistic=246.9576244146774, pvalue=2.365011334043379e-54)"
      ]
     },
     "execution_count": 54,
     "metadata": {},
     "output_type": "execute_result"
    }
   ],
   "source": [
    "normaltest(log_medv)"
   ]
  },
  {
   "cell_type": "markdown",
   "id": "29b58587",
   "metadata": {},
   "source": [
    "### Data spliting"
   ]
  },
  {
   "cell_type": "code",
   "execution_count": 55,
   "id": "8a0b8ab4",
   "metadata": {},
   "outputs": [],
   "source": [
    "X = df.drop(columns=['selling_price'])\n",
    "y = df['selling_price']\n",
    "X_train,X_test,y_train,y_test = train_test_split(X,y,test_size=0.2,random_state=2)"
   ]
  },
  {
   "cell_type": "code",
   "execution_count": 56,
   "id": "95d1e407",
   "metadata": {},
   "outputs": [],
   "source": [
    "tnf = ColumnTransformer(\n",
    "    [('ordinal',OrdinalEncoder(),['owner']),\n",
    "    ('nominal',OneHotEncoder(drop='first',sparse=False),\n",
    "     ['fuel','seller_type','transmission','Brand'])\n",
    "    ], remainder='passthrough'\n",
    ")\n",
    "\n",
    "new_X_train = tnf.fit_transform(X_train)\n",
    "new_X_test = tnf.transform(X_test)"
   ]
  },
  {
   "cell_type": "markdown",
   "id": "3c21e5da",
   "metadata": {},
   "source": [
    "# Models"
   ]
  },
  {
   "cell_type": "markdown",
   "id": "e9a917c2",
   "metadata": {},
   "source": [
    "## Linear regression"
   ]
  },
  {
   "cell_type": "code",
   "execution_count": 57,
   "id": "28704749",
   "metadata": {},
   "outputs": [
    {
     "data": {
      "text/plain": [
       "LinearRegression()"
      ]
     },
     "execution_count": 57,
     "metadata": {},
     "output_type": "execute_result"
    }
   ],
   "source": [
    "lr = LinearRegression()\n",
    "lr.fit(new_X_train,y_train)"
   ]
  },
  {
   "cell_type": "code",
   "execution_count": 58,
   "id": "6ffd0788",
   "metadata": {},
   "outputs": [
    {
     "data": {
      "text/plain": [
       "0.8001679294529713"
      ]
     },
     "execution_count": 58,
     "metadata": {},
     "output_type": "execute_result"
    }
   ],
   "source": [
    "y_pred = lr.predict(new_X_test)\n",
    "r2_score(y_test,y_pred)"
   ]
  },
  {
   "cell_type": "code",
   "execution_count": 59,
   "id": "5a777d89",
   "metadata": {},
   "outputs": [
    {
     "name": "stdout",
     "output_type": "stream",
     "text": [
      "MAE: 169827.7440333033\n",
      "MSE: 129172191389.78818\n",
      "RMSE: 359405.330218944\n"
     ]
    }
   ],
   "source": [
    "print('MAE:', metrics.mean_absolute_error(y_test, y_pred))\n",
    "print('MSE:', metrics.mean_squared_error(y_test, y_pred))\n",
    "print('RMSE:', np.sqrt(metrics.mean_squared_error(y_test, y_pred)))"
   ]
  },
  {
   "cell_type": "code",
   "execution_count": 60,
   "id": "e63c2504",
   "metadata": {},
   "outputs": [],
   "source": [
    "with open('Linear_model','wb') as file:\n",
    "    pickle.dump(lr,file)"
   ]
  },
  {
   "cell_type": "markdown",
   "id": "db202d7c",
   "metadata": {},
   "source": [
    "## Xgboost"
   ]
  },
  {
   "cell_type": "code",
   "execution_count": 61,
   "id": "302b1a34",
   "metadata": {},
   "outputs": [
    {
     "name": "stdout",
     "output_type": "stream",
     "text": [
      "[14:04:14] WARNING: C:/Users/Administrator/workspace/xgboost-win64_release_1.4.0/src/objective/regression_obj.cu:171: reg:linear is now deprecated in favor of reg:squarederror.\n",
      "MAE: 87414.2337502963\n",
      "MSE: 23422079240.683327\n",
      "RMSE: 153042.73664791585\n"
     ]
    }
   ],
   "source": [
    "from xgboost import XGBRegressor\n",
    "from sklearn.metrics import mean_squared_error as MSE\n",
    "\n",
    "\n",
    "xgb = XGBRegressor(objective ='reg:linear',\n",
    "                  n_estimators = 10, seed = 123)\n",
    "xgb.fit(new_X_train, y_train)\n",
    "pred_xgb = xgb.predict(new_X_test)\n",
    "\n",
    "print('MAE:', metrics.mean_absolute_error(y_test, pred_xgb))\n",
    "print('MSE:', metrics.mean_squared_error(y_test, pred_xgb))\n",
    "print('RMSE:', np.sqrt(metrics.mean_squared_error(y_test, pred_xgb)))\n",
    "#Error is huge as prices are in thousands and lakhs"
   ]
  },
  {
   "cell_type": "code",
   "execution_count": 62,
   "id": "4b5392ea",
   "metadata": {},
   "outputs": [
    {
     "data": {
      "text/plain": [
       "0.9637655555671533"
      ]
     },
     "execution_count": 62,
     "metadata": {},
     "output_type": "execute_result"
    }
   ],
   "source": [
    "r2_score(y_test,pred_xgb)"
   ]
  },
  {
   "cell_type": "code",
   "execution_count": 63,
   "id": "03300890",
   "metadata": {},
   "outputs": [],
   "source": [
    "with open('xgboost','wb') as file:\n",
    "    pickle.dump(xgb,file)"
   ]
  },
  {
   "cell_type": "markdown",
   "id": "3dbfbb80",
   "metadata": {},
   "source": [
    "## Random Forest"
   ]
  },
  {
   "cell_type": "code",
   "execution_count": 64,
   "id": "f23593d6",
   "metadata": {},
   "outputs": [
    {
     "name": "stdout",
     "output_type": "stream",
     "text": [
      "{'n_estimators': [100, 200, 300, 400, 500, 600, 700, 800, 900, 1000, 1100, 1200], 'max_features': ['auto', 'sqrt'], 'max_depth': [5, 10, 15, 20, 25, 30], 'min_samples_split': [2, 5, 10, 15, 100], 'min_samples_leaf': [1, 2, 5, 10]}\n"
     ]
    }
   ],
   "source": [
    "from sklearn.ensemble import RandomForestRegressor\n",
    "rf = RandomForestRegressor()\n",
    "n_estimators = [int(x) for x in np.linspace(start = 100, stop = 1200, num = 12)]\n",
    "\n",
    "from sklearn.model_selection import RandomizedSearchCV\n",
    "#Randomized Search CV\n",
    "\n",
    "# Number of trees in random forest\n",
    "n_estimators = [int(x) for x in np.linspace(start = 100, stop = 1200, num = 12)]\n",
    "# Number of features to consider at every split\n",
    "max_features = ['auto', 'sqrt']\n",
    "# Maximum number of levels in tree\n",
    "max_depth = [int(x) for x in np.linspace(5, 30, num = 6)]\n",
    "# max_depth.append(None)\n",
    "# Minimum number of samples required to split a node\n",
    "min_samples_split = [2, 5, 10, 15, 100]\n",
    "# Minimum number of samples required at each leaf node\n",
    "min_samples_leaf = [1, 2, 5, 10]\n",
    "\n",
    "# Create the random grid\n",
    "random_grid = {'n_estimators': n_estimators,\n",
    "               'max_features': max_features,\n",
    "               'max_depth': max_depth,\n",
    "               'min_samples_split': min_samples_split,\n",
    "               'min_samples_leaf': min_samples_leaf}\n",
    "\n",
    "print(random_grid)"
   ]
  },
  {
   "cell_type": "code",
   "execution_count": 65,
   "id": "bf28e738",
   "metadata": {},
   "outputs": [],
   "source": [
    "rf_random = RandomizedSearchCV(estimator = rf, \n",
    "                               param_distributions = random_grid,\n",
    "                               scoring='neg_mean_squared_error',\n",
    "                               n_iter = 10, cv = 5,\n",
    "                               verbose=2, random_state=42, \n",
    "                               n_jobs = 1)"
   ]
  },
  {
   "cell_type": "code",
   "execution_count": 67,
   "id": "7ca1cfcf",
   "metadata": {},
   "outputs": [
    {
     "name": "stdout",
     "output_type": "stream",
     "text": [
      "Fitting 5 folds for each of 10 candidates, totalling 50 fits\n",
      "[CV] END max_depth=10, max_features=sqrt, min_samples_leaf=5, min_samples_split=5, n_estimators=900; total time=   2.4s\n",
      "[CV] END max_depth=10, max_features=sqrt, min_samples_leaf=5, min_samples_split=5, n_estimators=900; total time=   2.5s\n",
      "[CV] END max_depth=10, max_features=sqrt, min_samples_leaf=5, min_samples_split=5, n_estimators=900; total time=   2.4s\n",
      "[CV] END max_depth=10, max_features=sqrt, min_samples_leaf=5, min_samples_split=5, n_estimators=900; total time=   2.4s\n",
      "[CV] END max_depth=10, max_features=sqrt, min_samples_leaf=5, min_samples_split=5, n_estimators=900; total time=   2.3s\n",
      "[CV] END max_depth=15, max_features=sqrt, min_samples_leaf=2, min_samples_split=10, n_estimators=1100; total time=   3.7s\n",
      "[CV] END max_depth=15, max_features=sqrt, min_samples_leaf=2, min_samples_split=10, n_estimators=1100; total time=   3.6s\n",
      "[CV] END max_depth=15, max_features=sqrt, min_samples_leaf=2, min_samples_split=10, n_estimators=1100; total time=   3.7s\n",
      "[CV] END max_depth=15, max_features=sqrt, min_samples_leaf=2, min_samples_split=10, n_estimators=1100; total time=   3.6s\n",
      "[CV] END max_depth=15, max_features=sqrt, min_samples_leaf=2, min_samples_split=10, n_estimators=1100; total time=   3.6s\n",
      "[CV] END max_depth=15, max_features=auto, min_samples_leaf=5, min_samples_split=100, n_estimators=300; total time=   2.7s\n",
      "[CV] END max_depth=15, max_features=auto, min_samples_leaf=5, min_samples_split=100, n_estimators=300; total time=   2.6s\n",
      "[CV] END max_depth=15, max_features=auto, min_samples_leaf=5, min_samples_split=100, n_estimators=300; total time=   2.6s\n",
      "[CV] END max_depth=15, max_features=auto, min_samples_leaf=5, min_samples_split=100, n_estimators=300; total time=   2.5s\n",
      "[CV] END max_depth=15, max_features=auto, min_samples_leaf=5, min_samples_split=100, n_estimators=300; total time=   2.6s\n",
      "[CV] END max_depth=15, max_features=auto, min_samples_leaf=5, min_samples_split=5, n_estimators=400; total time=   4.6s\n",
      "[CV] END max_depth=15, max_features=auto, min_samples_leaf=5, min_samples_split=5, n_estimators=400; total time=   4.6s\n",
      "[CV] END max_depth=15, max_features=auto, min_samples_leaf=5, min_samples_split=5, n_estimators=400; total time=   4.7s\n",
      "[CV] END max_depth=15, max_features=auto, min_samples_leaf=5, min_samples_split=5, n_estimators=400; total time=   4.7s\n",
      "[CV] END max_depth=15, max_features=auto, min_samples_leaf=5, min_samples_split=5, n_estimators=400; total time=   4.6s\n",
      "[CV] END max_depth=20, max_features=auto, min_samples_leaf=10, min_samples_split=5, n_estimators=700; total time=   7.3s\n",
      "[CV] END max_depth=20, max_features=auto, min_samples_leaf=10, min_samples_split=5, n_estimators=700; total time=   7.2s\n",
      "[CV] END max_depth=20, max_features=auto, min_samples_leaf=10, min_samples_split=5, n_estimators=700; total time=   7.2s\n",
      "[CV] END max_depth=20, max_features=auto, min_samples_leaf=10, min_samples_split=5, n_estimators=700; total time=   7.5s\n",
      "[CV] END max_depth=20, max_features=auto, min_samples_leaf=10, min_samples_split=5, n_estimators=700; total time=   8.0s\n",
      "[CV] END max_depth=25, max_features=sqrt, min_samples_leaf=1, min_samples_split=2, n_estimators=1000; total time=   6.3s\n",
      "[CV] END max_depth=25, max_features=sqrt, min_samples_leaf=1, min_samples_split=2, n_estimators=1000; total time=   6.0s\n",
      "[CV] END max_depth=25, max_features=sqrt, min_samples_leaf=1, min_samples_split=2, n_estimators=1000; total time=   5.9s\n",
      "[CV] END max_depth=25, max_features=sqrt, min_samples_leaf=1, min_samples_split=2, n_estimators=1000; total time=   6.6s\n",
      "[CV] END max_depth=25, max_features=sqrt, min_samples_leaf=1, min_samples_split=2, n_estimators=1000; total time=   6.2s\n",
      "[CV] END max_depth=5, max_features=sqrt, min_samples_leaf=10, min_samples_split=15, n_estimators=1100; total time=   2.2s\n",
      "[CV] END max_depth=5, max_features=sqrt, min_samples_leaf=10, min_samples_split=15, n_estimators=1100; total time=   2.2s\n",
      "[CV] END max_depth=5, max_features=sqrt, min_samples_leaf=10, min_samples_split=15, n_estimators=1100; total time=   2.1s\n",
      "[CV] END max_depth=5, max_features=sqrt, min_samples_leaf=10, min_samples_split=15, n_estimators=1100; total time=   2.1s\n",
      "[CV] END max_depth=5, max_features=sqrt, min_samples_leaf=10, min_samples_split=15, n_estimators=1100; total time=   2.2s\n",
      "[CV] END max_depth=15, max_features=sqrt, min_samples_leaf=1, min_samples_split=15, n_estimators=300; total time=   1.1s\n",
      "[CV] END max_depth=15, max_features=sqrt, min_samples_leaf=1, min_samples_split=15, n_estimators=300; total time=   0.9s\n",
      "[CV] END max_depth=15, max_features=sqrt, min_samples_leaf=1, min_samples_split=15, n_estimators=300; total time=   1.0s\n",
      "[CV] END max_depth=15, max_features=sqrt, min_samples_leaf=1, min_samples_split=15, n_estimators=300; total time=   1.0s\n",
      "[CV] END max_depth=15, max_features=sqrt, min_samples_leaf=1, min_samples_split=15, n_estimators=300; total time=   0.9s\n",
      "[CV] END max_depth=5, max_features=sqrt, min_samples_leaf=2, min_samples_split=10, n_estimators=700; total time=   1.3s\n",
      "[CV] END max_depth=5, max_features=sqrt, min_samples_leaf=2, min_samples_split=10, n_estimators=700; total time=   1.3s\n",
      "[CV] END max_depth=5, max_features=sqrt, min_samples_leaf=2, min_samples_split=10, n_estimators=700; total time=   1.5s\n",
      "[CV] END max_depth=5, max_features=sqrt, min_samples_leaf=2, min_samples_split=10, n_estimators=700; total time=   1.2s\n",
      "[CV] END max_depth=5, max_features=sqrt, min_samples_leaf=2, min_samples_split=10, n_estimators=700; total time=   1.3s\n",
      "[CV] END max_depth=20, max_features=auto, min_samples_leaf=1, min_samples_split=15, n_estimators=700; total time=   8.9s\n",
      "[CV] END max_depth=20, max_features=auto, min_samples_leaf=1, min_samples_split=15, n_estimators=700; total time=   8.7s\n",
      "[CV] END max_depth=20, max_features=auto, min_samples_leaf=1, min_samples_split=15, n_estimators=700; total time=   8.6s\n",
      "[CV] END max_depth=20, max_features=auto, min_samples_leaf=1, min_samples_split=15, n_estimators=700; total time=   8.5s\n",
      "[CV] END max_depth=20, max_features=auto, min_samples_leaf=1, min_samples_split=15, n_estimators=700; total time=   8.5s\n"
     ]
    },
    {
     "data": {
      "text/plain": [
       "RandomizedSearchCV(cv=5, estimator=RandomForestRegressor(), n_jobs=1,\n",
       "                   param_distributions={'max_depth': [5, 10, 15, 20, 25, 30],\n",
       "                                        'max_features': ['auto', 'sqrt'],\n",
       "                                        'min_samples_leaf': [1, 2, 5, 10],\n",
       "                                        'min_samples_split': [2, 5, 10, 15,\n",
       "                                                              100],\n",
       "                                        'n_estimators': [100, 200, 300, 400,\n",
       "                                                         500, 600, 700, 800,\n",
       "                                                         900, 1000, 1100,\n",
       "                                                         1200]},\n",
       "                   random_state=42, scoring='neg_mean_squared_error',\n",
       "                   verbose=2)"
      ]
     },
     "execution_count": 67,
     "metadata": {},
     "output_type": "execute_result"
    }
   ],
   "source": [
    "rf_random.fit(new_X_train,y_train)"
   ]
  },
  {
   "cell_type": "code",
   "execution_count": 71,
   "id": "46c4faa1",
   "metadata": {},
   "outputs": [
    {
     "data": {
      "text/plain": [
       "{'n_estimators': 700,\n",
       " 'min_samples_split': 15,\n",
       " 'min_samples_leaf': 1,\n",
       " 'max_features': 'auto',\n",
       " 'max_depth': 20}"
      ]
     },
     "execution_count": 71,
     "metadata": {},
     "output_type": "execute_result"
    }
   ],
   "source": [
    "rf_random.best_params_"
   ]
  },
  {
   "cell_type": "code",
   "execution_count": 72,
   "id": "673aa7fe",
   "metadata": {},
   "outputs": [
    {
     "data": {
      "text/plain": [
       "-25722533142.4513"
      ]
     },
     "execution_count": 72,
     "metadata": {},
     "output_type": "execute_result"
    }
   ],
   "source": [
    "rf_random.best_score_"
   ]
  },
  {
   "cell_type": "code",
   "execution_count": 74,
   "id": "d793559e",
   "metadata": {},
   "outputs": [
    {
     "data": {
      "text/plain": [
       "<AxesSubplot:xlabel='selling_price', ylabel='Density'>"
      ]
     },
     "execution_count": 74,
     "metadata": {},
     "output_type": "execute_result"
    },
    {
     "data": {
      "image/png": "[encoded data removed]",
      "text/plain": [
       "<Figure size 432x288 with 1 Axes>"
      ]
     },
     "metadata": {
      "needs_background": "light"
     },
     "output_type": "display_data"
    }
   ],
   "source": [
    "pred_rf=rf_random.predict(new_X_test)\n",
    "sns.distplot(y_test-pred_rf)"
   ]
  },
  {
   "cell_type": "code",
   "execution_count": 75,
   "id": "b5c36fb9",
   "metadata": {},
   "outputs": [
    {
     "data": {
      "text/plain": [
       "<matplotlib.collections.PathCollection at 0x1c9eebeecd0>"
      ]
     },
     "execution_count": 75,
     "metadata": {},
     "output_type": "execute_result"
    },
    {
     "data": {
      "image/png": "[encoded data removed]",
      "text/plain": [
       "<Figure size 432x288 with 1 Axes>"
      ]
     },
     "metadata": {
      "needs_background": "light"
     },
     "output_type": "display_data"
    }
   ],
   "source": [
    "plt.scatter(y_test,pred_rf)"
   ]
  },
  {
   "cell_type": "code",
   "execution_count": 76,
   "id": "90f61fbb",
   "metadata": {},
   "outputs": [
    {
     "name": "stdout",
     "output_type": "stream",
     "text": [
      "MAE: 76937.42834699865\n",
      "MSE: 25951382703.019802\n",
      "RMSE: 161094.32858738324\n"
     ]
    }
   ],
   "source": [
    "from sklearn import metrics\n",
    "print('MAE:', metrics.mean_absolute_error(y_test, pred_rf))\n",
    "print('MSE:', metrics.mean_squared_error(y_test, pred_rf))\n",
    "print('RMSE:', np.sqrt(metrics.mean_squared_error(y_test, pred_rf)))"
   ]
  },
  {
   "cell_type": "code",
   "execution_count": 78,
   "id": "93337236",
   "metadata": {},
   "outputs": [
    {
     "data": {
      "text/plain": [
       "0.9598526704292425"
      ]
     },
     "execution_count": 78,
     "metadata": {},
     "output_type": "execute_result"
    }
   ],
   "source": [
    "r2_score(y_test,pred_rf)"
   ]
  },
  {
   "cell_type": "code",
   "execution_count": 77,
   "id": "47d5dd6d",
   "metadata": {},
   "outputs": [],
   "source": [
    "with open('Random_forest','wb') as file:\n",
    "    pickle.dump(rf_random,file)"
   ]
  }
 ],
 "metadata": {
  "kernelspec": {
   "display_name": "Python 3",
   "language": "python",
   "name": "python3"
  },
  "language_info": {
   "codemirror_mode": {
    "name": "ipython",
    "version": 3
   },
   "file_extension": ".py",
   "mimetype": "text/x-python",
   "name": "python",
   "nbconvert_exporter": "python",
   "pygments_lexer": "ipython3",
   "version": "3.8.10"
  }
 },
 "nbformat": 4,
 "nbformat_minor": 5
}
